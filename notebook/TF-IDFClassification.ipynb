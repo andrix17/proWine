{
  "nbformat": 4,
  "nbformat_minor": 0,
  "metadata": {
    "colab": {
      "name": "ProWine.ipynb",
      "provenance": [],
      "authorship_tag": "ABX9TyOKb+76iMMcj3uMc9Tbi6Gn",
      "include_colab_link": true
    },
    "kernelspec": {
      "display_name": "R",
      "name": "ir"
    }
  },
  "cells": [
    {
      "cell_type": "markdown",
      "metadata": {
        "id": "view-in-github",
        "colab_type": "text"
      },
      "source": [
        "<a href=\"https://colab.research.google.com/github/andrix17/proWine/blob/main/notebook/TF-IDFClassification.ipynb\" target=\"_parent\"><img src=\"https://colab.research.google.com/assets/colab-badge.svg\" alt=\"Open In Colab\"/></a>"
      ]
    },
    {
      "cell_type": "markdown",
      "metadata": {
        "id": "CldEq29b-wu3"
      },
      "source": [
        "# **ProWine Project: Classificatori su TF-IDF** \n",
        "Script R per analisi dei vitigni dei vini usando un dataset di recensioni preso da Kaggle https://www.kaggle.com/zynicide/wine-reviews selezionando solo i vitigni che si vogliono analizzare."
      ]
    },
    {
      "cell_type": "markdown",
      "metadata": {
        "id": "zDkUHJgPJQr4"
      },
      "source": [
        "## **Installazione librerie e download dei dati necessari**"
      ]
    },
    {
      "cell_type": "code",
      "metadata": {
        "colab": {
          "base_uri": "https://localhost:8080/"
        },
        "id": "t5Gct3sxISK5",
        "outputId": "422997a6-a580-4873-a2a9-a290d80e3bac"
      },
      "source": [
        "install.packages(\"lsa\")\n",
        "install.packages(\"tm\")\n",
        "install.packages(\"RWeka\")\n",
        "install.packages(\"stopwords\")\n",
        "install.packages(\"class\")\n",
        "install.packages(\"sda\")\n",
        "install.packages(\"parallel\")\n",
        "install.packages(\"naivebayes\")\n",
        "library(naivebayes)\n",
        "library(parallel)\n",
        "library(sda)\n",
        "library(class)\n",
        "library(tm)\n",
        "library(lsa)\n",
        "library(RWeka)\n",
        "library(stopwords)"
      ],
      "execution_count": 1,
      "outputs": [
        {
          "output_type": "stream",
          "text": [
            "Installing package into ‘/usr/local/lib/R/site-library’\n",
            "(as ‘lib’ is unspecified)\n",
            "\n",
            "also installing the dependency ‘SnowballC’\n",
            "\n",
            "\n",
            "Installing package into ‘/usr/local/lib/R/site-library’\n",
            "(as ‘lib’ is unspecified)\n",
            "\n",
            "also installing the dependencies ‘NLP’, ‘slam’\n",
            "\n",
            "\n",
            "Installing package into ‘/usr/local/lib/R/site-library’\n",
            "(as ‘lib’ is unspecified)\n",
            "\n",
            "also installing the dependencies ‘RWekajars’, ‘rJava’\n",
            "\n",
            "\n",
            "Installing package into ‘/usr/local/lib/R/site-library’\n",
            "(as ‘lib’ is unspecified)\n",
            "\n",
            "also installing the dependency ‘ISOcodes’\n",
            "\n",
            "\n",
            "Installing package into ‘/usr/local/lib/R/site-library’\n",
            "(as ‘lib’ is unspecified)\n",
            "\n",
            "Installing package into ‘/usr/local/lib/R/site-library’\n",
            "(as ‘lib’ is unspecified)\n",
            "\n",
            "also installing the dependencies ‘entropy’, ‘corpcor’, ‘fdrtool’\n",
            "\n",
            "\n",
            "Installing package into ‘/usr/local/lib/R/site-library’\n",
            "(as ‘lib’ is unspecified)\n",
            "\n",
            "Warning message:\n",
            "“package ‘parallel’ is a base package, and should not be updated”\n",
            "Installing package into ‘/usr/local/lib/R/site-library’\n",
            "(as ‘lib’ is unspecified)\n",
            "\n",
            "naivebayes 0.9.7 loaded\n",
            "\n",
            "Loading required package: entropy\n",
            "\n",
            "Loading required package: corpcor\n",
            "\n",
            "Loading required package: fdrtool\n",
            "\n",
            "Loading required package: NLP\n",
            "\n",
            "Loading required package: SnowballC\n",
            "\n",
            "\n",
            "Attaching package: ‘lsa’\n",
            "\n",
            "\n",
            "The following object is masked from ‘package:entropy’:\n",
            "\n",
            "    entropy\n",
            "\n",
            "\n",
            "\n",
            "Attaching package: ‘stopwords’\n",
            "\n",
            "\n",
            "The following object is masked from ‘package:tm’:\n",
            "\n",
            "    stopwords\n",
            "\n",
            "\n"
          ],
          "name": "stderr"
        }
      ]
    },
    {
      "cell_type": "code",
      "metadata": {
        "id": "Un5Lkh2LIWKt"
      },
      "source": [
        "#Aggiornare link da github\n",
        "download.file('https://raw.githubusercontent.com/andrix17/proWine/main/dataset/winemag-data-130k-v2.csv?token=AMASMTZ7YGLWFDAZN7ECKK3AYB4Y6','wineData.csv')"
      ],
      "execution_count": 3,
      "outputs": []
    },
    {
      "cell_type": "code",
      "metadata": {
        "id": "aQg4tNqzfBrz"
      },
      "source": [
        "wineData <- read.csv('wineData.csv')"
      ],
      "execution_count": 4,
      "outputs": []
    },
    {
      "cell_type": "markdown",
      "metadata": {
        "id": "MGE50-qLMA8d"
      },
      "source": [
        "## **Preparazione dati**"
      ]
    },
    {
      "cell_type": "code",
      "metadata": {
        "colab": {
          "base_uri": "https://localhost:8080/",
          "height": 627
        },
        "id": "zIllGju8kvlb",
        "outputId": "bcaec855-53f9-45ad-fc1c-5e0730f01dec"
      },
      "source": [
        "head(wineData)"
      ],
      "execution_count": 5,
      "outputs": [
        {
          "output_type": "display_data",
          "data": {
            "text/plain": [
              "  X country \n",
              "1 0 Italy   \n",
              "2 1 Portugal\n",
              "3 2 US      \n",
              "4 3 US      \n",
              "5 4 US      \n",
              "6 5 Spain   \n",
              "  description                                                                                                                                                                                                                                                          \n",
              "1 Aromas include tropical fruit, broom, brimstone and dried herb. The palate isn't overly expressive, offering unripened apple, citrus and dried sage alongside brisk acidity.                                                                                         \n",
              "2 This is ripe and fruity, a wine that is smooth while still structured. Firm tannins are filled out with juicy red berry fruits and freshened with acidity. It's  already drinkable, although it will certainly be better from 2016.                                  \n",
              "3 Tart and snappy, the flavors of lime flesh and rind dominate. Some green pineapple pokes through, with crisp acidity underscoring the flavors. The wine was all stainless-steel fermented.                                                                           \n",
              "4 Pineapple rind, lemon pith and orange blossom start off the aromas. The palate is a bit more opulent, with notes of honey-drizzled guava and mango giving way to a slightly astringent, semidry finish.                                                              \n",
              "5 Much like the regular bottling from 2012, this comes across as rather rough and tannic, with rustic, earthy, herbal characteristics. Nonetheless, if you think of it as a pleasantly unfussy country wine, it's a good companion to a hearty winter stew.            \n",
              "6 Blackberry and raspberry aromas show a typical Navarran whiff of green herbs and, in this case, horseradish. In the mouth, this is fairly full bodied, with tomatoey acidity. Spicy, herbal flavors complement dark plum fruit, while the finish is fresh but grabby.\n",
              "  designation                        points price province         \n",
              "1 Vulkà Bianco                       87     NA    Sicily & Sardinia\n",
              "2 Avidagos                           87     15    Douro            \n",
              "3                                    87     14    Oregon           \n",
              "4 Reserve Late Harvest               87     13    Michigan         \n",
              "5 Vintner's Reserve Wild Child Block 87     65    Oregon           \n",
              "6 Ars In Vitro                       87     15    Northern Spain   \n",
              "  region_1            region_2          taster_name       \n",
              "1 Etna                                  Kerin O’Keefe     \n",
              "2                                       Roger Voss        \n",
              "3 Willamette Valley   Willamette Valley Paul Gregutt      \n",
              "4 Lake Michigan Shore                   Alexander Peartree\n",
              "5 Willamette Valley   Willamette Valley Paul Gregutt      \n",
              "6 Navarra                               Michael Schachner \n",
              "  taster_twitter_handle\n",
              "1 @kerinokeefe         \n",
              "2 @vossroger           \n",
              "3 @paulgwine           \n",
              "4                      \n",
              "5 @paulgwine           \n",
              "6 @wineschach          \n",
              "  title                                                                              \n",
              "1 Nicosia 2013 Vulkà Bianco  (Etna)                                                  \n",
              "2 Quinta dos Avidagos 2011 Avidagos Red (Douro)                                      \n",
              "3 Rainstorm 2013 Pinot Gris (Willamette Valley)                                      \n",
              "4 St. Julian 2013 Reserve Late Harvest Riesling (Lake Michigan Shore)                \n",
              "5 Sweet Cheeks 2012 Vintner's Reserve Wild Child Block Pinot Noir (Willamette Valley)\n",
              "6 Tandem 2011 Ars In Vitro Tempranillo-Merlot (Navarra)                              \n",
              "  variety            winery             \n",
              "1 White Blend        Nicosia            \n",
              "2 Portuguese Red     Quinta dos Avidagos\n",
              "3 Pinot Gris         Rainstorm          \n",
              "4 Riesling           St. Julian         \n",
              "5 Pinot Noir         Sweet Cheeks       \n",
              "6 Tempranillo-Merlot Tandem             "
            ],
            "text/latex": "A data.frame: 6 × 14\n\\begin{tabular}{r|llllllllllllll}\n  & X & country & description & designation & points & price & province & region\\_1 & region\\_2 & taster\\_name & taster\\_twitter\\_handle & title & variety & winery\\\\\n  & <int> & <chr> & <chr> & <chr> & <int> & <dbl> & <chr> & <chr> & <chr> & <chr> & <chr> & <chr> & <chr> & <chr>\\\\\n\\hline\n\t1 & 0 & Italy    & Aromas include tropical fruit, broom, brimstone and dried herb. The palate isn't overly expressive, offering unripened apple, citrus and dried sage alongside brisk acidity.                                                                                          & Vulkà Bianco                       & 87 & NA & Sicily \\& Sardinia & Etna                &                   & Kerin O’Keefe      & @kerinokeefe & Nicosia 2013 Vulkà Bianco  (Etna)                                                   & White Blend        & Nicosia            \\\\\n\t2 & 1 & Portugal & This is ripe and fruity, a wine that is smooth while still structured. Firm tannins are filled out with juicy red berry fruits and freshened with acidity. It's  already drinkable, although it will certainly be better from 2016.                                   & Avidagos                           & 87 & 15 & Douro             &                     &                   & Roger Voss         & @vossroger   & Quinta dos Avidagos 2011 Avidagos Red (Douro)                                       & Portuguese Red     & Quinta dos Avidagos\\\\\n\t3 & 2 & US       & Tart and snappy, the flavors of lime flesh and rind dominate. Some green pineapple pokes through, with crisp acidity underscoring the flavors. The wine was all stainless-steel fermented.                                                                            &                                    & 87 & 14 & Oregon            & Willamette Valley   & Willamette Valley & Paul Gregutt       & @paulgwine   & Rainstorm 2013 Pinot Gris (Willamette Valley)                                       & Pinot Gris         & Rainstorm          \\\\\n\t4 & 3 & US       & Pineapple rind, lemon pith and orange blossom start off the aromas. The palate is a bit more opulent, with notes of honey-drizzled guava and mango giving way to a slightly astringent, semidry finish.                                                               & Reserve Late Harvest               & 87 & 13 & Michigan          & Lake Michigan Shore &                   & Alexander Peartree &              & St. Julian 2013 Reserve Late Harvest Riesling (Lake Michigan Shore)                 & Riesling           & St. Julian         \\\\\n\t5 & 4 & US       & Much like the regular bottling from 2012, this comes across as rather rough and tannic, with rustic, earthy, herbal characteristics. Nonetheless, if you think of it as a pleasantly unfussy country wine, it's a good companion to a hearty winter stew.             & Vintner's Reserve Wild Child Block & 87 & 65 & Oregon            & Willamette Valley   & Willamette Valley & Paul Gregutt       & @paulgwine   & Sweet Cheeks 2012 Vintner's Reserve Wild Child Block Pinot Noir (Willamette Valley) & Pinot Noir         & Sweet Cheeks       \\\\\n\t6 & 5 & Spain    & Blackberry and raspberry aromas show a typical Navarran whiff of green herbs and, in this case, horseradish. In the mouth, this is fairly full bodied, with tomatoey acidity. Spicy, herbal flavors complement dark plum fruit, while the finish is fresh but grabby. & Ars In Vitro                       & 87 & 15 & Northern Spain    & Navarra             &                   & Michael Schachner  & @wineschach  & Tandem 2011 Ars In Vitro Tempranillo-Merlot (Navarra)                               & Tempranillo-Merlot & Tandem             \\\\\n\\end{tabular}\n",
            "text/markdown": "\nA data.frame: 6 × 14\n\n| <!--/--> | X &lt;int&gt; | country &lt;chr&gt; | description &lt;chr&gt; | designation &lt;chr&gt; | points &lt;int&gt; | price &lt;dbl&gt; | province &lt;chr&gt; | region_1 &lt;chr&gt; | region_2 &lt;chr&gt; | taster_name &lt;chr&gt; | taster_twitter_handle &lt;chr&gt; | title &lt;chr&gt; | variety &lt;chr&gt; | winery &lt;chr&gt; |\n|---|---|---|---|---|---|---|---|---|---|---|---|---|---|---|\n| 1 | 0 | Italy    | Aromas include tropical fruit, broom, brimstone and dried herb. The palate isn't overly expressive, offering unripened apple, citrus and dried sage alongside brisk acidity.                                                                                          | Vulkà Bianco                       | 87 | NA | Sicily &amp; Sardinia | Etna                | <!----> | Kerin O’Keefe      | @kerinokeefe | Nicosia 2013 Vulkà Bianco  (Etna)                                                   | White Blend        | Nicosia             |\n| 2 | 1 | Portugal | This is ripe and fruity, a wine that is smooth while still structured. Firm tannins are filled out with juicy red berry fruits and freshened with acidity. It's  already drinkable, although it will certainly be better from 2016.                                   | Avidagos                           | 87 | 15 | Douro             | <!----> | <!----> | Roger Voss         | @vossroger   | Quinta dos Avidagos 2011 Avidagos Red (Douro)                                       | Portuguese Red     | Quinta dos Avidagos |\n| 3 | 2 | US       | Tart and snappy, the flavors of lime flesh and rind dominate. Some green pineapple pokes through, with crisp acidity underscoring the flavors. The wine was all stainless-steel fermented.                                                                            | <!----> | 87 | 14 | Oregon            | Willamette Valley   | Willamette Valley | Paul Gregutt       | @paulgwine   | Rainstorm 2013 Pinot Gris (Willamette Valley)                                       | Pinot Gris         | Rainstorm           |\n| 4 | 3 | US       | Pineapple rind, lemon pith and orange blossom start off the aromas. The palate is a bit more opulent, with notes of honey-drizzled guava and mango giving way to a slightly astringent, semidry finish.                                                               | Reserve Late Harvest               | 87 | 13 | Michigan          | Lake Michigan Shore | <!----> | Alexander Peartree | <!----> | St. Julian 2013 Reserve Late Harvest Riesling (Lake Michigan Shore)                 | Riesling           | St. Julian          |\n| 5 | 4 | US       | Much like the regular bottling from 2012, this comes across as rather rough and tannic, with rustic, earthy, herbal characteristics. Nonetheless, if you think of it as a pleasantly unfussy country wine, it's a good companion to a hearty winter stew.             | Vintner's Reserve Wild Child Block | 87 | 65 | Oregon            | Willamette Valley   | Willamette Valley | Paul Gregutt       | @paulgwine   | Sweet Cheeks 2012 Vintner's Reserve Wild Child Block Pinot Noir (Willamette Valley) | Pinot Noir         | Sweet Cheeks        |\n| 6 | 5 | Spain    | Blackberry and raspberry aromas show a typical Navarran whiff of green herbs and, in this case, horseradish. In the mouth, this is fairly full bodied, with tomatoey acidity. Spicy, herbal flavors complement dark plum fruit, while the finish is fresh but grabby. | Ars In Vitro                       | 87 | 15 | Northern Spain    | Navarra             | <!----> | Michael Schachner  | @wineschach  | Tandem 2011 Ars In Vitro Tempranillo-Merlot (Navarra)                               | Tempranillo-Merlot | Tandem              |\n\n",
            "text/html": [
              "<table class=\"dataframe\">\n",
              "<caption>A data.frame: 6 × 14</caption>\n",
              "<thead>\n",
              "\t<tr><th></th><th scope=col>X</th><th scope=col>country</th><th scope=col>description</th><th scope=col>designation</th><th scope=col>points</th><th scope=col>price</th><th scope=col>province</th><th scope=col>region_1</th><th scope=col>region_2</th><th scope=col>taster_name</th><th scope=col>taster_twitter_handle</th><th scope=col>title</th><th scope=col>variety</th><th scope=col>winery</th></tr>\n",
              "\t<tr><th></th><th scope=col>&lt;int&gt;</th><th scope=col>&lt;chr&gt;</th><th scope=col>&lt;chr&gt;</th><th scope=col>&lt;chr&gt;</th><th scope=col>&lt;int&gt;</th><th scope=col>&lt;dbl&gt;</th><th scope=col>&lt;chr&gt;</th><th scope=col>&lt;chr&gt;</th><th scope=col>&lt;chr&gt;</th><th scope=col>&lt;chr&gt;</th><th scope=col>&lt;chr&gt;</th><th scope=col>&lt;chr&gt;</th><th scope=col>&lt;chr&gt;</th><th scope=col>&lt;chr&gt;</th></tr>\n",
              "</thead>\n",
              "<tbody>\n",
              "\t<tr><th scope=row>1</th><td>0</td><td><span style=white-space:pre-wrap>Italy   </span></td><td><span style=white-space:pre-wrap>Aromas include tropical fruit, broom, brimstone and dried herb. The palate isn't overly expressive, offering unripened apple, citrus and dried sage alongside brisk acidity.                                                                                         </span></td><td><span style=white-space:pre-wrap>Vulkà Bianco                      </span></td><td>87</td><td>NA</td><td>Sicily &amp; Sardinia</td><td><span style=white-space:pre-wrap>Etna               </span></td><td><span style=white-space:pre-wrap>                 </span></td><td><span style=white-space:pre-wrap>Kerin O’Keefe     </span></td><td>@kerinokeefe</td><td><span style=white-space:pre-wrap>Nicosia 2013 Vulkà Bianco  (Etna)                                                  </span></td><td><span style=white-space:pre-wrap>White Blend       </span></td><td><span style=white-space:pre-wrap>Nicosia            </span></td></tr>\n",
              "\t<tr><th scope=row>2</th><td>1</td><td>Portugal</td><td>This is ripe and fruity, a wine that is smooth while still structured. Firm tannins are filled out with juicy red berry fruits and freshened with acidity. It's  already drinkable, although it will certainly be better from 2016.                                  </td><td>Avidagos                          </td><td>87</td><td>15</td><td>Douro            </td><td>                   </td><td>                 </td><td>Roger Voss        </td><td>@vossroger  </td><td>Quinta dos Avidagos 2011 Avidagos Red (Douro)                                      </td><td>Portuguese Red    </td><td>Quinta dos Avidagos</td></tr>\n",
              "\t<tr><th scope=row>3</th><td>2</td><td>US      </td><td>Tart and snappy, the flavors of lime flesh and rind dominate. Some green pineapple pokes through, with crisp acidity underscoring the flavors. The wine was all stainless-steel fermented.                                                                           </td><td>                                  </td><td>87</td><td>14</td><td>Oregon           </td><td>Willamette Valley  </td><td>Willamette Valley</td><td>Paul Gregutt      </td><td>@paulgwine  </td><td>Rainstorm 2013 Pinot Gris (Willamette Valley)                                      </td><td>Pinot Gris        </td><td>Rainstorm          </td></tr>\n",
              "\t<tr><th scope=row>4</th><td>3</td><td>US      </td><td>Pineapple rind, lemon pith and orange blossom start off the aromas. The palate is a bit more opulent, with notes of honey-drizzled guava and mango giving way to a slightly astringent, semidry finish.                                                              </td><td>Reserve Late Harvest              </td><td>87</td><td>13</td><td>Michigan         </td><td>Lake Michigan Shore</td><td>                 </td><td>Alexander Peartree</td><td>            </td><td>St. Julian 2013 Reserve Late Harvest Riesling (Lake Michigan Shore)                </td><td>Riesling          </td><td>St. Julian         </td></tr>\n",
              "\t<tr><th scope=row>5</th><td>4</td><td>US      </td><td>Much like the regular bottling from 2012, this comes across as rather rough and tannic, with rustic, earthy, herbal characteristics. Nonetheless, if you think of it as a pleasantly unfussy country wine, it's a good companion to a hearty winter stew.            </td><td>Vintner's Reserve Wild Child Block</td><td>87</td><td>65</td><td>Oregon           </td><td>Willamette Valley  </td><td>Willamette Valley</td><td>Paul Gregutt      </td><td>@paulgwine  </td><td>Sweet Cheeks 2012 Vintner's Reserve Wild Child Block Pinot Noir (Willamette Valley)</td><td>Pinot Noir        </td><td>Sweet Cheeks       </td></tr>\n",
              "\t<tr><th scope=row>6</th><td>5</td><td>Spain   </td><td>Blackberry and raspberry aromas show a typical Navarran whiff of green herbs and, in this case, horseradish. In the mouth, this is fairly full bodied, with tomatoey acidity. Spicy, herbal flavors complement dark plum fruit, while the finish is fresh but grabby.</td><td>Ars In Vitro                      </td><td>87</td><td>15</td><td>Northern Spain   </td><td>Navarra            </td><td>                 </td><td>Michael Schachner </td><td>@wineschach </td><td>Tandem 2011 Ars In Vitro Tempranillo-Merlot (Navarra)                              </td><td>Tempranillo-Merlot</td><td>Tandem             </td></tr>\n",
              "</tbody>\n",
              "</table>\n"
            ]
          },
          "metadata": {
            "tags": []
          }
        }
      ]
    },
    {
      "cell_type": "code",
      "metadata": {
        "colab": {
          "base_uri": "https://localhost:8080/",
          "height": 34
        },
        "id": "RXbLwAvTxOZK",
        "outputId": "17f3c86e-659a-41cf-f314-c7718055a5aa"
      },
      "source": [
        "nrow(wineData)"
      ],
      "execution_count": 6,
      "outputs": [
        {
          "output_type": "display_data",
          "data": {
            "text/plain": [
              "[1] 129971"
            ],
            "text/latex": "129971",
            "text/markdown": "129971",
            "text/html": [
              "129971"
            ]
          },
          "metadata": {
            "tags": []
          }
        }
      ]
    },
    {
      "cell_type": "markdown",
      "metadata": {
        "id": "D7el9_LSYvu1"
      },
      "source": [
        "### **Eliminazione duplicati**"
      ]
    },
    {
      "cell_type": "code",
      "metadata": {
        "id": "mzvgyZwQxWKy"
      },
      "source": [
        "wineData <- wineData[!duplicated(wineData$description), ]"
      ],
      "execution_count": 7,
      "outputs": []
    },
    {
      "cell_type": "code",
      "metadata": {
        "colab": {
          "base_uri": "https://localhost:8080/",
          "height": 34
        },
        "id": "HeAWtVU0zz2c",
        "outputId": "89ba370b-0ad9-40bb-83af-52138fca671c"
      },
      "source": [
        "nrow(wineData)"
      ],
      "execution_count": 8,
      "outputs": [
        {
          "output_type": "display_data",
          "data": {
            "text/plain": [
              "[1] 119955"
            ],
            "text/latex": "119955",
            "text/markdown": "119955",
            "text/html": [
              "119955"
            ]
          },
          "metadata": {
            "tags": []
          }
        }
      ]
    },
    {
      "cell_type": "markdown",
      "metadata": {
        "id": "p6FaP_IKcKzd"
      },
      "source": [
        "### **Trasformazione Shiraz in Syrah**"
      ]
    },
    {
      "cell_type": "code",
      "metadata": {
        "colab": {
          "base_uri": "https://localhost:8080/",
          "height": 281
        },
        "id": "But5DfJnk2MP",
        "outputId": "8582ab16-763b-4c36-bda5-c7e6bd82bf47"
      },
      "source": [
        "variety = wineData$variety\n",
        "variety[variety==\"Shiraz\"]= \"Syrah\"\n",
        "wines = wineData$winery\n",
        "reviews = wineData$description\n",
        "head(sort(table(variety), decreasing = T),20)"
      ],
      "execution_count": 9,
      "outputs": [
        {
          "output_type": "display_data",
          "data": {
            "text/plain": [
              "variety\n",
              "              Pinot Noir               Chardonnay       Cabernet Sauvignon \n",
              "                   12277                    10867                     8837 \n",
              "               Red Blend Bordeaux-style Red Blend                 Riesling \n",
              "                    8239                     6469                     4773 \n",
              "                   Syrah          Sauvignon Blanc                     Rosé \n",
              "                    4616                     4574                     3220 \n",
              "                  Merlot                 Nebbiolo                Zinfandel \n",
              "                    2895                     2602                     2530 \n",
              "              Sangiovese                   Malbec           Portuguese Red \n",
              "                    2460                     2446                     2282 \n",
              "             White Blend          Sparkling Blend              Tempranillo \n",
              "                    2179                     1971                     1671 \n",
              "   Rhône-style Red Blend               Pinot Gris \n",
              "                    1343                     1324 "
            ]
          },
          "metadata": {
            "tags": []
          }
        }
      ]
    },
    {
      "cell_type": "markdown",
      "metadata": {
        "id": "uinvma8AATgD"
      },
      "source": [
        "### **Selezione dei vitigni che si vogliono analizzare**"
      ]
    },
    {
      "cell_type": "code",
      "metadata": {
        "id": "XM_zS2XGkwGh"
      },
      "source": [
        "selection = variety==\"Pinot Noir\" | \n",
        "            variety==\"Chardonnay\" | \n",
        "            variety==\"Cabernet Sauvignon\" | \n",
        "            variety==\"Riesling\" | \n",
        "            variety==\"Sauvignon Blanc\" | \n",
        "            variety==\"Syrah\" | \n",
        "            variety==\"Merlot\" | \n",
        "            variety==\"Nebbiolo\" \n",
        "variety = variety[selection]\n",
        "reviews = reviews[selection]"
      ],
      "execution_count": 10,
      "outputs": []
    },
    {
      "cell_type": "code",
      "metadata": {
        "colab": {
          "base_uri": "https://localhost:8080/",
          "height": 34
        },
        "id": "WTpDb9pwn0Mm",
        "outputId": "f9bbe8ba-41f1-4e51-9b54-b7b573cce083"
      },
      "source": [
        "length(reviews)"
      ],
      "execution_count": 11,
      "outputs": [
        {
          "output_type": "display_data",
          "data": {
            "text/plain": [
              "[1] 51441"
            ],
            "text/latex": "51441",
            "text/markdown": "51441",
            "text/html": [
              "51441"
            ]
          },
          "metadata": {
            "tags": []
          }
        }
      ]
    },
    {
      "cell_type": "code",
      "metadata": {
        "colab": {
          "base_uri": "https://localhost:8080/"
        },
        "id": "bmlyC11FmaeC",
        "outputId": "84d9b2e2-6b03-4f45-8846-bc42820b9e47"
      },
      "source": [
        "corpus <- Corpus(VectorSource(reviews))\n",
        "inspect(corpus[1:5])"
      ],
      "execution_count": 12,
      "outputs": [
        {
          "output_type": "stream",
          "text": [
            "<<SimpleCorpus>>\n",
            "Metadata:  corpus specific: 1, document level (indexed): 0\n",
            "Content:  documents: 5\n",
            "\n",
            "[1] Pineapple rind, lemon pith and orange blossom start off the aromas. The palate is a bit more opulent, with notes of honey-drizzled guava and mango giving way to a slightly astringent, semidry finish.                                                                                                             \n",
            "[2] Much like the regular bottling from 2012, this comes across as rather rough and tannic, with rustic, earthy, herbal characteristics. Nonetheless, if you think of it as a pleasantly unfussy country wine, it's a good companion to a hearty winter stew.                                                           \n",
            "[3] Soft, supple plum envelopes an oaky structure in this Cabernet, supported by 15% Merlot. Coffee and chocolate complete the picture, finishing strong at the end, resulting in a value-priced wine of attractive flavor and immediate accessibility.                                                                 \n",
            "[4] Slightly reduced, this wine offers a chalky, tannic backbone to an otherwise juicy explosion of rich black cherry, the whole accented throughout by firm oak and cigar box.                                                                                                                                         \n",
            "[5] Building on 150 years and six generations of winemaking tradition, the winery trends toward a leaner style, with the classic California buttercream aroma cut by tart green apple. In this good everyday sipping wine, flavors that range from pear to barely ripe pineapple prove approachable but not distinctive.\n"
          ],
          "name": "stdout"
        }
      ]
    },
    {
      "cell_type": "markdown",
      "metadata": {
        "id": "0xxR1F83AngS"
      },
      "source": [
        "### **Trasformazione in lowercase**"
      ]
    },
    {
      "cell_type": "code",
      "metadata": {
        "colab": {
          "base_uri": "https://localhost:8080/"
        },
        "id": "IXXSRtuMuDqL",
        "outputId": "196e5b99-8bb7-412e-d987-2c42c2cc7d2a"
      },
      "source": [
        "corpus <- tm_map(corpus, tolower)\n",
        "inspect(corpus[1:5])"
      ],
      "execution_count": 13,
      "outputs": [
        {
          "output_type": "stream",
          "text": [
            "Warning message in tm_map.SimpleCorpus(corpus, tolower):\n",
            "“transformation drops documents”\n"
          ],
          "name": "stderr"
        },
        {
          "output_type": "stream",
          "text": [
            "<<SimpleCorpus>>\n",
            "Metadata:  corpus specific: 1, document level (indexed): 0\n",
            "Content:  documents: 5\n",
            "\n",
            "[1] pineapple rind, lemon pith and orange blossom start off the aromas. the palate is a bit more opulent, with notes of honey-drizzled guava and mango giving way to a slightly astringent, semidry finish.                                                                                                             \n",
            "[2] much like the regular bottling from 2012, this comes across as rather rough and tannic, with rustic, earthy, herbal characteristics. nonetheless, if you think of it as a pleasantly unfussy country wine, it's a good companion to a hearty winter stew.                                                           \n",
            "[3] soft, supple plum envelopes an oaky structure in this cabernet, supported by 15% merlot. coffee and chocolate complete the picture, finishing strong at the end, resulting in a value-priced wine of attractive flavor and immediate accessibility.                                                                 \n",
            "[4] slightly reduced, this wine offers a chalky, tannic backbone to an otherwise juicy explosion of rich black cherry, the whole accented throughout by firm oak and cigar box.                                                                                                                                         \n",
            "[5] building on 150 years and six generations of winemaking tradition, the winery trends toward a leaner style, with the classic california buttercream aroma cut by tart green apple. in this good everyday sipping wine, flavors that range from pear to barely ripe pineapple prove approachable but not distinctive.\n"
          ],
          "name": "stdout"
        }
      ]
    },
    {
      "cell_type": "markdown",
      "metadata": {
        "id": "GILcuzgOZcbC"
      },
      "source": [
        "### **Eliminazione stopword**\n"
      ]
    },
    {
      "cell_type": "code",
      "metadata": {
        "colab": {
          "base_uri": "https://localhost:8080/"
        },
        "id": "LXODbKgjErCa",
        "outputId": "7649d4f3-10fa-4df7-9d70-13e388e31eca"
      },
      "source": [
        "stopwordlist <- stopwords::stopwords(\"en\", source= \"stopwords-iso\")#Snowball, marimo, nltk, stopwords-iso, smart\n",
        "corpus <- tm_map(corpus, removeWords, stopwordlist)\n",
        "inspect(corpus[1:5])"
      ],
      "execution_count": 14,
      "outputs": [
        {
          "output_type": "stream",
          "text": [
            "Warning message in tm_map.SimpleCorpus(corpus, removeWords, stopwordlist):\n",
            "“transformation drops documents”\n"
          ],
          "name": "stderr"
        },
        {
          "output_type": "stream",
          "text": [
            "<<SimpleCorpus>>\n",
            "Metadata:  corpus specific: 1, document level (indexed): 0\n",
            "Content:  documents: 5\n",
            "\n",
            "[1] pineapple rind, lemon pith  orange blossom start   aromas.  palate   bit  opulent,  notes  honey-drizzled guava  mango      astringent, semidry finish.                                                                                                 \n",
            "[2]    regular bottling  2012,      rough  tannic,  rustic, earthy, herbal characteristics. ,        pleasantly unfussy country wine,    companion   hearty winter stew.                                                                                    \n",
            "[3] soft, supple plum envelopes  oaky structure   cabernet, supported  15% merlot. coffee  chocolate complete  picture, finishing strong   ,    -priced wine  attractive flavor   accessibility.                                                            \n",
            "[4]  reduced,  wine offers  chalky, tannic backbone    juicy explosion  rich black cherry,   accented   firm oak  cigar box.                                                                                                                                \n",
            "[5] building  150    generations  winemaking tradition,  winery trends   leaner style,   classic california buttercream aroma cut  tart green apple.    everyday sipping wine, flavors  range  pear  barely ripe pineapple prove approachable   distinctive.\n"
          ],
          "name": "stdout"
        }
      ]
    },
    {
      "cell_type": "markdown",
      "metadata": {
        "id": "Jv11fX8Wcvm8"
      },
      "source": [
        "### **Eliminazione punteggiatura**"
      ]
    },
    {
      "cell_type": "code",
      "metadata": {
        "colab": {
          "base_uri": "https://localhost:8080/"
        },
        "id": "luDhN0t-_sP3",
        "outputId": "fc2a19c0-02d2-402e-9ad2-cbbf3c281ca3"
      },
      "source": [
        "corpus <- tm_map(corpus, removePunctuation)\n",
        "inspect(corpus[1:5])"
      ],
      "execution_count": 15,
      "outputs": [
        {
          "output_type": "stream",
          "text": [
            "Warning message in tm_map.SimpleCorpus(corpus, removePunctuation):\n",
            "“transformation drops documents”\n"
          ],
          "name": "stderr"
        },
        {
          "output_type": "stream",
          "text": [
            "<<SimpleCorpus>>\n",
            "Metadata:  corpus specific: 1, document level (indexed): 0\n",
            "Content:  documents: 5\n",
            "\n",
            "[1] pineapple rind lemon pith  orange blossom start   aromas  palate   bit  opulent  notes  honeydrizzled guava  mango      astringent semidry finish                                                                                                  \n",
            "[2]    regular bottling  2012      rough  tannic  rustic earthy herbal characteristics         pleasantly unfussy country wine    companion   hearty winter stew                                                                                       \n",
            "[3] soft supple plum envelopes  oaky structure   cabernet supported  15 merlot coffee  chocolate complete  picture finishing strong       priced wine  attractive flavor   accessibility                                                               \n",
            "[4]  reduced  wine offers  chalky tannic backbone    juicy explosion  rich black cherry   accented   firm oak  cigar box                                                                                                                               \n",
            "[5] building  150    generations  winemaking tradition  winery trends   leaner style   classic california buttercream aroma cut  tart green apple    everyday sipping wine flavors  range  pear  barely ripe pineapple prove approachable   distinctive\n"
          ],
          "name": "stdout"
        }
      ]
    },
    {
      "cell_type": "markdown",
      "metadata": {
        "id": "AJZSFvh876O2"
      },
      "source": [
        "### **Split TrainingSet**"
      ]
    },
    {
      "cell_type": "code",
      "metadata": {
        "colab": {
          "base_uri": "https://localhost:8080/",
          "height": 0
        },
        "id": "AC0hkSYsBS2B",
        "outputId": "37f9faf6-ba44-486b-a168-3b5ca860067d"
      },
      "source": [
        "tdmc <- TermDocumentMatrix(corpus)\n",
        "tdmc"
      ],
      "execution_count": 16,
      "outputs": [
        {
          "output_type": "display_data",
          "data": {
            "text/plain": [
              "<<TermDocumentMatrix (terms: 25866, documents: 51441)>>\n",
              "Non-/sparse entries: 1097510/1329475396\n",
              "Sparsity           : 100%\n",
              "Maximal term length: 29\n",
              "Weighting          : term frequency (tf)"
            ]
          },
          "metadata": {
            "tags": []
          }
        }
      ]
    },
    {
      "cell_type": "code",
      "metadata": {
        "colab": {
          "base_uri": "https://localhost:8080/",
          "height": 0
        },
        "id": "Gf7yK4HduInp",
        "outputId": "5d55f2cf-573a-4644-dd05-aa3a3aac74b0"
      },
      "source": [
        "tdmc <- TermDocumentMatrix(corpus)\n",
        "smp_size <- floor(0.67 * ncol(tdmc))\n",
        "\n",
        "## set the seed to make your partition reproducible\n",
        "set.seed(123)\n",
        "train_index <- sample(seq_len(ncol(tdmc)), size = smp_size)\n",
        "\n",
        "train_tdmc <- tdmc[, train_index]\n",
        "test_tdmc <- tdmc[,-train_index]\n",
        "train_tdmc"
      ],
      "execution_count": 17,
      "outputs": [
        {
          "output_type": "display_data",
          "data": {
            "text/plain": [
              "<<TermDocumentMatrix (terms: 25866, documents: 34465)>>\n",
              "Non-/sparse entries: 734914/890736776\n",
              "Sparsity           : 100%\n",
              "Maximal term length: 29\n",
              "Weighting          : term frequency (tf)"
            ]
          },
          "metadata": {
            "tags": []
          }
        }
      ]
    },
    {
      "cell_type": "markdown",
      "metadata": {
        "id": "UiHEEVNJphTd"
      },
      "source": [
        "### **Eliminazione termini troppo sparsi**"
      ]
    },
    {
      "cell_type": "code",
      "metadata": {
        "colab": {
          "base_uri": "https://localhost:8080/",
          "height": 0
        },
        "id": "1b7__N_NMfIK",
        "outputId": "608d04d4-81d7-4c7b-de27-94a991716739"
      },
      "source": [
        "train_tdmTemp <- removeSparseTerms(train_tdmc, 0.995)\n",
        "train_tdmTemp"
      ],
      "execution_count": 18,
      "outputs": [
        {
          "output_type": "display_data",
          "data": {
            "text/plain": [
              "<<TermDocumentMatrix (terms: 672, documents: 34465)>>\n",
              "Non-/sparse entries: 544676/22615804\n",
              "Sparsity           : 98%\n",
              "Maximal term length: 15\n",
              "Weighting          : term frequency (tf)"
            ]
          },
          "metadata": {
            "tags": []
          }
        }
      ]
    },
    {
      "cell_type": "code",
      "metadata": {
        "colab": {
          "base_uri": "https://localhost:8080/",
          "height": 0
        },
        "id": "hh3NOId1xSBJ",
        "outputId": "04c8d806-e999-4944-e3d6-67496fe9a7aa"
      },
      "source": [
        "test_tdmTemp <- test_tdmc[rownames(train_tdmTemp),]\n",
        "test_tdmTemp"
      ],
      "execution_count": 19,
      "outputs": [
        {
          "output_type": "display_data",
          "data": {
            "text/plain": [
              "<<TermDocumentMatrix (terms: 672, documents: 16976)>>\n",
              "Non-/sparse entries: 268326/11139546\n",
              "Sparsity           : 98%\n",
              "Maximal term length: 15\n",
              "Weighting          : term frequency (tf)"
            ]
          },
          "metadata": {
            "tags": []
          }
        }
      ]
    },
    {
      "cell_type": "markdown",
      "metadata": {
        "id": "-SamuuK5rDFb"
      },
      "source": [
        "### **Applicazione del Term Weighting**"
      ]
    },
    {
      "cell_type": "code",
      "metadata": {
        "id": "9oyl60ZVPg3b",
        "colab": {
          "base_uri": "https://localhost:8080/",
          "height": 242
        },
        "outputId": "6603d774-a19d-44df-a1dd-64cc0b8312da"
      },
      "source": [
        "train_tdm <-as.matrix(train_tdmTemp)\n",
        "train_tdmPesata <-lw_logtf(train_tdm) * ( 1 - entropy( train_tdm) )\n",
        "head(train_tdmPesata)"
      ],
      "execution_count": 20,
      "outputs": [
        {
          "output_type": "display_data",
          "data": {
            "text/plain": [
              "           2986 29925 29710     37529      2757      45404      46435 38938\n",
              "aromas     0    0     0.0944491 0.00000000 0.0944491 0.00000000 0     0    \n",
              "astringent 0    0     0.0000000 0.00000000 0.0000000 0.00000000 0     0    \n",
              "bit        0    0     0.0000000 0.19615284 0.0000000 0.00000000 0     0    \n",
              "blossom    0    0     0.0000000 0.00000000 0.0000000 0.00000000 0     0    \n",
              "finish     0    0     0.0000000 0.08714448 0.0000000 0.08714448 0     0    \n",
              "guava      0    0     0.0000000 0.00000000 0.0000000 0.00000000 0     0    \n",
              "           9642 31313 ⋯ 16935      27444     16573     42678 6282 212\n",
              "aromas     0    0     ⋯ 0.00000000 0.0944491 0.0944491 0     0    0  \n",
              "astringent 0    0     ⋯ 0.00000000 0.0000000 0.0000000 0     0    0  \n",
              "bit        0    0     ⋯ 0.00000000 0.0000000 0.0000000 0     0    0  \n",
              "blossom    0    0     ⋯ 0.00000000 0.0000000 0.0000000 0     0    0  \n",
              "finish     0    0     ⋯ 0.08714448 0.0000000 0.0000000 0     0    0  \n",
              "guava      0    0     ⋯ 0.00000000 0.0000000 0.0000000 0     0    0  \n",
              "           46565      37584 16562 37860\n",
              "aromas     0.00000000 0     0     0    \n",
              "astringent 0.00000000 0     0     0    \n",
              "bit        0.00000000 0     0     0    \n",
              "blossom    0.00000000 0     0     0    \n",
              "finish     0.08714448 0     0     0    \n",
              "guava      0.00000000 0     0     0    "
            ],
            "text/latex": "A matrix: 6 × 34465 of type dbl\n\\begin{tabular}{r|lllllllllllllllllllll}\n  & 2986 & 29925 & 29710 & 37529 & 2757 & 45404 & 46435 & 38938 & 9642 & 31313 & ⋯ & 16935 & 27444 & 16573 & 42678 & 6282 & 212 & 46565 & 37584 & 16562 & 37860\\\\\n\\hline\n\taromas & 0 & 0 & 0.0944491 & 0.00000000 & 0.0944491 & 0.00000000 & 0 & 0 & 0 & 0 & ⋯ & 0.00000000 & 0.0944491 & 0.0944491 & 0 & 0 & 0 & 0.00000000 & 0 & 0 & 0\\\\\n\tastringent & 0 & 0 & 0.0000000 & 0.00000000 & 0.0000000 & 0.00000000 & 0 & 0 & 0 & 0 & ⋯ & 0.00000000 & 0.0000000 & 0.0000000 & 0 & 0 & 0 & 0.00000000 & 0 & 0 & 0\\\\\n\tbit & 0 & 0 & 0.0000000 & 0.19615284 & 0.0000000 & 0.00000000 & 0 & 0 & 0 & 0 & ⋯ & 0.00000000 & 0.0000000 & 0.0000000 & 0 & 0 & 0 & 0.00000000 & 0 & 0 & 0\\\\\n\tblossom & 0 & 0 & 0.0000000 & 0.00000000 & 0.0000000 & 0.00000000 & 0 & 0 & 0 & 0 & ⋯ & 0.00000000 & 0.0000000 & 0.0000000 & 0 & 0 & 0 & 0.00000000 & 0 & 0 & 0\\\\\n\tfinish & 0 & 0 & 0.0000000 & 0.08714448 & 0.0000000 & 0.08714448 & 0 & 0 & 0 & 0 & ⋯ & 0.08714448 & 0.0000000 & 0.0000000 & 0 & 0 & 0 & 0.08714448 & 0 & 0 & 0\\\\\n\tguava & 0 & 0 & 0.0000000 & 0.00000000 & 0.0000000 & 0.00000000 & 0 & 0 & 0 & 0 & ⋯ & 0.00000000 & 0.0000000 & 0.0000000 & 0 & 0 & 0 & 0.00000000 & 0 & 0 & 0\\\\\n\\end{tabular}\n",
            "text/markdown": "\nA matrix: 6 × 34465 of type dbl\n\n| <!--/--> | 2986 | 29925 | 29710 | 37529 | 2757 | 45404 | 46435 | 38938 | 9642 | 31313 | ⋯ | 16935 | 27444 | 16573 | 42678 | 6282 | 212 | 46565 | 37584 | 16562 | 37860 |\n|---|---|---|---|---|---|---|---|---|---|---|---|---|---|---|---|---|---|---|---|---|---|\n| aromas | 0 | 0 | 0.0944491 | 0.00000000 | 0.0944491 | 0.00000000 | 0 | 0 | 0 | 0 | ⋯ | 0.00000000 | 0.0944491 | 0.0944491 | 0 | 0 | 0 | 0.00000000 | 0 | 0 | 0 |\n| astringent | 0 | 0 | 0.0000000 | 0.00000000 | 0.0000000 | 0.00000000 | 0 | 0 | 0 | 0 | ⋯ | 0.00000000 | 0.0000000 | 0.0000000 | 0 | 0 | 0 | 0.00000000 | 0 | 0 | 0 |\n| bit | 0 | 0 | 0.0000000 | 0.19615284 | 0.0000000 | 0.00000000 | 0 | 0 | 0 | 0 | ⋯ | 0.00000000 | 0.0000000 | 0.0000000 | 0 | 0 | 0 | 0.00000000 | 0 | 0 | 0 |\n| blossom | 0 | 0 | 0.0000000 | 0.00000000 | 0.0000000 | 0.00000000 | 0 | 0 | 0 | 0 | ⋯ | 0.00000000 | 0.0000000 | 0.0000000 | 0 | 0 | 0 | 0.00000000 | 0 | 0 | 0 |\n| finish | 0 | 0 | 0.0000000 | 0.08714448 | 0.0000000 | 0.08714448 | 0 | 0 | 0 | 0 | ⋯ | 0.08714448 | 0.0000000 | 0.0000000 | 0 | 0 | 0 | 0.08714448 | 0 | 0 | 0 |\n| guava | 0 | 0 | 0.0000000 | 0.00000000 | 0.0000000 | 0.00000000 | 0 | 0 | 0 | 0 | ⋯ | 0.00000000 | 0.0000000 | 0.0000000 | 0 | 0 | 0 | 0.00000000 | 0 | 0 | 0 |\n\n",
            "text/html": [
              "<table class=\"dataframe\">\n",
              "<caption>A matrix: 6 × 34465 of type dbl</caption>\n",
              "<thead>\n",
              "\t<tr><th></th><th scope=col>2986</th><th scope=col>29925</th><th scope=col>29710</th><th scope=col>37529</th><th scope=col>2757</th><th scope=col>45404</th><th scope=col>46435</th><th scope=col>38938</th><th scope=col>9642</th><th scope=col>31313</th><th scope=col>⋯</th><th scope=col>16935</th><th scope=col>27444</th><th scope=col>16573</th><th scope=col>42678</th><th scope=col>6282</th><th scope=col>212</th><th scope=col>46565</th><th scope=col>37584</th><th scope=col>16562</th><th scope=col>37860</th></tr>\n",
              "</thead>\n",
              "<tbody>\n",
              "\t<tr><th scope=row>aromas</th><td>0</td><td>0</td><td>0.0944491</td><td>0.00000000</td><td>0.0944491</td><td>0.00000000</td><td>0</td><td>0</td><td>0</td><td>0</td><td>⋯</td><td>0.00000000</td><td>0.0944491</td><td>0.0944491</td><td>0</td><td>0</td><td>0</td><td>0.00000000</td><td>0</td><td>0</td><td>0</td></tr>\n",
              "\t<tr><th scope=row>astringent</th><td>0</td><td>0</td><td>0.0000000</td><td>0.00000000</td><td>0.0000000</td><td>0.00000000</td><td>0</td><td>0</td><td>0</td><td>0</td><td>⋯</td><td>0.00000000</td><td>0.0000000</td><td>0.0000000</td><td>0</td><td>0</td><td>0</td><td>0.00000000</td><td>0</td><td>0</td><td>0</td></tr>\n",
              "\t<tr><th scope=row>bit</th><td>0</td><td>0</td><td>0.0000000</td><td>0.19615284</td><td>0.0000000</td><td>0.00000000</td><td>0</td><td>0</td><td>0</td><td>0</td><td>⋯</td><td>0.00000000</td><td>0.0000000</td><td>0.0000000</td><td>0</td><td>0</td><td>0</td><td>0.00000000</td><td>0</td><td>0</td><td>0</td></tr>\n",
              "\t<tr><th scope=row>blossom</th><td>0</td><td>0</td><td>0.0000000</td><td>0.00000000</td><td>0.0000000</td><td>0.00000000</td><td>0</td><td>0</td><td>0</td><td>0</td><td>⋯</td><td>0.00000000</td><td>0.0000000</td><td>0.0000000</td><td>0</td><td>0</td><td>0</td><td>0.00000000</td><td>0</td><td>0</td><td>0</td></tr>\n",
              "\t<tr><th scope=row>finish</th><td>0</td><td>0</td><td>0.0000000</td><td>0.08714448</td><td>0.0000000</td><td>0.08714448</td><td>0</td><td>0</td><td>0</td><td>0</td><td>⋯</td><td>0.08714448</td><td>0.0000000</td><td>0.0000000</td><td>0</td><td>0</td><td>0</td><td>0.08714448</td><td>0</td><td>0</td><td>0</td></tr>\n",
              "\t<tr><th scope=row>guava</th><td>0</td><td>0</td><td>0.0000000</td><td>0.00000000</td><td>0.0000000</td><td>0.00000000</td><td>0</td><td>0</td><td>0</td><td>0</td><td>⋯</td><td>0.00000000</td><td>0.0000000</td><td>0.0000000</td><td>0</td><td>0</td><td>0</td><td>0.00000000</td><td>0</td><td>0</td><td>0</td></tr>\n",
              "</tbody>\n",
              "</table>\n"
            ]
          },
          "metadata": {
            "tags": []
          }
        }
      ]
    },
    {
      "cell_type": "code",
      "metadata": {
        "colab": {
          "base_uri": "https://localhost:8080/",
          "height": 242
        },
        "id": "htBQCQX40zYP",
        "outputId": "47c7c885-fa2b-4b18-f5e5-78546e480ac9"
      },
      "source": [
        "test_tdm <-as.matrix(test_tdmTemp)\n",
        "test_tdmPesata <-lw_logtf(test_tdm) * ( 1 - entropy( train_tdm) )\n",
        "head(test_tdmPesata)"
      ],
      "execution_count": 21,
      "outputs": [
        {
          "output_type": "display_data",
          "data": {
            "text/plain": [
              "           1          4 9         13 15         20         23 27 29         34\n",
              "aromas     0.09444910 0 0.0944491 0  0.00000000 0.09444910 0  0  0.09444910 0 \n",
              "astringent 0.29922444 0 0.0000000 0  0.00000000 0.00000000 0  0  0.00000000 0 \n",
              "bit        0.19615284 0 0.0000000 0  0.00000000 0.00000000 0  0  0.00000000 0 \n",
              "blossom    0.29564659 0 0.0000000 0  0.00000000 0.00000000 0  0  0.00000000 0 \n",
              "finish     0.08714448 0 0.0000000 0  0.08714448 0.08714448 0  0  0.08714448 0 \n",
              "guava      0.34672742 0 0.0000000 0  0.00000000 0.00000000 0  0  0.00000000 0 \n",
              "           ⋯ 51418      51419 51420 51423      51428 51429 51433     51435\n",
              "aromas     ⋯ 0.00000000 0     0     0.00000000 0     0     0.0944491 0    \n",
              "astringent ⋯ 0.00000000 0     0     0.00000000 0     0     0.0000000 0    \n",
              "bit        ⋯ 0.00000000 0     0     0.00000000 0     0     0.0000000 0    \n",
              "blossom    ⋯ 0.00000000 0     0     0.00000000 0     0     0.0000000 0    \n",
              "finish     ⋯ 0.08714448 0     0     0.08714448 0     0     0.0000000 0    \n",
              "guava      ⋯ 0.00000000 0     0     0.00000000 0     0     0.0000000 0    \n",
              "           51436 51438\n",
              "aromas     0     0    \n",
              "astringent 0     0    \n",
              "bit        0     0    \n",
              "blossom    0     0    \n",
              "finish     0     0    \n",
              "guava      0     0    "
            ],
            "text/latex": "A matrix: 6 × 16976 of type dbl\n\\begin{tabular}{r|lllllllllllllllllllll}\n  & 1 & 4 & 9 & 13 & 15 & 20 & 23 & 27 & 29 & 34 & ⋯ & 51418 & 51419 & 51420 & 51423 & 51428 & 51429 & 51433 & 51435 & 51436 & 51438\\\\\n\\hline\n\taromas & 0.09444910 & 0 & 0.0944491 & 0 & 0.00000000 & 0.09444910 & 0 & 0 & 0.09444910 & 0 & ⋯ & 0.00000000 & 0 & 0 & 0.00000000 & 0 & 0 & 0.0944491 & 0 & 0 & 0\\\\\n\tastringent & 0.29922444 & 0 & 0.0000000 & 0 & 0.00000000 & 0.00000000 & 0 & 0 & 0.00000000 & 0 & ⋯ & 0.00000000 & 0 & 0 & 0.00000000 & 0 & 0 & 0.0000000 & 0 & 0 & 0\\\\\n\tbit & 0.19615284 & 0 & 0.0000000 & 0 & 0.00000000 & 0.00000000 & 0 & 0 & 0.00000000 & 0 & ⋯ & 0.00000000 & 0 & 0 & 0.00000000 & 0 & 0 & 0.0000000 & 0 & 0 & 0\\\\\n\tblossom & 0.29564659 & 0 & 0.0000000 & 0 & 0.00000000 & 0.00000000 & 0 & 0 & 0.00000000 & 0 & ⋯ & 0.00000000 & 0 & 0 & 0.00000000 & 0 & 0 & 0.0000000 & 0 & 0 & 0\\\\\n\tfinish & 0.08714448 & 0 & 0.0000000 & 0 & 0.08714448 & 0.08714448 & 0 & 0 & 0.08714448 & 0 & ⋯ & 0.08714448 & 0 & 0 & 0.08714448 & 0 & 0 & 0.0000000 & 0 & 0 & 0\\\\\n\tguava & 0.34672742 & 0 & 0.0000000 & 0 & 0.00000000 & 0.00000000 & 0 & 0 & 0.00000000 & 0 & ⋯ & 0.00000000 & 0 & 0 & 0.00000000 & 0 & 0 & 0.0000000 & 0 & 0 & 0\\\\\n\\end{tabular}\n",
            "text/markdown": "\nA matrix: 6 × 16976 of type dbl\n\n| <!--/--> | 1 | 4 | 9 | 13 | 15 | 20 | 23 | 27 | 29 | 34 | ⋯ | 51418 | 51419 | 51420 | 51423 | 51428 | 51429 | 51433 | 51435 | 51436 | 51438 |\n|---|---|---|---|---|---|---|---|---|---|---|---|---|---|---|---|---|---|---|---|---|---|\n| aromas | 0.09444910 | 0 | 0.0944491 | 0 | 0.00000000 | 0.09444910 | 0 | 0 | 0.09444910 | 0 | ⋯ | 0.00000000 | 0 | 0 | 0.00000000 | 0 | 0 | 0.0944491 | 0 | 0 | 0 |\n| astringent | 0.29922444 | 0 | 0.0000000 | 0 | 0.00000000 | 0.00000000 | 0 | 0 | 0.00000000 | 0 | ⋯ | 0.00000000 | 0 | 0 | 0.00000000 | 0 | 0 | 0.0000000 | 0 | 0 | 0 |\n| bit | 0.19615284 | 0 | 0.0000000 | 0 | 0.00000000 | 0.00000000 | 0 | 0 | 0.00000000 | 0 | ⋯ | 0.00000000 | 0 | 0 | 0.00000000 | 0 | 0 | 0.0000000 | 0 | 0 | 0 |\n| blossom | 0.29564659 | 0 | 0.0000000 | 0 | 0.00000000 | 0.00000000 | 0 | 0 | 0.00000000 | 0 | ⋯ | 0.00000000 | 0 | 0 | 0.00000000 | 0 | 0 | 0.0000000 | 0 | 0 | 0 |\n| finish | 0.08714448 | 0 | 0.0000000 | 0 | 0.08714448 | 0.08714448 | 0 | 0 | 0.08714448 | 0 | ⋯ | 0.08714448 | 0 | 0 | 0.08714448 | 0 | 0 | 0.0000000 | 0 | 0 | 0 |\n| guava | 0.34672742 | 0 | 0.0000000 | 0 | 0.00000000 | 0.00000000 | 0 | 0 | 0.00000000 | 0 | ⋯ | 0.00000000 | 0 | 0 | 0.00000000 | 0 | 0 | 0.0000000 | 0 | 0 | 0 |\n\n",
            "text/html": [
              "<table class=\"dataframe\">\n",
              "<caption>A matrix: 6 × 16976 of type dbl</caption>\n",
              "<thead>\n",
              "\t<tr><th></th><th scope=col>1</th><th scope=col>4</th><th scope=col>9</th><th scope=col>13</th><th scope=col>15</th><th scope=col>20</th><th scope=col>23</th><th scope=col>27</th><th scope=col>29</th><th scope=col>34</th><th scope=col>⋯</th><th scope=col>51418</th><th scope=col>51419</th><th scope=col>51420</th><th scope=col>51423</th><th scope=col>51428</th><th scope=col>51429</th><th scope=col>51433</th><th scope=col>51435</th><th scope=col>51436</th><th scope=col>51438</th></tr>\n",
              "</thead>\n",
              "<tbody>\n",
              "\t<tr><th scope=row>aromas</th><td>0.09444910</td><td>0</td><td>0.0944491</td><td>0</td><td>0.00000000</td><td>0.09444910</td><td>0</td><td>0</td><td>0.09444910</td><td>0</td><td>⋯</td><td>0.00000000</td><td>0</td><td>0</td><td>0.00000000</td><td>0</td><td>0</td><td>0.0944491</td><td>0</td><td>0</td><td>0</td></tr>\n",
              "\t<tr><th scope=row>astringent</th><td>0.29922444</td><td>0</td><td>0.0000000</td><td>0</td><td>0.00000000</td><td>0.00000000</td><td>0</td><td>0</td><td>0.00000000</td><td>0</td><td>⋯</td><td>0.00000000</td><td>0</td><td>0</td><td>0.00000000</td><td>0</td><td>0</td><td>0.0000000</td><td>0</td><td>0</td><td>0</td></tr>\n",
              "\t<tr><th scope=row>bit</th><td>0.19615284</td><td>0</td><td>0.0000000</td><td>0</td><td>0.00000000</td><td>0.00000000</td><td>0</td><td>0</td><td>0.00000000</td><td>0</td><td>⋯</td><td>0.00000000</td><td>0</td><td>0</td><td>0.00000000</td><td>0</td><td>0</td><td>0.0000000</td><td>0</td><td>0</td><td>0</td></tr>\n",
              "\t<tr><th scope=row>blossom</th><td>0.29564659</td><td>0</td><td>0.0000000</td><td>0</td><td>0.00000000</td><td>0.00000000</td><td>0</td><td>0</td><td>0.00000000</td><td>0</td><td>⋯</td><td>0.00000000</td><td>0</td><td>0</td><td>0.00000000</td><td>0</td><td>0</td><td>0.0000000</td><td>0</td><td>0</td><td>0</td></tr>\n",
              "\t<tr><th scope=row>finish</th><td>0.08714448</td><td>0</td><td>0.0000000</td><td>0</td><td>0.08714448</td><td>0.08714448</td><td>0</td><td>0</td><td>0.08714448</td><td>0</td><td>⋯</td><td>0.08714448</td><td>0</td><td>0</td><td>0.08714448</td><td>0</td><td>0</td><td>0.0000000</td><td>0</td><td>0</td><td>0</td></tr>\n",
              "\t<tr><th scope=row>guava</th><td>0.34672742</td><td>0</td><td>0.0000000</td><td>0</td><td>0.00000000</td><td>0.00000000</td><td>0</td><td>0</td><td>0.00000000</td><td>0</td><td>⋯</td><td>0.00000000</td><td>0</td><td>0</td><td>0.00000000</td><td>0</td><td>0</td><td>0.0000000</td><td>0</td><td>0</td><td>0</td></tr>\n",
              "</tbody>\n",
              "</table>\n"
            ]
          },
          "metadata": {
            "tags": []
          }
        }
      ]
    },
    {
      "cell_type": "markdown",
      "metadata": {
        "id": "7hk8t5P--X1R"
      },
      "source": [
        "### **Eliminazione reviews con nessun termine**"
      ]
    },
    {
      "cell_type": "code",
      "metadata": {
        "id": "UBArFr5OvHES"
      },
      "source": [
        "train_tdmFinal <- train_tdmPesata[,apply(train_tdmPesata, 2, function(x) !all(x==rep(0, nrow(train_tdmPesata))))]\n",
        "test_tdmFinal <- test_tdmPesata[,apply(test_tdmPesata, 2, function(x) !all(x==rep(0, nrow(test_tdmPesata))))]"
      ],
      "execution_count": 22,
      "outputs": []
    },
    {
      "cell_type": "code",
      "metadata": {
        "id": "Xphy7b_T5QfL"
      },
      "source": [
        "train_variety <- variety[sapply(colnames(train_tdmFinal),strtoi)]\n",
        "test_variety <- variety[sapply(colnames(test_tdmFinal),strtoi)]\n",
        "train_reviews <- reviews[sapply(colnames(train_tdmFinal),strtoi)]\n",
        "test_reviews <- reviews[sapply(colnames(test_tdmFinal),strtoi)]"
      ],
      "execution_count": 23,
      "outputs": []
    },
    {
      "cell_type": "markdown",
      "metadata": {
        "id": "g5SbTZR4d5yn"
      },
      "source": [
        "## **Classificatori su TF-IDF**"
      ]
    },
    {
      "cell_type": "markdown",
      "metadata": {
        "id": "Cay6i0WH-LA7"
      },
      "source": [
        "### **Rocchio**"
      ]
    },
    {
      "cell_type": "code",
      "metadata": {
        "colab": {
          "base_uri": "https://localhost:8080/"
        },
        "id": "UioBzoxjelcc",
        "outputId": "c2e45dbb-88d1-4449-ad27-3c4f5d343d12"
      },
      "source": [
        "centroids <- t (centroids(t(train_tdmFinal), train_variety, lambda.var = 0, lambda.freqs = 0)$means)"
      ],
      "execution_count": null,
      "outputs": [
        {
          "output_type": "stream",
          "text": [
            "Number of variables: 672 \n",
            "Number of observations: 34462 \n",
            "Number of classes: 8 \n",
            "\n",
            "Specified shrinkage intensity lambda.freq (frequencies): 0 \n",
            "Estimating variances (pooled across classes)\n",
            "Specified shrinkage intensity lambda.var (variance vector): 0 \n",
            "\n"
          ],
          "name": "stdout"
        }
      ]
    },
    {
      "cell_type": "code",
      "metadata": {
        "id": "ys0hBymGgL_j"
      },
      "source": [
        "varietyResult <- apply(test_tdmFinal,2,function(x) rownames(centroids)[which.max(cosine(cbind(t(centroids),x))[10,1:8])])"
      ],
      "execution_count": null,
      "outputs": []
    },
    {
      "cell_type": "code",
      "metadata": {
        "colab": {
          "base_uri": "https://localhost:8080/"
        },
        "id": "wlxKkHrUv6AZ",
        "outputId": "c15e1366-894b-4054-bb79-aa56ff0b44ee"
      },
      "source": [
        "print(paste(\"Accuracy:\", sum(varietyResult == test_variety)/length(test_variety)))"
      ],
      "execution_count": null,
      "outputs": [
        {
          "output_type": "stream",
          "text": [
            "[1] \"Accuracy: 0.765419734904271\"\n"
          ],
          "name": "stdout"
        }
      ]
    },
    {
      "cell_type": "code",
      "metadata": {
        "colab": {
          "base_uri": "https://localhost:8080/"
        },
        "id": "e2NCG1wXw4b_",
        "outputId": "c3b68794-6929-4d24-dc49-0cd428d4b8dc"
      },
      "source": [
        "for (x in unique(test_variety)){\n",
        "  precision <- sum(test_variety[varietyResult==x]==x)/sum(varietyResult==x)\n",
        "  recall <- sum(varietyResult[test_variety==x]==x)/sum(test_variety==x)\n",
        "  f1 <- precision*recall*2/(precision+recall)\n",
        "  print(x)\n",
        "  print(paste(\"Precision: \",precision))\n",
        "  print(paste(\"Recall: \",recall))\n",
        "  print(paste(\"F1-Measure: \",f1))\n",
        "  }"
      ],
      "execution_count": null,
      "outputs": [
        {
          "output_type": "stream",
          "text": [
            "[1] \"Riesling\"\n",
            "[1] \"Precision:  0.776047904191617\"\n",
            "[1] \"Recall:  0.837750484809308\"\n",
            "[1] \"F1-Measure:  0.805719614547715\"\n",
            "[1] \"Cabernet Sauvignon\"\n",
            "[1] \"Precision:  0.787631271878646\"\n",
            "[1] \"Recall:  0.683428957138036\"\n",
            "[1] \"F1-Measure:  0.731839537405132\"\n",
            "[1] \"Pinot Noir\"\n",
            "[1] \"Precision:  0.858701298701299\"\n",
            "[1] \"Recall:  0.811487481590574\"\n",
            "[1] \"F1-Measure:  0.834427057041898\"\n",
            "[1] \"Merlot\"\n",
            "[1] \"Precision:  0.488593155893536\"\n",
            "[1] \"Recall:  0.549732620320856\"\n",
            "[1] \"F1-Measure:  0.517362858580775\"\n",
            "[1] \"Chardonnay\"\n",
            "[1] \"Precision:  0.847521865889213\"\n",
            "[1] \"Recall:  0.825617722238001\"\n",
            "[1] \"F1-Measure:  0.836426413465688\"\n",
            "[1] \"Syrah\"\n",
            "[1] \"Precision:  0.628066172276098\"\n",
            "[1] \"Recall:  0.691582914572864\"\n",
            "[1] \"F1-Measure:  0.658295964125561\"\n",
            "[1] \"Sauvignon Blanc\"\n",
            "[1] \"Precision:  0.689138576779026\"\n",
            "[1] \"Recall:  0.724885095206829\"\n",
            "[1] \"F1-Measure:  0.70656\"\n",
            "[1] \"Nebbiolo\"\n",
            "[1] \"Precision:  0.706781279847182\"\n",
            "[1] \"Recall:  0.902439024390244\"\n",
            "[1] \"F1-Measure:  0.79271558650241\"\n"
          ],
          "name": "stdout"
        }
      ]
    },
    {
      "cell_type": "markdown",
      "metadata": {
        "id": "InTErCdpfcdC"
      },
      "source": [
        "### **K-NN**"
      ]
    },
    {
      "cell_type": "code",
      "metadata": {
        "id": "KdUrdZ86J3td"
      },
      "source": [
        "cl <- makeCluster(detectCores())"
      ],
      "execution_count": null,
      "outputs": []
    },
    {
      "cell_type": "code",
      "metadata": {
        "id": "m5x1yYxLP7EY"
      },
      "source": [
        "find_KNN <- function(trainX,trainY,X,K) names(sort(table(trainY[sapply(colnames(trainX), `%in%`, names(head(sort(cosine(X, trainX), decreasing = T),K)))]),decreasing=TRUE)[1])"
      ],
      "execution_count": null,
      "outputs": []
    },
    {
      "cell_type": "code",
      "metadata": {
        "id": "5nUc1N0yN-jy"
      },
      "source": [
        "clusterExport (cl, varlist = c(\"test_tdmFinal\", \"train_tdmFinal\", \"train_variety\", \"find_KNN\",\"cosine\"))"
      ],
      "execution_count": null,
      "outputs": []
    },
    {
      "cell_type": "code",
      "metadata": {
        "id": "r717rqtTfwMg"
      },
      "source": [
        "KNNResult30 <- parSapply(cl, 1:length(test_variety), function(x) find_KNN(train_tdmFinal,train_variety,test_tdmFinal[,x], 30))"
      ],
      "execution_count": null,
      "outputs": []
    },
    {
      "cell_type": "code",
      "metadata": {
        "colab": {
          "base_uri": "https://localhost:8080/"
        },
        "id": "rKG1P2aylGln",
        "outputId": "e023f11a-6098-4261-887d-399af1467cb1"
      },
      "source": [
        "print(paste(\"Accuracy:\",sum(KNNResult30==test_variety)/length(test_variety)))"
      ],
      "execution_count": null,
      "outputs": [
        {
          "output_type": "stream",
          "text": [
            "[1] \"Accuracy: 0.753755522827688\"\n"
          ],
          "name": "stdout"
        }
      ]
    },
    {
      "cell_type": "code",
      "metadata": {
        "colab": {
          "base_uri": "https://localhost:8080/"
        },
        "id": "k1gkLfJQWewd",
        "outputId": "e44d6bf8-be18-4ee7-ae6c-1c6b6aed4997"
      },
      "source": [
        "for (x in unique(test_variety)){\n",
        "  precision <- sum(test_variety[KNNResult30==x]==x)/sum(KNNResult30==x)\n",
        "  recall <- sum(KNNResult30[test_variety==x]==x)/sum(test_variety==x)\n",
        "  f1 <- precision*recall*2/(precision+recall)\n",
        "  print(x)\n",
        "  print(paste(\"Precision: \",precision))\n",
        "  print(paste(\"Recall: \",recall))\n",
        "  print(paste(\"F1-Measure: \",f1))\n",
        "  }"
      ],
      "execution_count": null,
      "outputs": [
        {
          "output_type": "stream",
          "text": [
            "[1] \"Riesling\"\n",
            "[1] \"Precision:  0.842030021443888\"\n",
            "[1] \"Recall:  0.76147382029735\"\n",
            "[1] \"F1-Measure:  0.799728445349627\"\n",
            "[1] \"Cabernet Sauvignon\"\n",
            "[1] \"Precision:  0.651200431615862\"\n",
            "[1] \"Recall:  0.814714816064799\"\n",
            "[1] \"F1-Measure:  0.72383808095952\"\n",
            "[1] \"Pinot Noir\"\n",
            "[1] \"Precision:  0.762093227792436\"\n",
            "[1] \"Recall:  0.850760922925871\"\n",
            "[1] \"F1-Measure:  0.80398979355138\"\n",
            "[1] \"Merlot\"\n",
            "[1] \"Precision:  0.850393700787402\"\n",
            "[1] \"Recall:  0.231016042780749\"\n",
            "[1] \"F1-Measure:  0.363330529857023\"\n",
            "[1] \"Chardonnay\"\n",
            "[1] \"Precision:  0.737000928505107\"\n",
            "[1] \"Recall:  0.901732462368645\"\n",
            "[1] \"F1-Measure:  0.811086984289181\"\n",
            "[1] \"Syrah\"\n",
            "[1] \"Precision:  0.826388888888889\"\n",
            "[1] \"Recall:  0.448492462311558\"\n",
            "[1] \"F1-Measure:  0.5814332247557\"\n",
            "[1] \"Sauvignon Blanc\"\n",
            "[1] \"Precision:  0.833178005591799\"\n",
            "[1] \"Recall:  0.586999343401182\"\n",
            "[1] \"F1-Measure:  0.688751926040062\"\n",
            "[1] \"Nebbiolo\"\n",
            "[1] \"Precision:  0.897810218978102\"\n",
            "[1] \"Recall:  0.9\"\n",
            "[1] \"F1-Measure:  0.898903775883069\"\n"
          ],
          "name": "stdout"
        }
      ]
    },
    {
      "cell_type": "markdown",
      "metadata": {
        "id": "ySBCKQL4ufzU"
      },
      "source": [
        "### **Multinomial Naive Bayes**"
      ]
    },
    {
      "cell_type": "code",
      "metadata": {
        "id": "2L1NVGBI6B9z"
      },
      "source": [
        "mnb <- multinomial_naive_bayes(t(train_tdmFinal), train_variety, laplace=0.01)"
      ],
      "execution_count": null,
      "outputs": []
    },
    {
      "cell_type": "code",
      "metadata": {
        "colab": {
          "base_uri": "https://localhost:8080/"
        },
        "id": "iotpe5EX9agL",
        "outputId": "5225384a-c353-407f-e494-2d2c5893b2de"
      },
      "source": [
        "summary(mnb)"
      ],
      "execution_count": null,
      "outputs": [
        {
          "output_type": "stream",
          "text": [
            "\n",
            "============================ Multinomial Naive Bayes ============================ \n",
            " \n",
            "- Call: multinomial_naive_bayes(x = t(train_tdmFinal), y = train_variety,      laplace = 0.01) \n",
            "- Laplace: 0.01 \n",
            "- Classes: 8 \n",
            "- Samples: 34462 \n",
            "- Features: 672 \n",
            "- Prior probabilities: \n",
            "    - Cabernet Sauvignon: 0.1704\n",
            "    - Chardonnay: 0.2131\n",
            "    - Merlot: 0.0568\n",
            "    - Nebbiolo: 0.0517\n",
            "    - Pinot Noir: 0.238\n",
            "    - Riesling: 0.0936\n",
            "    - Sauvignon Blanc: 0.0885\n",
            "    - Syrah: 0.0877\n",
            "\n",
            "--------------------------------------------------------------------------------- \n"
          ],
          "name": "stdout"
        }
      ]
    },
    {
      "cell_type": "code",
      "metadata": {
        "id": "DV43PalU9_gL"
      },
      "source": [
        "bayesResult<- mnb %class% t(test_tdmFinal)"
      ],
      "execution_count": null,
      "outputs": []
    },
    {
      "cell_type": "code",
      "metadata": {
        "colab": {
          "base_uri": "https://localhost:8080/"
        },
        "id": "x9TWrcEOCOuS",
        "outputId": "ee6de215-b141-4554-d2bd-07c035a2cd74"
      },
      "source": [
        "print(paste(\"Accuracy:\",sum(bayesResult==test_variety)/length(test_variety)))"
      ],
      "execution_count": null,
      "outputs": [
        {
          "output_type": "stream",
          "text": [
            "[1] \"Accuracy: 0.759293078055965\"\n"
          ],
          "name": "stdout"
        }
      ]
    },
    {
      "cell_type": "code",
      "metadata": {
        "colab": {
          "base_uri": "https://localhost:8080/"
        },
        "id": "YDy6cYa0COuY",
        "outputId": "4805f219-a087-4c44-8d77-ca0cd0d3e2b5"
      },
      "source": [
        "for (x in unique(test_variety)){\n",
        "  precision <- sum(test_variety[bayesResult==x]==x)/sum(bayesResult==x)\n",
        "  recall <- sum(bayesResult[test_variety==x]==x)/sum(test_variety==x)\n",
        "  f1 <- precision*recall*2/(precision+recall)\n",
        "  print(x)\n",
        "  print(paste(\"Precision: \",precision))\n",
        "  print(paste(\"Recall: \",recall))\n",
        "  print(paste(\"F1-Measure: \",f1))\n",
        "  }"
      ],
      "execution_count": null,
      "outputs": [
        {
          "output_type": "stream",
          "text": [
            "[1] \"Riesling\"\n",
            "[1] \"Precision:  0.89928628072958\"\n",
            "[1] \"Recall:  0.733031674208145\"\n",
            "[1] \"F1-Measure:  0.807692307692308\"\n",
            "[1] \"Cabernet Sauvignon\"\n",
            "[1] \"Precision:  0.653366583541147\"\n",
            "[1] \"Recall:  0.795815052311846\"\n",
            "[1] \"F1-Measure:  0.717589774802191\"\n",
            "[1] \"Pinot Noir\"\n",
            "[1] \"Precision:  0.726893148605048\"\n",
            "[1] \"Recall:  0.940108001963672\"\n",
            "[1] \"F1-Measure:  0.819865139676763\"\n",
            "[1] \"Merlot\"\n",
            "[1] \"Precision:  0.979591836734694\"\n",
            "[1] \"Recall:  0.0513368983957219\"\n",
            "[1] \"F1-Measure:  0.0975609756097561\"\n",
            "[1] \"Chardonnay\"\n",
            "[1] \"Precision:  0.759331348752004\"\n",
            "[1] \"Recall:  0.941777904004544\"\n",
            "[1] \"F1-Measure:  0.840770791075051\"\n",
            "[1] \"Syrah\"\n",
            "[1] \"Precision:  0.862547288776797\"\n",
            "[1] \"Recall:  0.42964824120603\"\n",
            "[1] \"F1-Measure:  0.573584905660377\"\n",
            "[1] \"Sauvignon Blanc\"\n",
            "[1] \"Precision:  0.893203883495146\"\n",
            "[1] \"Recall:  0.543663821405121\"\n",
            "[1] \"F1-Measure:  0.675918367346939\"\n",
            "[1] \"Nebbiolo\"\n",
            "[1] \"Precision:  0.987142857142857\"\n",
            "[1] \"Recall:  0.842682926829268\"\n",
            "[1] \"F1-Measure:  0.909210526315789\"\n"
          ],
          "name": "stdout"
        }
      ]
    },
    {
      "cell_type": "markdown",
      "metadata": {
        "id": "dps1XBsGFO9N"
      },
      "source": [
        "### **Bernoulli Naive Bayes**"
      ]
    },
    {
      "cell_type": "code",
      "metadata": {
        "id": "AagBfiQvFO9O"
      },
      "source": [
        "bnb <- bernoulli_naive_bayes(as.matrix((t(train_tdmFinal)>0)+0), train_variety, laplace=0.0001)"
      ],
      "execution_count": null,
      "outputs": []
    },
    {
      "cell_type": "code",
      "metadata": {
        "colab": {
          "base_uri": "https://localhost:8080/"
        },
        "id": "czGOVyLfFO9P",
        "outputId": "ae952537-9ce7-449a-d82a-c54ee366a603"
      },
      "source": [
        "summary(bnb)"
      ],
      "execution_count": null,
      "outputs": [
        {
          "output_type": "stream",
          "text": [
            "\n",
            "============================= Bernoulli Naive Bayes ============================= \n",
            " \n",
            "- Call: bernoulli_naive_bayes(x = as.matrix((t(train_tdmFinal) > 0) +      0), y = train_variety, laplace = 1e-04) \n",
            "- Laplace: 1e-04 \n",
            "- Classes: 8 \n",
            "- Samples: 34462 \n",
            "- Features: 672 \n",
            "- Prior probabilities: \n",
            "    - Cabernet Sauvignon: 0.1704\n",
            "    - Chardonnay: 0.2131\n",
            "    - Merlot: 0.0568\n",
            "    - Nebbiolo: 0.0517\n",
            "    - Pinot Noir: 0.238\n",
            "    - Riesling: 0.0936\n",
            "    - Sauvignon Blanc: 0.0885\n",
            "    - Syrah: 0.0877\n",
            "\n",
            "--------------------------------------------------------------------------------- \n"
          ],
          "name": "stdout"
        }
      ]
    },
    {
      "cell_type": "code",
      "metadata": {
        "id": "B0QVIZCGFO9P"
      },
      "source": [
        "bayesResult<- bnb %class% t(test_tdmFinal)"
      ],
      "execution_count": null,
      "outputs": []
    },
    {
      "cell_type": "code",
      "metadata": {
        "colab": {
          "base_uri": "https://localhost:8080/"
        },
        "id": "0kxW7YYMFO9Q",
        "outputId": "dd2d43b6-9aea-49c3-e56d-7fd1d809a1ab"
      },
      "source": [
        "print(paste(\"Accuracy:\",sum(bayesResult==test_variety)/length(test_variety)))"
      ],
      "execution_count": null,
      "outputs": [
        {
          "output_type": "stream",
          "text": [
            "[1] \"Accuracy: 0.705449189985273\"\n"
          ],
          "name": "stdout"
        }
      ]
    },
    {
      "cell_type": "code",
      "metadata": {
        "colab": {
          "base_uri": "https://localhost:8080/"
        },
        "id": "NeJZHguuFO9Q",
        "outputId": "0b981f33-61a1-4f42-9008-3e1cbf03284c"
      },
      "source": [
        "for (x in unique(test_variety)){\n",
        "  precision <- sum(test_variety[bayesResult==x]==x)/sum(bayesResult==x)\n",
        "  recall <- sum(bayesResult[test_variety==x]==x)/sum(test_variety==x)\n",
        "  f1 <- precision*recall*2/(precision+recall)\n",
        "  print(x)\n",
        "  print(paste(\"Precision: \",precision))\n",
        "  print(paste(\"Recall: \",recall))\n",
        "  print(paste(\"F1-Measure: \",f1))\n",
        "  }"
      ],
      "execution_count": null,
      "outputs": [
        {
          "output_type": "stream",
          "text": [
            "[1] \"Riesling\"\n",
            "[1] \"Precision:  0.96045197740113\"\n",
            "[1] \"Recall:  0.549450549450549\"\n",
            "[1] \"F1-Measure:  0.699013157894737\"\n",
            "[1] \"Cabernet Sauvignon\"\n",
            "[1] \"Precision:  0.746906636670416\"\n",
            "[1] \"Recall:  0.672291596355046\"\n",
            "[1] \"F1-Measure:  0.707637655417407\"\n",
            "[1] \"Pinot Noir\"\n",
            "[1] \"Precision:  0.652127470179811\"\n",
            "[1] \"Recall:  0.899116347569956\"\n",
            "[1] \"F1-Measure:  0.755959137343927\"\n",
            "[1] \"Merlot\"\n",
            "[1] \"Precision:  0.528995756718529\"\n",
            "[1] \"Recall:  0.4\"\n",
            "[1] \"F1-Measure:  0.455542021924482\"\n",
            "[1] \"Chardonnay\"\n",
            "[1] \"Precision:  0.675105485232067\"\n",
            "[1] \"Recall:  0.95427435387674\"\n",
            "[1] \"F1-Measure:  0.790774299835255\"\n",
            "[1] \"Syrah\"\n",
            "[1] \"Precision:  0.8672\"\n",
            "[1] \"Recall:  0.340452261306533\"\n",
            "[1] \"F1-Measure:  0.488949030221019\"\n",
            "[1] \"Sauvignon Blanc\"\n",
            "[1] \"Precision:  0.761979575805185\"\n",
            "[1] \"Recall:  0.636900853578464\"\n",
            "[1] \"F1-Measure:  0.693848354792561\"\n",
            "[1] \"Nebbiolo\"\n",
            "[1] \"Precision:  1\"\n",
            "[1] \"Recall:  0.273170731707317\"\n",
            "[1] \"F1-Measure:  0.42911877394636\"\n"
          ],
          "name": "stdout"
        }
      ]
    },
    {
      "cell_type": "markdown",
      "metadata": {
        "id": "4UUDGFe4yn8Q"
      },
      "source": [
        "## **Applicazione di LSA**"
      ]
    },
    {
      "cell_type": "markdown",
      "metadata": {
        "id": "7UKIIc7R2MKk"
      },
      "source": [
        "### **Creazione spazio LSA**"
      ]
    },
    {
      "cell_type": "code",
      "metadata": {
        "colab": {
          "base_uri": "https://localhost:8080/",
          "height": 34
        },
        "id": "uetyuPv7NAtF",
        "outputId": "8792ccd3-ffc0-449b-f941-204861d71cf3"
      },
      "source": [
        "words <- rownames(train_tdmFinal)\n",
        "head(words)"
      ],
      "execution_count": 23,
      "outputs": [
        {
          "output_type": "display_data",
          "data": {
            "text/plain": [
              "[1] \"aromas\"     \"astringent\" \"bit\"        \"blossom\"    \"finish\"    \n",
              "[6] \"guava\"     "
            ],
            "text/latex": "\\begin{enumerate*}\n\\item 'aromas'\n\\item 'astringent'\n\\item 'bit'\n\\item 'blossom'\n\\item 'finish'\n\\item 'guava'\n\\end{enumerate*}\n",
            "text/markdown": "1. 'aromas'\n2. 'astringent'\n3. 'bit'\n4. 'blossom'\n5. 'finish'\n6. 'guava'\n\n\n",
            "text/html": [
              "<style>\n",
              ".list-inline {list-style: none; margin:0; padding: 0}\n",
              ".list-inline>li {display: inline-block}\n",
              ".list-inline>li:not(:last-child)::after {content: \"\\00b7\"; padding: 0 .5ex}\n",
              "</style>\n",
              "<ol class=list-inline><li>'aromas'</li><li>'astringent'</li><li>'bit'</li><li>'blossom'</li><li>'finish'</li><li>'guava'</li></ol>\n"
            ]
          },
          "metadata": {
            "tags": []
          }
        }
      ]
    },
    {
      "cell_type": "code",
      "metadata": {
        "id": "JpHKsPtlS708"
      },
      "source": [
        "lsar <- lsa(train_tdmFinal)"
      ],
      "execution_count": 46,
      "outputs": []
    },
    {
      "cell_type": "code",
      "metadata": {
        "colab": {
          "base_uri": "https://localhost:8080/",
          "height": 34
        },
        "id": "FON3eOOpS_cq",
        "outputId": "ed10a727-5f18-4df3-88f7-339aae3f9531"
      },
      "source": [
        "length(lsar$sk)"
      ],
      "execution_count": 47,
      "outputs": [
        {
          "output_type": "display_data",
          "data": {
            "text/plain": [
              "[1] 265"
            ],
            "text/latex": "265",
            "text/markdown": "265",
            "text/html": [
              "265"
            ]
          },
          "metadata": {
            "tags": []
          }
        }
      ]
    },
    {
      "cell_type": "markdown",
      "metadata": {
        "id": "UGlt1N_326l5"
      },
      "source": [
        "### **Grafico degli autovalori determinati in LSA**"
      ]
    },
    {
      "cell_type": "code",
      "metadata": {
        "colab": {
          "base_uri": "https://localhost:8080/",
          "height": 437
        },
        "id": "LTTFa7-FUUya",
        "outputId": "204117d0-7f90-4dbe-d6c0-c97b441250dc"
      },
      "source": [
        "plot(1:length(lsar$sk), lsar$sk, type=\"b\")"
      ],
      "execution_count": 48,
      "outputs": [
        {
          "output_type": "display_data",
          "data": {
            "image/png": "[encoded data removed]",
            "text/plain": [
              "plot without title"
            ]
          },
          "metadata": {
            "tags": [],
            "image/png": {
              "width": 420,
              "height": 420
            }
          }
        }
      ]
    },
    {
      "cell_type": "code",
      "metadata": {
        "id": "wWqud7I4UkqS"
      },
      "source": [
        "tls <- lsar$tk %*% diag(lsar$sk)\n",
        "dls <- lsar$dk %*% diag(lsar$sk)"
      ],
      "execution_count": 49,
      "outputs": []
    },
    {
      "cell_type": "code",
      "metadata": {
        "colab": {
          "base_uri": "https://localhost:8080/",
          "height": 437
        },
        "id": "w9i5RK7g7q7T",
        "outputId": "b289d462-be62-4f98-fce7-92dabb10ece0"
      },
      "source": [
        "fordiff <- function(x) x[2:length(x)] - x[1:(length(x)-1)]\n",
        "skd <- fordiff(lsar$sk)\n",
        "skdd <- fordiff(skd)\n",
        "skcurv <- skdd[1:20] / (1+(skd[1:20])^2)^1.5\n",
        "plot( 1:20, skcurv, type=\"b\" )"
      ],
      "execution_count": 41,
      "outputs": [
        {
          "output_type": "display_data",
          "data": {
            "image/png": "[encoded data removed]",
            "text/plain": [
              "plot without title"
            ]
          },
          "metadata": {
            "tags": [],
            "image/png": {
              "width": 420,
              "height": 420
            }
          }
        }
      ]
    },
    {
      "cell_type": "code",
      "metadata": {
        "id": "nxanIgBEap4D"
      },
      "source": [
        "makequery <- function(W, LSA) {\n",
        "  LS <- t(W) %*% LSA$tk\n",
        "  DK <- LS %*% diag(LSA$sk^-1)\n",
        "  DKSRS <- DK %*% diag(sqrt(LSA$sk))\n",
        "  list( v=W, dk=DK, ls=LS, dksrs=DKSRS )\n",
        "}"
      ],
      "execution_count": 42,
      "outputs": []
    },
    {
      "cell_type": "code",
      "metadata": {
        "id": "LBrmeYH6wpV2"
      },
      "source": [
        "cosines <- function(X, Q) apply( X, 1, cosine, as.vector(Q) )\n",
        "top <- function(X, N) order( X, decreasing=TRUE )[1:N]\n",
        "tnorms4 <- apply( tls[,1:7], 1, norm, \"2\" )\n",
        "tksrs <- lsar$tk %*% diag( sqrt( lsar$sk ) )"
      ],
      "execution_count": 43,
      "outputs": []
    },
    {
      "cell_type": "code",
      "metadata": {
        "colab": {
          "base_uri": "https://localhost:8080/",
          "height": 262
        },
        "id": "z6XxbpYoyP-s",
        "outputId": "002da5ca-5c11-4848-8d8f-57bf1068ae45"
      },
      "source": [
        "test_lsa <- apply(test_tdmFinal,2, function(x) makequery(x, lsar)$ls)\n",
        "head(test_lsa)"
      ],
      "execution_count": 52,
      "outputs": [
        {
          "output_type": "display_data",
          "data": {
            "text/plain": [
              "     1           4            9           13          15          20          \n",
              "[1,] -0.14121238 -0.146072453 -0.20153514 -0.13272263 -0.15464186 -0.215204540\n",
              "[2,]  0.13642098 -0.081339644 -0.08835854 -0.04662316 -0.05671984  0.005943996\n",
              "[3,]  0.10425254 -0.022518119 -0.03156329  0.02906482  0.09854472  0.082472531\n",
              "[4,] -0.09890712  0.031005447 -0.01651935 -0.02763956 -0.02891867 -0.031980731\n",
              "[5,]  0.03449145  0.038721649 -0.07602481  0.01834759 -0.06346545 -0.086095382\n",
              "[6,] -0.02215111 -0.009446551 -0.06174068  0.03895846 -0.01852855  0.014735381\n",
              "     23           27           29           34          ⋯ 51418       \n",
              "[1,] -0.148215961 -0.164872698 -0.157438628 -0.22121689 ⋯ -0.120466605\n",
              "[2,]  0.066421104 -0.107229295  0.077802778  0.14540228 ⋯  0.147197244\n",
              "[3,] -0.077870041  0.015003868  0.006150218  0.08882041 ⋯  0.040145563\n",
              "[4,]  0.120177649 -0.034218456 -0.064087173  0.02868860 ⋯ -0.007540877\n",
              "[5,]  0.005150363  0.034366658  0.045714600 -0.05158057 ⋯ -0.035069267\n",
              "[6,]  0.012202512 -0.006446165 -0.110078465  0.11188942 ⋯  0.132018600\n",
              "     51419       51420       51423       51428        51429       51433       \n",
              "[1,] -0.14937004 -0.09269713 -0.20226819 -0.129741925 -0.20063509 -0.198513216\n",
              "[2,]  0.10079807 -0.02123338  0.03713021 -0.068442144 -0.10152470 -0.121406724\n",
              "[3,]  0.02051133 -0.02105323 -0.09614761 -0.051112115  0.11491993 -0.061623561\n",
              "[4,] -0.02876441  0.02532005 -0.03442937  0.072071193  0.02256936 -0.006341908\n",
              "[5,] -0.03401892 -0.01527625 -0.09634164  0.066958401 -0.04764185  0.117063269\n",
              "[6,]  0.10855934  0.01236601  0.04731574 -0.007860772 -0.02824198  0.042962742\n",
              "     51435       51436       51438      \n",
              "[1,] -0.17328762 -0.15833180 -0.13341304\n",
              "[2,]  0.15145682  0.15030638  0.04201195\n",
              "[3,] -0.00797858 -0.03822115 -0.07258652\n",
              "[4,] -0.02438291 -0.03319429  0.10395685\n",
              "[5,] -0.01787352  0.04258541 -0.03515281\n",
              "[6,]  0.04778458 -0.11185494  0.00523229"
            ],
            "text/latex": "A matrix: 6 × 16975 of type dbl\n\\begin{tabular}{lllllllllllllllllllll}\n 1 & 4 & 9 & 13 & 15 & 20 & 23 & 27 & 29 & 34 & ⋯ & 51418 & 51419 & 51420 & 51423 & 51428 & 51429 & 51433 & 51435 & 51436 & 51438\\\\\n\\hline\n\t -0.14121238 & -0.146072453 & -0.20153514 & -0.13272263 & -0.15464186 & -0.215204540 & -0.148215961 & -0.164872698 & -0.157438628 & -0.22121689 & ⋯ & -0.120466605 & -0.14937004 & -0.09269713 & -0.20226819 & -0.129741925 & -0.20063509 & -0.198513216 & -0.17328762 & -0.15833180 & -0.13341304\\\\\n\t  0.13642098 & -0.081339644 & -0.08835854 & -0.04662316 & -0.05671984 &  0.005943996 &  0.066421104 & -0.107229295 &  0.077802778 &  0.14540228 & ⋯ &  0.147197244 &  0.10079807 & -0.02123338 &  0.03713021 & -0.068442144 & -0.10152470 & -0.121406724 &  0.15145682 &  0.15030638 &  0.04201195\\\\\n\t  0.10425254 & -0.022518119 & -0.03156329 &  0.02906482 &  0.09854472 &  0.082472531 & -0.077870041 &  0.015003868 &  0.006150218 &  0.08882041 & ⋯ &  0.040145563 &  0.02051133 & -0.02105323 & -0.09614761 & -0.051112115 &  0.11491993 & -0.061623561 & -0.00797858 & -0.03822115 & -0.07258652\\\\\n\t -0.09890712 &  0.031005447 & -0.01651935 & -0.02763956 & -0.02891867 & -0.031980731 &  0.120177649 & -0.034218456 & -0.064087173 &  0.02868860 & ⋯ & -0.007540877 & -0.02876441 &  0.02532005 & -0.03442937 &  0.072071193 &  0.02256936 & -0.006341908 & -0.02438291 & -0.03319429 &  0.10395685\\\\\n\t  0.03449145 &  0.038721649 & -0.07602481 &  0.01834759 & -0.06346545 & -0.086095382 &  0.005150363 &  0.034366658 &  0.045714600 & -0.05158057 & ⋯ & -0.035069267 & -0.03401892 & -0.01527625 & -0.09634164 &  0.066958401 & -0.04764185 &  0.117063269 & -0.01787352 &  0.04258541 & -0.03515281\\\\\n\t -0.02215111 & -0.009446551 & -0.06174068 &  0.03895846 & -0.01852855 &  0.014735381 &  0.012202512 & -0.006446165 & -0.110078465 &  0.11188942 & ⋯ &  0.132018600 &  0.10855934 &  0.01236601 &  0.04731574 & -0.007860772 & -0.02824198 &  0.042962742 &  0.04778458 & -0.11185494 &  0.00523229\\\\\n\\end{tabular}\n",
            "text/markdown": "\nA matrix: 6 × 16975 of type dbl\n\n| 1 | 4 | 9 | 13 | 15 | 20 | 23 | 27 | 29 | 34 | ⋯ | 51418 | 51419 | 51420 | 51423 | 51428 | 51429 | 51433 | 51435 | 51436 | 51438 |\n|---|---|---|---|---|---|---|---|---|---|---|---|---|---|---|---|---|---|---|---|---|\n| -0.14121238 | -0.146072453 | -0.20153514 | -0.13272263 | -0.15464186 | -0.215204540 | -0.148215961 | -0.164872698 | -0.157438628 | -0.22121689 | ⋯ | -0.120466605 | -0.14937004 | -0.09269713 | -0.20226819 | -0.129741925 | -0.20063509 | -0.198513216 | -0.17328762 | -0.15833180 | -0.13341304 |\n|  0.13642098 | -0.081339644 | -0.08835854 | -0.04662316 | -0.05671984 |  0.005943996 |  0.066421104 | -0.107229295 |  0.077802778 |  0.14540228 | ⋯ |  0.147197244 |  0.10079807 | -0.02123338 |  0.03713021 | -0.068442144 | -0.10152470 | -0.121406724 |  0.15145682 |  0.15030638 |  0.04201195 |\n|  0.10425254 | -0.022518119 | -0.03156329 |  0.02906482 |  0.09854472 |  0.082472531 | -0.077870041 |  0.015003868 |  0.006150218 |  0.08882041 | ⋯ |  0.040145563 |  0.02051133 | -0.02105323 | -0.09614761 | -0.051112115 |  0.11491993 | -0.061623561 | -0.00797858 | -0.03822115 | -0.07258652 |\n| -0.09890712 |  0.031005447 | -0.01651935 | -0.02763956 | -0.02891867 | -0.031980731 |  0.120177649 | -0.034218456 | -0.064087173 |  0.02868860 | ⋯ | -0.007540877 | -0.02876441 |  0.02532005 | -0.03442937 |  0.072071193 |  0.02256936 | -0.006341908 | -0.02438291 | -0.03319429 |  0.10395685 |\n|  0.03449145 |  0.038721649 | -0.07602481 |  0.01834759 | -0.06346545 | -0.086095382 |  0.005150363 |  0.034366658 |  0.045714600 | -0.05158057 | ⋯ | -0.035069267 | -0.03401892 | -0.01527625 | -0.09634164 |  0.066958401 | -0.04764185 |  0.117063269 | -0.01787352 |  0.04258541 | -0.03515281 |\n| -0.02215111 | -0.009446551 | -0.06174068 |  0.03895846 | -0.01852855 |  0.014735381 |  0.012202512 | -0.006446165 | -0.110078465 |  0.11188942 | ⋯ |  0.132018600 |  0.10855934 |  0.01236601 |  0.04731574 | -0.007860772 | -0.02824198 |  0.042962742 |  0.04778458 | -0.11185494 |  0.00523229 |\n\n",
            "text/html": [
              "<table class=\"dataframe\">\n",
              "<caption>A matrix: 6 × 16975 of type dbl</caption>\n",
              "<thead>\n",
              "\t<tr><th scope=col>1</th><th scope=col>4</th><th scope=col>9</th><th scope=col>13</th><th scope=col>15</th><th scope=col>20</th><th scope=col>23</th><th scope=col>27</th><th scope=col>29</th><th scope=col>34</th><th scope=col>⋯</th><th scope=col>51418</th><th scope=col>51419</th><th scope=col>51420</th><th scope=col>51423</th><th scope=col>51428</th><th scope=col>51429</th><th scope=col>51433</th><th scope=col>51435</th><th scope=col>51436</th><th scope=col>51438</th></tr>\n",
              "</thead>\n",
              "<tbody>\n",
              "\t<tr><td>-0.14121238</td><td>-0.146072453</td><td>-0.20153514</td><td>-0.13272263</td><td>-0.15464186</td><td>-0.215204540</td><td>-0.148215961</td><td>-0.164872698</td><td>-0.157438628</td><td>-0.22121689</td><td>⋯</td><td>-0.120466605</td><td>-0.14937004</td><td>-0.09269713</td><td>-0.20226819</td><td>-0.129741925</td><td>-0.20063509</td><td>-0.198513216</td><td>-0.17328762</td><td>-0.15833180</td><td>-0.13341304</td></tr>\n",
              "\t<tr><td> 0.13642098</td><td>-0.081339644</td><td>-0.08835854</td><td>-0.04662316</td><td>-0.05671984</td><td> 0.005943996</td><td> 0.066421104</td><td>-0.107229295</td><td> 0.077802778</td><td> 0.14540228</td><td>⋯</td><td> 0.147197244</td><td> 0.10079807</td><td>-0.02123338</td><td> 0.03713021</td><td>-0.068442144</td><td>-0.10152470</td><td>-0.121406724</td><td> 0.15145682</td><td> 0.15030638</td><td> 0.04201195</td></tr>\n",
              "\t<tr><td> 0.10425254</td><td>-0.022518119</td><td>-0.03156329</td><td> 0.02906482</td><td> 0.09854472</td><td> 0.082472531</td><td>-0.077870041</td><td> 0.015003868</td><td> 0.006150218</td><td> 0.08882041</td><td>⋯</td><td> 0.040145563</td><td> 0.02051133</td><td>-0.02105323</td><td>-0.09614761</td><td>-0.051112115</td><td> 0.11491993</td><td>-0.061623561</td><td>-0.00797858</td><td>-0.03822115</td><td>-0.07258652</td></tr>\n",
              "\t<tr><td>-0.09890712</td><td> 0.031005447</td><td>-0.01651935</td><td>-0.02763956</td><td>-0.02891867</td><td>-0.031980731</td><td> 0.120177649</td><td>-0.034218456</td><td>-0.064087173</td><td> 0.02868860</td><td>⋯</td><td>-0.007540877</td><td>-0.02876441</td><td> 0.02532005</td><td>-0.03442937</td><td> 0.072071193</td><td> 0.02256936</td><td>-0.006341908</td><td>-0.02438291</td><td>-0.03319429</td><td> 0.10395685</td></tr>\n",
              "\t<tr><td> 0.03449145</td><td> 0.038721649</td><td>-0.07602481</td><td> 0.01834759</td><td>-0.06346545</td><td>-0.086095382</td><td> 0.005150363</td><td> 0.034366658</td><td> 0.045714600</td><td>-0.05158057</td><td>⋯</td><td>-0.035069267</td><td>-0.03401892</td><td>-0.01527625</td><td>-0.09634164</td><td> 0.066958401</td><td>-0.04764185</td><td> 0.117063269</td><td>-0.01787352</td><td> 0.04258541</td><td>-0.03515281</td></tr>\n",
              "\t<tr><td>-0.02215111</td><td>-0.009446551</td><td>-0.06174068</td><td> 0.03895846</td><td>-0.01852855</td><td> 0.014735381</td><td> 0.012202512</td><td>-0.006446165</td><td>-0.110078465</td><td> 0.11188942</td><td>⋯</td><td> 0.132018600</td><td> 0.10855934</td><td> 0.01236601</td><td> 0.04731574</td><td>-0.007860772</td><td>-0.02824198</td><td> 0.042962742</td><td> 0.04778458</td><td>-0.11185494</td><td> 0.00523229</td></tr>\n",
              "</tbody>\n",
              "</table>\n"
            ]
          },
          "metadata": {
            "tags": []
          }
        }
      ]
    },
    {
      "cell_type": "code",
      "metadata": {
        "colab": {
          "base_uri": "https://localhost:8080/",
          "height": 122
        },
        "id": "4MqyauT2a_5W",
        "outputId": "9055f6b9-19fa-4f83-a47f-f163f01f9912"
      },
      "source": [
        "variety[top(cosines(dls[,1:10],test_lsa[1:10,2]),10)]\n",
        "#reviews[top(cosines(dls[,1:7],NebbioloQuery$ls[1:7]),10)]\n",
        "head(sort(table( variety[ top( cosines( dls[,1:10], test_lsa[1:10,2] ), 100 ) ] ), decreasing = T))"
      ],
      "execution_count": 65,
      "outputs": [
        {
          "output_type": "display_data",
          "data": {
            "text/plain": [
              " [1] \"Cabernet Sauvignon\" \"Riesling\"           \"Syrah\"             \n",
              " [4] \"Sauvignon Blanc\"    \"Cabernet Sauvignon\" \"Merlot\"            \n",
              " [7] \"Pinot Noir\"         \"Sauvignon Blanc\"    \"Cabernet Sauvignon\"\n",
              "[10] \"Cabernet Sauvignon\""
            ],
            "text/latex": "\\begin{enumerate*}\n\\item 'Cabernet Sauvignon'\n\\item 'Riesling'\n\\item 'Syrah'\n\\item 'Sauvignon Blanc'\n\\item 'Cabernet Sauvignon'\n\\item 'Merlot'\n\\item 'Pinot Noir'\n\\item 'Sauvignon Blanc'\n\\item 'Cabernet Sauvignon'\n\\item 'Cabernet Sauvignon'\n\\end{enumerate*}\n",
            "text/markdown": "1. 'Cabernet Sauvignon'\n2. 'Riesling'\n3. 'Syrah'\n4. 'Sauvignon Blanc'\n5. 'Cabernet Sauvignon'\n6. 'Merlot'\n7. 'Pinot Noir'\n8. 'Sauvignon Blanc'\n9. 'Cabernet Sauvignon'\n10. 'Cabernet Sauvignon'\n\n\n",
            "text/html": [
              "<style>\n",
              ".list-inline {list-style: none; margin:0; padding: 0}\n",
              ".list-inline>li {display: inline-block}\n",
              ".list-inline>li:not(:last-child)::after {content: \"\\00b7\"; padding: 0 .5ex}\n",
              "</style>\n",
              "<ol class=list-inline><li>'Cabernet Sauvignon'</li><li>'Riesling'</li><li>'Syrah'</li><li>'Sauvignon Blanc'</li><li>'Cabernet Sauvignon'</li><li>'Merlot'</li><li>'Pinot Noir'</li><li>'Sauvignon Blanc'</li><li>'Cabernet Sauvignon'</li><li>'Cabernet Sauvignon'</li></ol>\n"
            ]
          },
          "metadata": {
            "tags": []
          }
        },
        {
          "output_type": "display_data",
          "data": {
            "text/plain": [
              "\n",
              "Cabernet Sauvignon         Chardonnay         Pinot Noir             Merlot \n",
              "                23                 23                 17                  9 \n",
              "          Riesling    Sauvignon Blanc \n",
              "                 8                  8 "
            ]
          },
          "metadata": {
            "tags": []
          }
        }
      ]
    },
    {
      "cell_type": "markdown",
      "metadata": {
        "id": "3nf4YH_DxpWx"
      },
      "source": [
        "## **Classificatori su spazio LSA**"
      ]
    },
    {
      "cell_type": "markdown",
      "metadata": {
        "id": "JXPzl6PWxpWy"
      },
      "source": [
        "### **Rocchio**"
      ]
    },
    {
      "cell_type": "code",
      "metadata": {
        "colab": {
          "base_uri": "https://localhost:8080/"
        },
        "id": "Rk4irVtdxg49",
        "outputId": "1c46e1aa-d8e0-4c99-9d75-124b3f0c135f"
      },
      "source": [
        "centroids <- t (centroids(dls[,1:10], train_variety, lambda.var = 0, lambda.freqs = 0)$means)"
      ],
      "execution_count": 94,
      "outputs": [
        {
          "output_type": "stream",
          "text": [
            "Number of variables: 10 \n",
            "Number of observations: 34462 \n",
            "Number of classes: 8 \n",
            "\n",
            "Specified shrinkage intensity lambda.freq (frequencies): 0 \n",
            "Estimating variances (pooled across classes)\n",
            "Specified shrinkage intensity lambda.var (variance vector): 0 \n",
            "\n"
          ],
          "name": "stdout"
        }
      ]
    },
    {
      "cell_type": "code",
      "metadata": {
        "colab": {
          "base_uri": "https://localhost:8080/",
          "height": 34
        },
        "id": "NWUDbKgm3f7j",
        "outputId": "f4d2fbf3-0bb1-4b56-aa25-b752bdec53db"
      },
      "source": [
        "rownames(centroids)[which.max(cosine(test_lsa[1:10,5],t(centroids))[1:8])]"
      ],
      "execution_count": 95,
      "outputs": [
        {
          "output_type": "display_data",
          "data": {
            "text/plain": [
              "[1] \"Nebbiolo\""
            ],
            "text/latex": "'Nebbiolo'",
            "text/markdown": "'Nebbiolo'",
            "text/html": [
              "'Nebbiolo'"
            ]
          },
          "metadata": {
            "tags": []
          }
        }
      ]
    },
    {
      "cell_type": "code",
      "metadata": {
        "id": "8v5f5O9wxg5E"
      },
      "source": [
        "varietyResult <- apply(test_lsa[1:10,],2,function(x) rownames(centroids)[which.max(cosine(x,t(centroids))[1:8])])"
      ],
      "execution_count": 96,
      "outputs": []
    },
    {
      "cell_type": "code",
      "metadata": {
        "colab": {
          "base_uri": "https://localhost:8080/"
        },
        "id": "_-HW4ggNxg5G",
        "outputId": "c8d42699-be3d-4d96-837c-4028b22484c8"
      },
      "source": [
        "print(paste(\"Accuracy:\", sum(varietyResult == test_variety)/length(test_variety)))"
      ],
      "execution_count": 97,
      "outputs": [
        {
          "output_type": "stream",
          "text": [
            "[1] \"Accuracy: 0.612076583210604\"\n"
          ],
          "name": "stdout"
        }
      ]
    },
    {
      "cell_type": "code",
      "metadata": {
        "colab": {
          "base_uri": "https://localhost:8080/"
        },
        "id": "dBA9tdZsxg5H",
        "outputId": "c8b7575e-75f7-43d5-d9fe-23440e44c2d0"
      },
      "source": [
        "for (x in unique(test_variety)){\n",
        "  precision <- sum(test_variety[varietyResult==x]==x)/sum(varietyResult==x)\n",
        "  recall <- sum(varietyResult[test_variety==x]==x)/sum(test_variety==x)\n",
        "  f1 <- precision*recall*2/(precision+recall)\n",
        "  print(x)\n",
        "  print(paste(\"Precision: \",precision))\n",
        "  print(paste(\"Recall: \",recall))\n",
        "  print(paste(\"F1-Measure: \",f1))\n",
        "  }"
      ],
      "execution_count": 98,
      "outputs": [
        {
          "output_type": "stream",
          "text": [
            "[1] \"Riesling\"\n",
            "[1] \"Precision:  0.682201010668164\"\n",
            "[1] \"Recall:  0.785391079508727\"\n",
            "[1] \"F1-Measure:  0.730168269230769\"\n",
            "[1] \"Cabernet Sauvignon\"\n",
            "[1] \"Precision:  0.68698441796517\"\n",
            "[1] \"Recall:  0.505906176172798\"\n",
            "[1] \"F1-Measure:  0.582701652089407\"\n",
            "[1] \"Pinot Noir\"\n",
            "[1] \"Precision:  0.835598705501618\"\n",
            "[1] \"Recall:  0.633775159548355\"\n",
            "[1] \"F1-Measure:  0.720826353992183\"\n",
            "[1] \"Merlot\"\n",
            "[1] \"Precision:  0.174269005847953\"\n",
            "[1] \"Recall:  0.318716577540107\"\n",
            "[1] \"F1-Measure:  0.225330812854442\"\n",
            "[1] \"Chardonnay\"\n",
            "[1] \"Precision:  0.80882841022237\"\n",
            "[1] \"Recall:  0.692132916785004\"\n",
            "[1] \"F1-Measure:  0.745944291398837\"\n",
            "[1] \"Syrah\"\n",
            "[1] \"Precision:  0.314326107445806\"\n",
            "[1] \"Recall:  0.418969849246231\"\n",
            "[1] \"F1-Measure:  0.359181475498115\"\n",
            "[1] \"Sauvignon Blanc\"\n",
            "[1] \"Precision:  0.511197663096397\"\n",
            "[1] \"Recall:  0.689428759028234\"\n",
            "[1] \"F1-Measure:  0.587084148727984\"\n",
            "[1] \"Nebbiolo\"\n",
            "[1] \"Precision:  0.627565982404692\"\n",
            "[1] \"Recall:  0.782926829268293\"\n",
            "[1] \"F1-Measure:  0.696690179055887\"\n"
          ],
          "name": "stdout"
        }
      ]
    },
    {
      "cell_type": "markdown",
      "metadata": {
        "id": "dl6-Fk1bxg5I"
      },
      "source": [
        "### **K-NN**"
      ]
    },
    {
      "cell_type": "code",
      "metadata": {
        "id": "-QPyXXhKxg5J"
      },
      "source": [
        "cl <- makeCluster(detectCores())"
      ],
      "execution_count": 127,
      "outputs": []
    },
    {
      "cell_type": "code",
      "metadata": {
        "id": "4Ne-6KNNxg5J"
      },
      "source": [
        "find_KNN <- function(trainX,trainY,X,K) names(sort(table(trainY[sapply(colnames(trainX), `%in%`, names(head(sort(cosine(X, trainX), decreasing = T),K)))]),decreasing=TRUE)[1])"
      ],
      "execution_count": 128,
      "outputs": []
    },
    {
      "cell_type": "code",
      "metadata": {
        "id": "9kJlqp1nxg5K"
      },
      "source": [
        "clusterExport (cl, varlist = c(\"test_lsa\", \"dls\", \"train_variety\", \"find_KNN\",\"cosine\"))"
      ],
      "execution_count": 129,
      "outputs": []
    },
    {
      "cell_type": "code",
      "metadata": {
        "id": "XZHzPrYJxg5L"
      },
      "source": [
        "KNNResult30 <- parSapply(cl, 1:length(test_variety), function(x) find_KNN(t(dls[,1:10]),train_variety,test_lsa[1:10,x], 30))"
      ],
      "execution_count": 130,
      "outputs": []
    },
    {
      "cell_type": "code",
      "metadata": {
        "colab": {
          "base_uri": "https://localhost:8080/"
        },
        "id": "TIYg-IXRxg5L",
        "outputId": "7edf5190-9b1d-4291-fb4c-2feedffe2284"
      },
      "source": [
        "print(paste(\"Accuracy:\",sum(KNNResult30==test_variety)/length(test_variety)))"
      ],
      "execution_count": 133,
      "outputs": [
        {
          "output_type": "stream",
          "text": [
            "[1] \"Accuracy: 0.706156111929308\"\n"
          ],
          "name": "stdout"
        }
      ]
    },
    {
      "cell_type": "code",
      "metadata": {
        "colab": {
          "base_uri": "https://localhost:8080/"
        },
        "id": "PrUlLLJ-xg5M",
        "outputId": "c9ead67a-4e0c-4b82-9bf9-e252978da350"
      },
      "source": [
        "for (x in unique(test_variety)){\n",
        "  precision <- sum(test_variety[KNNResult30==x]==x)/sum(KNNResult30==x)\n",
        "  recall <- sum(KNNResult30[test_variety==x]==x)/sum(test_variety==x)\n",
        "  f1 <- precision*recall*2/(precision+recall)\n",
        "  print(x)\n",
        "  print(paste(\"Precision: \",precision))\n",
        "  print(paste(\"Recall: \",recall))\n",
        "  print(paste(\"F1-Measure: \",f1))\n",
        "  }"
      ],
      "execution_count": 132,
      "outputs": [
        {
          "output_type": "stream",
          "text": [
            "[1] \"Riesling\"\n",
            "[1] \"Precision:  0.789757412398922\"\n",
            "[1] \"Recall:  0.75759534583064\"\n",
            "[1] \"F1-Measure:  0.773342131309799\"\n",
            "[1] \"Cabernet Sauvignon\"\n",
            "[1] \"Precision:  0.591847265221878\"\n",
            "[1] \"Recall:  0.774215322308471\"\n",
            "[1] \"F1-Measure:  0.670858312618804\"\n",
            "[1] \"Pinot Noir\"\n",
            "[1] \"Precision:  0.744860419822549\"\n",
            "[1] \"Recall:  0.844869906725577\"\n",
            "[1] \"F1-Measure:  0.791719378953421\"\n",
            "[1] \"Merlot\"\n",
            "[1] \"Precision:  0.353333333333333\"\n",
            "[1] \"Recall:  0.0566844919786096\"\n",
            "[1] \"F1-Measure:  0.0976958525345622\"\n",
            "[1] \"Chardonnay\"\n",
            "[1] \"Precision:  0.764261335933691\"\n",
            "[1] \"Recall:  0.890372053393922\"\n",
            "[1] \"F1-Measure:  0.822510822510823\"\n",
            "[1] \"Syrah\"\n",
            "[1] \"Precision:  0.47182320441989\"\n",
            "[1] \"Recall:  0.26821608040201\"\n",
            "[1] \"F1-Measure:  0.342010412494994\"\n",
            "[1] \"Sauvignon Blanc\"\n",
            "[1] \"Precision:  0.765523632993513\"\n",
            "[1] \"Recall:  0.542350623768877\"\n",
            "[1] \"F1-Measure:  0.63489623366641\"\n",
            "[1] \"Nebbiolo\"\n",
            "[1] \"Precision:  0.841688654353562\"\n",
            "[1] \"Recall:  0.778048780487805\"\n",
            "[1] \"F1-Measure:  0.808618504435995\"\n"
          ],
          "name": "stdout"
        }
      ]
    },
    {
      "cell_type": "markdown",
      "metadata": {
        "id": "gYLZrJrlPaT3"
      },
      "source": [
        "## **Confronto classificatori**"
      ]
    },
    {
      "cell_type": "code",
      "metadata": {
        "colab": {
          "base_uri": "https://localhost:8080/",
          "height": 50
        },
        "id": "AoeNsaQKPil4",
        "outputId": "dde3bab9-4fd1-4bfc-943b-a2297a1ce8d4"
      },
      "source": [
        "acc <- c(0.765419734904271, 0.753755522827688, 0.759293078055965, 0.705449189985273, 0.612076583210604, 0.706156111929308)\n",
        "names(acc) <- c(\"TfIdf_Rocchio\", \"TfIdf_KNN\", \"TfIdf_MNB\", \"TfIdf_BNB\", \"LSA_Rocchio\", \"LSA_KNN\")\n",
        "acc"
      ],
      "execution_count": 114,
      "outputs": [
        {
          "output_type": "display_data",
          "data": {
            "text/plain": [
              "TfIdf_Rocchio     TfIdf_KNN     TfIdf_MNB     TfIdf_BNB   LSA_Rocchio \n",
              "    0.7654197     0.7537555     0.7592931     0.7054492     0.6120766 \n",
              "      LSA_KNN \n",
              "    0.7061561 "
            ],
            "text/latex": "\\begin{description*}\n\\item[TfIdf\\textbackslash{}\\_Rocchio] 0.765419734904271\n\\item[TfIdf\\textbackslash{}\\_KNN] 0.753755522827688\n\\item[TfIdf\\textbackslash{}\\_MNB] 0.759293078055965\n\\item[TfIdf\\textbackslash{}\\_BNB] 0.705449189985273\n\\item[LSA\\textbackslash{}\\_Rocchio] 0.612076583210604\n\\item[LSA\\textbackslash{}\\_KNN] 0.706156111929308\n\\end{description*}\n",
            "text/markdown": "TfIdf_Rocchio\n:   0.765419734904271TfIdf_KNN\n:   0.753755522827688TfIdf_MNB\n:   0.759293078055965TfIdf_BNB\n:   0.705449189985273LSA_Rocchio\n:   0.612076583210604LSA_KNN\n:   0.706156111929308\n\n",
            "text/html": [
              "<style>\n",
              ".dl-inline {width: auto; margin:0; padding: 0}\n",
              ".dl-inline>dt, .dl-inline>dd {float: none; width: auto; display: inline-block}\n",
              ".dl-inline>dt::after {content: \":\\0020\"; padding-right: .5ex}\n",
              ".dl-inline>dt:not(:first-of-type) {padding-left: .5ex}\n",
              "</style><dl class=dl-inline><dt>TfIdf_Rocchio</dt><dd>0.765419734904271</dd><dt>TfIdf_KNN</dt><dd>0.753755522827688</dd><dt>TfIdf_MNB</dt><dd>0.759293078055965</dd><dt>TfIdf_BNB</dt><dd>0.705449189985273</dd><dt>LSA_Rocchio</dt><dd>0.612076583210604</dd><dt>LSA_KNN</dt><dd>0.706156111929308</dd></dl>\n"
            ]
          },
          "metadata": {
            "tags": []
          }
        }
      ]
    },
    {
      "cell_type": "code",
      "metadata": {
        "id": "_B4WGI7UCsJ4"
      },
      "source": [
        "ZhalfAlpha <- function(prob) qnorm(1-(1-prob)/2)"
      ],
      "execution_count": 25,
      "outputs": []
    },
    {
      "cell_type": "code",
      "metadata": {
        "id": "PpWF6er8FOv4"
      },
      "source": [
        "confidenceInterval <- function(N,acc,prob) {\n",
        "  plusMinus <- ZhalfAlpha(prob)*((ZhalfAlpha(prob)^2 + 4*N*acc - 4*N*(acc^2))^0.5)\n",
        "  first <- 2*N*acc+(ZhalfAlpha(prob)^2)\n",
        "  den <- 2*(N+(ZhalfAlpha(prob)^2))\n",
        "  var <- (1-acc)*acc/N\n",
        "  list(minP=(first-plusMinus)/den, acc=acc , maxP=(first+plusMinus)/den, var=var)\n",
        "}"
      ],
      "execution_count": 26,
      "outputs": []
    },
    {
      "cell_type": "code",
      "metadata": {
        "colab": {
          "base_uri": "https://localhost:8080/",
          "height": 242
        },
        "id": "GS2KHHdWNctz",
        "outputId": "3451fec5-37de-42e5-c146-781ef8cc3d59"
      },
      "source": [
        "accVarP <- t(sapply(acc, function(x) unlist(confidenceInterval(length(test_variety), x, 0.95))))\n",
        "accVarP"
      ],
      "execution_count": 117,
      "outputs": [
        {
          "output_type": "display_data",
          "data": {
            "text/plain": [
              "              minP      acc       maxP      var         \n",
              "TfIdf_Rocchio 0.7589857 0.7654197 0.7717336 1.057746e-05\n",
              "TfIdf_KNN     0.7472176 0.7537555 0.7601786 1.093421e-05\n",
              "TfIdf_MNB     0.7528037 0.7592931 0.7656652 1.076684e-05\n",
              "TfIdf_BNB     0.6985460 0.7054492 0.7122594 1.224098e-05\n",
              "LSA_Rocchio   0.6047218 0.6120766 0.6193807 1.398756e-05\n",
              "LSA_KNN       0.6992575 0.7061561 0.7129614 1.222384e-05"
            ],
            "text/latex": "A matrix: 6 × 4 of type dbl\n\\begin{tabular}{r|llll}\n  & minP & acc & maxP & var\\\\\n\\hline\n\tTfIdf\\_Rocchio & 0.7589857 & 0.7654197 & 0.7717336 & 1.057746e-05\\\\\n\tTfIdf\\_KNN & 0.7472176 & 0.7537555 & 0.7601786 & 1.093421e-05\\\\\n\tTfIdf\\_MNB & 0.7528037 & 0.7592931 & 0.7656652 & 1.076684e-05\\\\\n\tTfIdf\\_BNB & 0.6985460 & 0.7054492 & 0.7122594 & 1.224098e-05\\\\\n\tLSA\\_Rocchio & 0.6047218 & 0.6120766 & 0.6193807 & 1.398756e-05\\\\\n\tLSA\\_KNN & 0.6992575 & 0.7061561 & 0.7129614 & 1.222384e-05\\\\\n\\end{tabular}\n",
            "text/markdown": "\nA matrix: 6 × 4 of type dbl\n\n| <!--/--> | minP | acc | maxP | var |\n|---|---|---|---|---|\n| TfIdf_Rocchio | 0.7589857 | 0.7654197 | 0.7717336 | 1.057746e-05 |\n| TfIdf_KNN | 0.7472176 | 0.7537555 | 0.7601786 | 1.093421e-05 |\n| TfIdf_MNB | 0.7528037 | 0.7592931 | 0.7656652 | 1.076684e-05 |\n| TfIdf_BNB | 0.6985460 | 0.7054492 | 0.7122594 | 1.224098e-05 |\n| LSA_Rocchio | 0.6047218 | 0.6120766 | 0.6193807 | 1.398756e-05 |\n| LSA_KNN | 0.6992575 | 0.7061561 | 0.7129614 | 1.222384e-05 |\n\n",
            "text/html": [
              "<table class=\"dataframe\">\n",
              "<caption>A matrix: 6 × 4 of type dbl</caption>\n",
              "<thead>\n",
              "\t<tr><th></th><th scope=col>minP</th><th scope=col>acc</th><th scope=col>maxP</th><th scope=col>var</th></tr>\n",
              "</thead>\n",
              "<tbody>\n",
              "\t<tr><th scope=row>TfIdf_Rocchio</th><td>0.7589857</td><td>0.7654197</td><td>0.7717336</td><td>1.057746e-05</td></tr>\n",
              "\t<tr><th scope=row>TfIdf_KNN</th><td>0.7472176</td><td>0.7537555</td><td>0.7601786</td><td>1.093421e-05</td></tr>\n",
              "\t<tr><th scope=row>TfIdf_MNB</th><td>0.7528037</td><td>0.7592931</td><td>0.7656652</td><td>1.076684e-05</td></tr>\n",
              "\t<tr><th scope=row>TfIdf_BNB</th><td>0.6985460</td><td>0.7054492</td><td>0.7122594</td><td>1.224098e-05</td></tr>\n",
              "\t<tr><th scope=row>LSA_Rocchio</th><td>0.6047218</td><td>0.6120766</td><td>0.6193807</td><td>1.398756e-05</td></tr>\n",
              "\t<tr><th scope=row>LSA_KNN</th><td>0.6992575</td><td>0.7061561</td><td>0.7129614</td><td>1.222384e-05</td></tr>\n",
              "</tbody>\n",
              "</table>\n"
            ]
          },
          "metadata": {
            "tags": []
          }
        }
      ]
    },
    {
      "cell_type": "code",
      "metadata": {
        "id": "aCal2QzSUHYJ"
      },
      "source": [
        "diff_stat_signif <- function(e1,var1,e2,var2,confidence) {\n",
        "  D=e1-e2\n",
        "  varD=var1+var2\n",
        "  (D-ZhalfAlpha(confidence)*varD^0.5) * (D+ZhalfAlpha(confidence)*varD^0.5)>0\n",
        "}"
      ],
      "execution_count": 118,
      "outputs": []
    },
    {
      "cell_type": "code",
      "metadata": {
        "colab": {
          "base_uri": "https://localhost:8080/",
          "height": 242
        },
        "id": "XKY8SgjvpdIZ",
        "outputId": "eb1fe7a1-7e63-4cb1-e34f-14b280f48664"
      },
      "source": [
        "apply(accVarP,1,function(x) apply(accVarP,1, function(y) diff_stat_signif(1-x[\"acc\"],x[\"var\"], 1-y[\"acc\"], y[\"var\"], 0.95)))"
      ],
      "execution_count": 119,
      "outputs": [
        {
          "output_type": "display_data",
          "data": {
            "text/plain": [
              "              TfIdf_Rocchio TfIdf_KNN TfIdf_MNB TfIdf_BNB LSA_Rocchio LSA_KNN\n",
              "TfIdf_Rocchio FALSE          TRUE     FALSE      TRUE      TRUE        TRUE  \n",
              "TfIdf_KNN      TRUE         FALSE     FALSE      TRUE      TRUE        TRUE  \n",
              "TfIdf_MNB     FALSE         FALSE     FALSE      TRUE      TRUE        TRUE  \n",
              "TfIdf_BNB      TRUE          TRUE      TRUE     FALSE      TRUE       FALSE  \n",
              "LSA_Rocchio    TRUE          TRUE      TRUE      TRUE     FALSE        TRUE  \n",
              "LSA_KNN        TRUE          TRUE      TRUE     FALSE      TRUE       FALSE  "
            ],
            "text/latex": "A matrix: 6 × 6 of type lgl\n\\begin{tabular}{r|llllll}\n  & TfIdf\\_Rocchio & TfIdf\\_KNN & TfIdf\\_MNB & TfIdf\\_BNB & LSA\\_Rocchio & LSA\\_KNN\\\\\n\\hline\n\tTfIdf\\_Rocchio & FALSE &  TRUE & FALSE &  TRUE &  TRUE &  TRUE\\\\\n\tTfIdf\\_KNN &  TRUE & FALSE & FALSE &  TRUE &  TRUE &  TRUE\\\\\n\tTfIdf\\_MNB & FALSE & FALSE & FALSE &  TRUE &  TRUE &  TRUE\\\\\n\tTfIdf\\_BNB &  TRUE &  TRUE &  TRUE & FALSE &  TRUE & FALSE\\\\\n\tLSA\\_Rocchio &  TRUE &  TRUE &  TRUE &  TRUE & FALSE &  TRUE\\\\\n\tLSA\\_KNN &  TRUE &  TRUE &  TRUE & FALSE &  TRUE & FALSE\\\\\n\\end{tabular}\n",
            "text/markdown": "\nA matrix: 6 × 6 of type lgl\n\n| <!--/--> | TfIdf_Rocchio | TfIdf_KNN | TfIdf_MNB | TfIdf_BNB | LSA_Rocchio | LSA_KNN |\n|---|---|---|---|---|---|---|\n| TfIdf_Rocchio | FALSE |  TRUE | FALSE |  TRUE |  TRUE |  TRUE |\n| TfIdf_KNN |  TRUE | FALSE | FALSE |  TRUE |  TRUE |  TRUE |\n| TfIdf_MNB | FALSE | FALSE | FALSE |  TRUE |  TRUE |  TRUE |\n| TfIdf_BNB |  TRUE |  TRUE |  TRUE | FALSE |  TRUE | FALSE |\n| LSA_Rocchio |  TRUE |  TRUE |  TRUE |  TRUE | FALSE |  TRUE |\n| LSA_KNN |  TRUE |  TRUE |  TRUE | FALSE |  TRUE | FALSE |\n\n",
            "text/html": [
              "<table class=\"dataframe\">\n",
              "<caption>A matrix: 6 × 6 of type lgl</caption>\n",
              "<thead>\n",
              "\t<tr><th></th><th scope=col>TfIdf_Rocchio</th><th scope=col>TfIdf_KNN</th><th scope=col>TfIdf_MNB</th><th scope=col>TfIdf_BNB</th><th scope=col>LSA_Rocchio</th><th scope=col>LSA_KNN</th></tr>\n",
              "</thead>\n",
              "<tbody>\n",
              "\t<tr><th scope=row>TfIdf_Rocchio</th><td>FALSE</td><td> TRUE</td><td>FALSE</td><td> TRUE</td><td> TRUE</td><td> TRUE</td></tr>\n",
              "\t<tr><th scope=row>TfIdf_KNN</th><td> TRUE</td><td>FALSE</td><td>FALSE</td><td> TRUE</td><td> TRUE</td><td> TRUE</td></tr>\n",
              "\t<tr><th scope=row>TfIdf_MNB</th><td>FALSE</td><td>FALSE</td><td>FALSE</td><td> TRUE</td><td> TRUE</td><td> TRUE</td></tr>\n",
              "\t<tr><th scope=row>TfIdf_BNB</th><td> TRUE</td><td> TRUE</td><td> TRUE</td><td>FALSE</td><td> TRUE</td><td>FALSE</td></tr>\n",
              "\t<tr><th scope=row>LSA_Rocchio</th><td> TRUE</td><td> TRUE</td><td> TRUE</td><td> TRUE</td><td>FALSE</td><td> TRUE</td></tr>\n",
              "\t<tr><th scope=row>LSA_KNN</th><td> TRUE</td><td> TRUE</td><td> TRUE</td><td>FALSE</td><td> TRUE</td><td>FALSE</td></tr>\n",
              "</tbody>\n",
              "</table>\n"
            ]
          },
          "metadata": {
            "tags": []
          }
        }
      ]
    },
    {
      "cell_type": "code",
      "metadata": {
        "id": "WsUO1R1UWKTN"
      },
      "source": [
        "Z<-(accVarP[\"TfIdf_Rocchio\",\"acc\"]-accVarP[\"TfIdf_MNB\",\"acc\"])/(accVarP[\"TfIdf_Rocchio\",\"var\"]+accVarP[\"TfIdf_MNB\",\"var\"])^0.5"
      ],
      "execution_count": 120,
      "outputs": []
    },
    {
      "cell_type": "code",
      "metadata": {
        "colab": {
          "base_uri": "https://localhost:8080/",
          "height": 34
        },
        "id": "MJRg43yUYOH6",
        "outputId": "9ef40c35-d3fa-4426-bff3-ae11ba9bba57"
      },
      "source": [
        "reverseZhalfalpha<-function(x) pnorm(x)*2-1\n",
        "reverseZhalfalpha(Z)"
      ],
      "execution_count": 121,
      "outputs": [
        {
          "output_type": "display_data",
          "data": {
            "text/plain": [
              "[1] 0.8151998"
            ],
            "text/latex": "0.815199835475175",
            "text/markdown": "0.815199835475175",
            "text/html": [
              "0.815199835475175"
            ]
          },
          "metadata": {
            "tags": []
          }
        }
      ]
    },
    {
      "cell_type": "code",
      "metadata": {
        "colab": {
          "base_uri": "https://localhost:8080/",
          "height": 242
        },
        "id": "WLQGHneeYQUp",
        "outputId": "5f8e9d44-f1cd-46c1-8748-d1356e00cbe9"
      },
      "source": [
        "apply(accVarP,1,function(x) apply(accVarP,1, function(y) diff_stat_signif(1-x[\"acc\"],x[\"var\"], 1-y[\"acc\"], y[\"var\"], 0.8151)))"
      ],
      "execution_count": 123,
      "outputs": [
        {
          "output_type": "display_data",
          "data": {
            "text/plain": [
              "              TfIdf_Rocchio TfIdf_KNN TfIdf_MNB TfIdf_BNB LSA_Rocchio LSA_KNN\n",
              "TfIdf_Rocchio FALSE          TRUE      TRUE      TRUE      TRUE        TRUE  \n",
              "TfIdf_KNN      TRUE         FALSE     FALSE      TRUE      TRUE        TRUE  \n",
              "TfIdf_MNB      TRUE         FALSE     FALSE      TRUE      TRUE        TRUE  \n",
              "TfIdf_BNB      TRUE          TRUE      TRUE     FALSE      TRUE       FALSE  \n",
              "LSA_Rocchio    TRUE          TRUE      TRUE      TRUE     FALSE        TRUE  \n",
              "LSA_KNN        TRUE          TRUE      TRUE     FALSE      TRUE       FALSE  "
            ],
            "text/latex": "A matrix: 6 × 6 of type lgl\n\\begin{tabular}{r|llllll}\n  & TfIdf\\_Rocchio & TfIdf\\_KNN & TfIdf\\_MNB & TfIdf\\_BNB & LSA\\_Rocchio & LSA\\_KNN\\\\\n\\hline\n\tTfIdf\\_Rocchio & FALSE &  TRUE &  TRUE &  TRUE &  TRUE &  TRUE\\\\\n\tTfIdf\\_KNN &  TRUE & FALSE & FALSE &  TRUE &  TRUE &  TRUE\\\\\n\tTfIdf\\_MNB &  TRUE & FALSE & FALSE &  TRUE &  TRUE &  TRUE\\\\\n\tTfIdf\\_BNB &  TRUE &  TRUE &  TRUE & FALSE &  TRUE & FALSE\\\\\n\tLSA\\_Rocchio &  TRUE &  TRUE &  TRUE &  TRUE & FALSE &  TRUE\\\\\n\tLSA\\_KNN &  TRUE &  TRUE &  TRUE & FALSE &  TRUE & FALSE\\\\\n\\end{tabular}\n",
            "text/markdown": "\nA matrix: 6 × 6 of type lgl\n\n| <!--/--> | TfIdf_Rocchio | TfIdf_KNN | TfIdf_MNB | TfIdf_BNB | LSA_Rocchio | LSA_KNN |\n|---|---|---|---|---|---|---|\n| TfIdf_Rocchio | FALSE |  TRUE |  TRUE |  TRUE |  TRUE |  TRUE |\n| TfIdf_KNN |  TRUE | FALSE | FALSE |  TRUE |  TRUE |  TRUE |\n| TfIdf_MNB |  TRUE | FALSE | FALSE |  TRUE |  TRUE |  TRUE |\n| TfIdf_BNB |  TRUE |  TRUE |  TRUE | FALSE |  TRUE | FALSE |\n| LSA_Rocchio |  TRUE |  TRUE |  TRUE |  TRUE | FALSE |  TRUE |\n| LSA_KNN |  TRUE |  TRUE |  TRUE | FALSE |  TRUE | FALSE |\n\n",
            "text/html": [
              "<table class=\"dataframe\">\n",
              "<caption>A matrix: 6 × 6 of type lgl</caption>\n",
              "<thead>\n",
              "\t<tr><th></th><th scope=col>TfIdf_Rocchio</th><th scope=col>TfIdf_KNN</th><th scope=col>TfIdf_MNB</th><th scope=col>TfIdf_BNB</th><th scope=col>LSA_Rocchio</th><th scope=col>LSA_KNN</th></tr>\n",
              "</thead>\n",
              "<tbody>\n",
              "\t<tr><th scope=row>TfIdf_Rocchio</th><td>FALSE</td><td> TRUE</td><td> TRUE</td><td> TRUE</td><td> TRUE</td><td> TRUE</td></tr>\n",
              "\t<tr><th scope=row>TfIdf_KNN</th><td> TRUE</td><td>FALSE</td><td>FALSE</td><td> TRUE</td><td> TRUE</td><td> TRUE</td></tr>\n",
              "\t<tr><th scope=row>TfIdf_MNB</th><td> TRUE</td><td>FALSE</td><td>FALSE</td><td> TRUE</td><td> TRUE</td><td> TRUE</td></tr>\n",
              "\t<tr><th scope=row>TfIdf_BNB</th><td> TRUE</td><td> TRUE</td><td> TRUE</td><td>FALSE</td><td> TRUE</td><td>FALSE</td></tr>\n",
              "\t<tr><th scope=row>LSA_Rocchio</th><td> TRUE</td><td> TRUE</td><td> TRUE</td><td> TRUE</td><td>FALSE</td><td> TRUE</td></tr>\n",
              "\t<tr><th scope=row>LSA_KNN</th><td> TRUE</td><td> TRUE</td><td> TRUE</td><td>FALSE</td><td> TRUE</td><td>FALSE</td></tr>\n",
              "</tbody>\n",
              "</table>\n"
            ]
          },
          "metadata": {
            "tags": []
          }
        }
      ]
    },
    {
      "cell_type": "code",
      "metadata": {
        "colab": {
          "base_uri": "https://localhost:8080/",
          "height": 242
        },
        "id": "xvzCmBc65uYv",
        "outputId": "76f0edbc-24fe-4bfe-fb51-f032f5221df2"
      },
      "source": [
        "apply(accVarP,1,function(x) apply(accVarP,1, function(y) diff_stat_signif(1-x[\"acc\"],x[\"var\"], 1-y[\"acc\"], y[\"var\"], 0.8152)))"
      ],
      "execution_count": 125,
      "outputs": [
        {
          "output_type": "display_data",
          "data": {
            "text/plain": [
              "              TfIdf_Rocchio TfIdf_KNN TfIdf_MNB TfIdf_BNB LSA_Rocchio LSA_KNN\n",
              "TfIdf_Rocchio FALSE          TRUE     FALSE      TRUE      TRUE        TRUE  \n",
              "TfIdf_KNN      TRUE         FALSE     FALSE      TRUE      TRUE        TRUE  \n",
              "TfIdf_MNB     FALSE         FALSE     FALSE      TRUE      TRUE        TRUE  \n",
              "TfIdf_BNB      TRUE          TRUE      TRUE     FALSE      TRUE       FALSE  \n",
              "LSA_Rocchio    TRUE          TRUE      TRUE      TRUE     FALSE        TRUE  \n",
              "LSA_KNN        TRUE          TRUE      TRUE     FALSE      TRUE       FALSE  "
            ],
            "text/latex": "A matrix: 6 × 6 of type lgl\n\\begin{tabular}{r|llllll}\n  & TfIdf\\_Rocchio & TfIdf\\_KNN & TfIdf\\_MNB & TfIdf\\_BNB & LSA\\_Rocchio & LSA\\_KNN\\\\\n\\hline\n\tTfIdf\\_Rocchio & FALSE &  TRUE & FALSE &  TRUE &  TRUE &  TRUE\\\\\n\tTfIdf\\_KNN &  TRUE & FALSE & FALSE &  TRUE &  TRUE &  TRUE\\\\\n\tTfIdf\\_MNB & FALSE & FALSE & FALSE &  TRUE &  TRUE &  TRUE\\\\\n\tTfIdf\\_BNB &  TRUE &  TRUE &  TRUE & FALSE &  TRUE & FALSE\\\\\n\tLSA\\_Rocchio &  TRUE &  TRUE &  TRUE &  TRUE & FALSE &  TRUE\\\\\n\tLSA\\_KNN &  TRUE &  TRUE &  TRUE & FALSE &  TRUE & FALSE\\\\\n\\end{tabular}\n",
            "text/markdown": "\nA matrix: 6 × 6 of type lgl\n\n| <!--/--> | TfIdf_Rocchio | TfIdf_KNN | TfIdf_MNB | TfIdf_BNB | LSA_Rocchio | LSA_KNN |\n|---|---|---|---|---|---|---|\n| TfIdf_Rocchio | FALSE |  TRUE | FALSE |  TRUE |  TRUE |  TRUE |\n| TfIdf_KNN |  TRUE | FALSE | FALSE |  TRUE |  TRUE |  TRUE |\n| TfIdf_MNB | FALSE | FALSE | FALSE |  TRUE |  TRUE |  TRUE |\n| TfIdf_BNB |  TRUE |  TRUE |  TRUE | FALSE |  TRUE | FALSE |\n| LSA_Rocchio |  TRUE |  TRUE |  TRUE |  TRUE | FALSE |  TRUE |\n| LSA_KNN |  TRUE |  TRUE |  TRUE | FALSE |  TRUE | FALSE |\n\n",
            "text/html": [
              "<table class=\"dataframe\">\n",
              "<caption>A matrix: 6 × 6 of type lgl</caption>\n",
              "<thead>\n",
              "\t<tr><th></th><th scope=col>TfIdf_Rocchio</th><th scope=col>TfIdf_KNN</th><th scope=col>TfIdf_MNB</th><th scope=col>TfIdf_BNB</th><th scope=col>LSA_Rocchio</th><th scope=col>LSA_KNN</th></tr>\n",
              "</thead>\n",
              "<tbody>\n",
              "\t<tr><th scope=row>TfIdf_Rocchio</th><td>FALSE</td><td> TRUE</td><td>FALSE</td><td> TRUE</td><td> TRUE</td><td> TRUE</td></tr>\n",
              "\t<tr><th scope=row>TfIdf_KNN</th><td> TRUE</td><td>FALSE</td><td>FALSE</td><td> TRUE</td><td> TRUE</td><td> TRUE</td></tr>\n",
              "\t<tr><th scope=row>TfIdf_MNB</th><td>FALSE</td><td>FALSE</td><td>FALSE</td><td> TRUE</td><td> TRUE</td><td> TRUE</td></tr>\n",
              "\t<tr><th scope=row>TfIdf_BNB</th><td> TRUE</td><td> TRUE</td><td> TRUE</td><td>FALSE</td><td> TRUE</td><td>FALSE</td></tr>\n",
              "\t<tr><th scope=row>LSA_Rocchio</th><td> TRUE</td><td> TRUE</td><td> TRUE</td><td> TRUE</td><td>FALSE</td><td> TRUE</td></tr>\n",
              "\t<tr><th scope=row>LSA_KNN</th><td> TRUE</td><td> TRUE</td><td> TRUE</td><td>FALSE</td><td> TRUE</td><td>FALSE</td></tr>\n",
              "</tbody>\n",
              "</table>\n"
            ]
          },
          "metadata": {
            "tags": []
          }
        }
      ]
    },
    {
      "cell_type": "code",
      "metadata": {
        "colab": {
          "base_uri": "https://localhost:8080/",
          "height": 242
        },
        "id": "LJQkVSqq5ueX",
        "outputId": "854fbcd0-1195-4ee0-e8b5-25db8af4236f"
      },
      "source": [
        "apply(accVarP,1,function(x) apply(accVarP,1, function(y) diff_stat_significant(1-x[\"acc\"],x[\"var\"], 1-y[\"acc\"], y[\"var\"], 0.8152)))"
      ],
      "execution_count": 126,
      "outputs": [
        {
          "output_type": "display_data",
          "data": {
            "text/plain": [
              "              TfIdf_Rocchio TfIdf_KNN TfIdf_MNB TfIdf_BNB LSA_Rocchio LSA_KNN\n",
              "TfIdf_Rocchio FALSE          TRUE     FALSE      TRUE      TRUE        TRUE  \n",
              "TfIdf_KNN      TRUE         FALSE     FALSE      TRUE      TRUE        TRUE  \n",
              "TfIdf_MNB     FALSE         FALSE     FALSE      TRUE      TRUE        TRUE  \n",
              "TfIdf_BNB      TRUE          TRUE      TRUE     FALSE      TRUE       FALSE  \n",
              "LSA_Rocchio    TRUE          TRUE      TRUE      TRUE     FALSE        TRUE  \n",
              "LSA_KNN        TRUE          TRUE      TRUE     FALSE      TRUE       FALSE  "
            ],
            "text/latex": "A matrix: 6 × 6 of type lgl\n\\begin{tabular}{r|llllll}\n  & TfIdf\\_Rocchio & TfIdf\\_KNN & TfIdf\\_MNB & TfIdf\\_BNB & LSA\\_Rocchio & LSA\\_KNN\\\\\n\\hline\n\tTfIdf\\_Rocchio & FALSE &  TRUE & FALSE &  TRUE &  TRUE &  TRUE\\\\\n\tTfIdf\\_KNN &  TRUE & FALSE & FALSE &  TRUE &  TRUE &  TRUE\\\\\n\tTfIdf\\_MNB & FALSE & FALSE & FALSE &  TRUE &  TRUE &  TRUE\\\\\n\tTfIdf\\_BNB &  TRUE &  TRUE &  TRUE & FALSE &  TRUE & FALSE\\\\\n\tLSA\\_Rocchio &  TRUE &  TRUE &  TRUE &  TRUE & FALSE &  TRUE\\\\\n\tLSA\\_KNN &  TRUE &  TRUE &  TRUE & FALSE &  TRUE & FALSE\\\\\n\\end{tabular}\n",
            "text/markdown": "\nA matrix: 6 × 6 of type lgl\n\n| <!--/--> | TfIdf_Rocchio | TfIdf_KNN | TfIdf_MNB | TfIdf_BNB | LSA_Rocchio | LSA_KNN |\n|---|---|---|---|---|---|---|\n| TfIdf_Rocchio | FALSE |  TRUE | FALSE |  TRUE |  TRUE |  TRUE |\n| TfIdf_KNN |  TRUE | FALSE | FALSE |  TRUE |  TRUE |  TRUE |\n| TfIdf_MNB | FALSE | FALSE | FALSE |  TRUE |  TRUE |  TRUE |\n| TfIdf_BNB |  TRUE |  TRUE |  TRUE | FALSE |  TRUE | FALSE |\n| LSA_Rocchio |  TRUE |  TRUE |  TRUE |  TRUE | FALSE |  TRUE |\n| LSA_KNN |  TRUE |  TRUE |  TRUE | FALSE |  TRUE | FALSE |\n\n",
            "text/html": [
              "<table class=\"dataframe\">\n",
              "<caption>A matrix: 6 × 6 of type lgl</caption>\n",
              "<thead>\n",
              "\t<tr><th></th><th scope=col>TfIdf_Rocchio</th><th scope=col>TfIdf_KNN</th><th scope=col>TfIdf_MNB</th><th scope=col>TfIdf_BNB</th><th scope=col>LSA_Rocchio</th><th scope=col>LSA_KNN</th></tr>\n",
              "</thead>\n",
              "<tbody>\n",
              "\t<tr><th scope=row>TfIdf_Rocchio</th><td>FALSE</td><td> TRUE</td><td>FALSE</td><td> TRUE</td><td> TRUE</td><td> TRUE</td></tr>\n",
              "\t<tr><th scope=row>TfIdf_KNN</th><td> TRUE</td><td>FALSE</td><td>FALSE</td><td> TRUE</td><td> TRUE</td><td> TRUE</td></tr>\n",
              "\t<tr><th scope=row>TfIdf_MNB</th><td>FALSE</td><td>FALSE</td><td>FALSE</td><td> TRUE</td><td> TRUE</td><td> TRUE</td></tr>\n",
              "\t<tr><th scope=row>TfIdf_BNB</th><td> TRUE</td><td> TRUE</td><td> TRUE</td><td>FALSE</td><td> TRUE</td><td>FALSE</td></tr>\n",
              "\t<tr><th scope=row>LSA_Rocchio</th><td> TRUE</td><td> TRUE</td><td> TRUE</td><td> TRUE</td><td>FALSE</td><td> TRUE</td></tr>\n",
              "\t<tr><th scope=row>LSA_KNN</th><td> TRUE</td><td> TRUE</td><td> TRUE</td><td>FALSE</td><td> TRUE</td><td>FALSE</td></tr>\n",
              "</tbody>\n",
              "</table>\n"
            ]
          },
          "metadata": {
            "tags": []
          }
        }
      ]
    },
    {
      "cell_type": "code",
      "metadata": {
        "colab": {
          "base_uri": "https://localhost:8080/",
          "height": 242
        },
        "id": "DVOJ7Xh2bWQ4",
        "outputId": "d6994265-ebd5-49a1-ff18-9930ebcf6afe"
      },
      "source": [
        "apply(accVarP,1,function(x) apply(accVarP,1, function(y) reverseZhalfalpha(abs(x[\"acc\"]-y[\"acc\"])/(x[\"var\"]+x[\"var\"])^0.5)))"
      ],
      "execution_count": 127,
      "outputs": [
        {
          "output_type": "display_data",
          "data": {
            "text/plain": [
              "              TfIdf_Rocchio TfIdf_KNN TfIdf_MNB TfIdf_BNB LSA_Rocchio LSA_KNN  \n",
              "TfIdf_Rocchio 0.0000000     0.9873790 0.8132568 1.0000000 1           1.0000000\n",
              "TfIdf_KNN     0.9887874     0.0000000 0.7672581 1.0000000 1           1.0000000\n",
              "TfIdf_MNB     0.8171536     0.7636493 0.0000000 1.0000000 1           1.0000000\n",
              "TfIdf_BNB     1.0000000     1.0000000 1.0000000 0.0000000 1           0.1136881\n",
              "LSA_Rocchio   1.0000000     1.0000000 1.0000000 1.0000000 0           1.0000000\n",
              "LSA_KNN       1.0000000     1.0000000 1.0000000 0.1136091 1           0.0000000"
            ],
            "text/latex": "A matrix: 6 × 6 of type dbl\n\\begin{tabular}{r|llllll}\n  & TfIdf\\_Rocchio & TfIdf\\_KNN & TfIdf\\_MNB & TfIdf\\_BNB & LSA\\_Rocchio & LSA\\_KNN\\\\\n\\hline\n\tTfIdf\\_Rocchio & 0.0000000 & 0.9873790 & 0.8132568 & 1.0000000 & 1 & 1.0000000\\\\\n\tTfIdf\\_KNN & 0.9887874 & 0.0000000 & 0.7672581 & 1.0000000 & 1 & 1.0000000\\\\\n\tTfIdf\\_MNB & 0.8171536 & 0.7636493 & 0.0000000 & 1.0000000 & 1 & 1.0000000\\\\\n\tTfIdf\\_BNB & 1.0000000 & 1.0000000 & 1.0000000 & 0.0000000 & 1 & 0.1136881\\\\\n\tLSA\\_Rocchio & 1.0000000 & 1.0000000 & 1.0000000 & 1.0000000 & 0 & 1.0000000\\\\\n\tLSA\\_KNN & 1.0000000 & 1.0000000 & 1.0000000 & 0.1136091 & 1 & 0.0000000\\\\\n\\end{tabular}\n",
            "text/markdown": "\nA matrix: 6 × 6 of type dbl\n\n| <!--/--> | TfIdf_Rocchio | TfIdf_KNN | TfIdf_MNB | TfIdf_BNB | LSA_Rocchio | LSA_KNN |\n|---|---|---|---|---|---|---|\n| TfIdf_Rocchio | 0.0000000 | 0.9873790 | 0.8132568 | 1.0000000 | 1 | 1.0000000 |\n| TfIdf_KNN | 0.9887874 | 0.0000000 | 0.7672581 | 1.0000000 | 1 | 1.0000000 |\n| TfIdf_MNB | 0.8171536 | 0.7636493 | 0.0000000 | 1.0000000 | 1 | 1.0000000 |\n| TfIdf_BNB | 1.0000000 | 1.0000000 | 1.0000000 | 0.0000000 | 1 | 0.1136881 |\n| LSA_Rocchio | 1.0000000 | 1.0000000 | 1.0000000 | 1.0000000 | 0 | 1.0000000 |\n| LSA_KNN | 1.0000000 | 1.0000000 | 1.0000000 | 0.1136091 | 1 | 0.0000000 |\n\n",
            "text/html": [
              "<table class=\"dataframe\">\n",
              "<caption>A matrix: 6 × 6 of type dbl</caption>\n",
              "<thead>\n",
              "\t<tr><th></th><th scope=col>TfIdf_Rocchio</th><th scope=col>TfIdf_KNN</th><th scope=col>TfIdf_MNB</th><th scope=col>TfIdf_BNB</th><th scope=col>LSA_Rocchio</th><th scope=col>LSA_KNN</th></tr>\n",
              "</thead>\n",
              "<tbody>\n",
              "\t<tr><th scope=row>TfIdf_Rocchio</th><td>0.0000000</td><td>0.9873790</td><td>0.8132568</td><td>1.0000000</td><td>1</td><td>1.0000000</td></tr>\n",
              "\t<tr><th scope=row>TfIdf_KNN</th><td>0.9887874</td><td>0.0000000</td><td>0.7672581</td><td>1.0000000</td><td>1</td><td>1.0000000</td></tr>\n",
              "\t<tr><th scope=row>TfIdf_MNB</th><td>0.8171536</td><td>0.7636493</td><td>0.0000000</td><td>1.0000000</td><td>1</td><td>1.0000000</td></tr>\n",
              "\t<tr><th scope=row>TfIdf_BNB</th><td>1.0000000</td><td>1.0000000</td><td>1.0000000</td><td>0.0000000</td><td>1</td><td>0.1136881</td></tr>\n",
              "\t<tr><th scope=row>LSA_Rocchio</th><td>1.0000000</td><td>1.0000000</td><td>1.0000000</td><td>1.0000000</td><td>0</td><td>1.0000000</td></tr>\n",
              "\t<tr><th scope=row>LSA_KNN</th><td>1.0000000</td><td>1.0000000</td><td>1.0000000</td><td>0.1136091</td><td>1</td><td>0.0000000</td></tr>\n",
              "</tbody>\n",
              "</table>\n"
            ]
          },
          "metadata": {
            "tags": []
          }
        }
      ]
    }
  ]
}