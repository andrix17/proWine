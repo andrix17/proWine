{
  "nbformat": 4,
  "nbformat_minor": 0,
  "metadata": {
    "colab": {
      "name": "ProWine.ipynb",
      "provenance": [],
      "toc_visible": true,
      "authorship_tag": "ABX9TyNmz9Q2BBrwrxpUxEwa9hbn",
      "include_colab_link": true
    },
    "kernelspec": {
      "display_name": "R",
      "name": "ir"
    }
  },
  "cells": [
    {
      "cell_type": "markdown",
      "metadata": {
        "id": "view-in-github",
        "colab_type": "text"
      },
      "source": [
        "<a href=\"https://colab.research.google.com/github/andrix17/proWine/blob/main/notebook/TF-IDFClassification.ipynb\" target=\"_parent\"><img src=\"https://colab.research.google.com/assets/colab-badge.svg\" alt=\"Open In Colab\"/></a>"
      ]
    },
    {
      "cell_type": "markdown",
      "metadata": {
        "id": "CldEq29b-wu3"
      },
      "source": [
        "# **ProWine Project: Classificatori su TF-IDF** \n",
        "Script R per analisi dei vitigni dei vini usando un dataset di recensioni preso da Kaggle https://www.kaggle.com/zynicide/wine-reviews selezionando solo i vitigni che si vogliono analizzare."
      ]
    },
    {
      "cell_type": "markdown",
      "metadata": {
        "id": "zDkUHJgPJQr4"
      },
      "source": [
        "## **Installazione librerie e download dei dati necessari**"
      ]
    },
    {
      "cell_type": "code",
      "metadata": {
        "colab": {
          "base_uri": "https://localhost:8080/"
        },
        "id": "t5Gct3sxISK5",
        "outputId": "f951d96a-f9ee-467f-aec8-1fc1a070d358"
      },
      "source": [
        "install.packages(\"lsa\")\n",
        "install.packages(\"tm\")\n",
        "install.packages(\"RWeka\")\n",
        "install.packages(\"stopwords\")\n",
        "install.packages(\"class\")\n",
        "install.packages(\"sda\")\n",
        "install.packages(\"parallel\")\n",
        "install.packages(\"naivebayes\")\n",
        "library(naivebayes)\n",
        "library(parallel)\n",
        "library(sda)\n",
        "library(class)\n",
        "library(tm)\n",
        "library(lsa)\n",
        "library(RWeka)\n",
        "library(stopwords)"
      ],
      "execution_count": 1,
      "outputs": [
        {
          "output_type": "stream",
          "text": [
            "Installing package into ‘/usr/local/lib/R/site-library’\n",
            "(as ‘lib’ is unspecified)\n",
            "\n",
            "also installing the dependency ‘SnowballC’\n",
            "\n",
            "\n",
            "Installing package into ‘/usr/local/lib/R/site-library’\n",
            "(as ‘lib’ is unspecified)\n",
            "\n",
            "also installing the dependencies ‘NLP’, ‘slam’\n",
            "\n",
            "\n",
            "Installing package into ‘/usr/local/lib/R/site-library’\n",
            "(as ‘lib’ is unspecified)\n",
            "\n",
            "also installing the dependencies ‘RWekajars’, ‘rJava’\n",
            "\n",
            "\n",
            "Installing package into ‘/usr/local/lib/R/site-library’\n",
            "(as ‘lib’ is unspecified)\n",
            "\n",
            "also installing the dependency ‘ISOcodes’\n",
            "\n",
            "\n",
            "Installing package into ‘/usr/local/lib/R/site-library’\n",
            "(as ‘lib’ is unspecified)\n",
            "\n",
            "Installing package into ‘/usr/local/lib/R/site-library’\n",
            "(as ‘lib’ is unspecified)\n",
            "\n",
            "also installing the dependencies ‘entropy’, ‘corpcor’, ‘fdrtool’\n",
            "\n",
            "\n",
            "Installing package into ‘/usr/local/lib/R/site-library’\n",
            "(as ‘lib’ is unspecified)\n",
            "\n",
            "Warning message:\n",
            "“package ‘parallel’ is a base package, and should not be updated”\n",
            "Installing package into ‘/usr/local/lib/R/site-library’\n",
            "(as ‘lib’ is unspecified)\n",
            "\n",
            "naivebayes 0.9.7 loaded\n",
            "\n",
            "Loading required package: entropy\n",
            "\n",
            "Loading required package: corpcor\n",
            "\n",
            "Loading required package: fdrtool\n",
            "\n",
            "Loading required package: NLP\n",
            "\n",
            "Loading required package: SnowballC\n",
            "\n",
            "\n",
            "Attaching package: ‘lsa’\n",
            "\n",
            "\n",
            "The following object is masked from ‘package:entropy’:\n",
            "\n",
            "    entropy\n",
            "\n",
            "\n",
            "\n",
            "Attaching package: ‘stopwords’\n",
            "\n",
            "\n",
            "The following object is masked from ‘package:tm’:\n",
            "\n",
            "    stopwords\n",
            "\n",
            "\n"
          ],
          "name": "stderr"
        }
      ]
    },
    {
      "cell_type": "code",
      "metadata": {
        "id": "Un5Lkh2LIWKt"
      },
      "source": [
        "#Aggiornare link da github\n",
        "download.file('https://raw.githubusercontent.com/andrix17/proWine/main/dataset/winemag-data-130k-v2.csv?token=AMASMT7SXBAZQZZRDBJC3JTAWZIYW','wineData.csv')"
      ],
      "execution_count": 2,
      "outputs": []
    },
    {
      "cell_type": "code",
      "metadata": {
        "id": "aQg4tNqzfBrz"
      },
      "source": [
        "wineData <- read.csv('wineData.csv')"
      ],
      "execution_count": 3,
      "outputs": []
    },
    {
      "cell_type": "markdown",
      "metadata": {
        "id": "MGE50-qLMA8d"
      },
      "source": [
        "## **Preparazione dati**"
      ]
    },
    {
      "cell_type": "code",
      "metadata": {
        "colab": {
          "base_uri": "https://localhost:8080/",
          "height": 627
        },
        "id": "zIllGju8kvlb",
        "outputId": "4cae258e-ef85-4037-8344-84efd6c686f7"
      },
      "source": [
        "head(wineData)"
      ],
      "execution_count": 4,
      "outputs": [
        {
          "output_type": "display_data",
          "data": {
            "text/plain": [
              "  X country \n",
              "1 0 Italy   \n",
              "2 1 Portugal\n",
              "3 2 US      \n",
              "4 3 US      \n",
              "5 4 US      \n",
              "6 5 Spain   \n",
              "  description                                                                                                                                                                                                                                                          \n",
              "1 Aromas include tropical fruit, broom, brimstone and dried herb. The palate isn't overly expressive, offering unripened apple, citrus and dried sage alongside brisk acidity.                                                                                         \n",
              "2 This is ripe and fruity, a wine that is smooth while still structured. Firm tannins are filled out with juicy red berry fruits and freshened with acidity. It's  already drinkable, although it will certainly be better from 2016.                                  \n",
              "3 Tart and snappy, the flavors of lime flesh and rind dominate. Some green pineapple pokes through, with crisp acidity underscoring the flavors. The wine was all stainless-steel fermented.                                                                           \n",
              "4 Pineapple rind, lemon pith and orange blossom start off the aromas. The palate is a bit more opulent, with notes of honey-drizzled guava and mango giving way to a slightly astringent, semidry finish.                                                              \n",
              "5 Much like the regular bottling from 2012, this comes across as rather rough and tannic, with rustic, earthy, herbal characteristics. Nonetheless, if you think of it as a pleasantly unfussy country wine, it's a good companion to a hearty winter stew.            \n",
              "6 Blackberry and raspberry aromas show a typical Navarran whiff of green herbs and, in this case, horseradish. In the mouth, this is fairly full bodied, with tomatoey acidity. Spicy, herbal flavors complement dark plum fruit, while the finish is fresh but grabby.\n",
              "  designation                        points price province         \n",
              "1 Vulkà Bianco                       87     NA    Sicily & Sardinia\n",
              "2 Avidagos                           87     15    Douro            \n",
              "3                                    87     14    Oregon           \n",
              "4 Reserve Late Harvest               87     13    Michigan         \n",
              "5 Vintner's Reserve Wild Child Block 87     65    Oregon           \n",
              "6 Ars In Vitro                       87     15    Northern Spain   \n",
              "  region_1            region_2          taster_name       \n",
              "1 Etna                                  Kerin O’Keefe     \n",
              "2                                       Roger Voss        \n",
              "3 Willamette Valley   Willamette Valley Paul Gregutt      \n",
              "4 Lake Michigan Shore                   Alexander Peartree\n",
              "5 Willamette Valley   Willamette Valley Paul Gregutt      \n",
              "6 Navarra                               Michael Schachner \n",
              "  taster_twitter_handle\n",
              "1 @kerinokeefe         \n",
              "2 @vossroger           \n",
              "3 @paulgwine           \n",
              "4                      \n",
              "5 @paulgwine           \n",
              "6 @wineschach          \n",
              "  title                                                                              \n",
              "1 Nicosia 2013 Vulkà Bianco  (Etna)                                                  \n",
              "2 Quinta dos Avidagos 2011 Avidagos Red (Douro)                                      \n",
              "3 Rainstorm 2013 Pinot Gris (Willamette Valley)                                      \n",
              "4 St. Julian 2013 Reserve Late Harvest Riesling (Lake Michigan Shore)                \n",
              "5 Sweet Cheeks 2012 Vintner's Reserve Wild Child Block Pinot Noir (Willamette Valley)\n",
              "6 Tandem 2011 Ars In Vitro Tempranillo-Merlot (Navarra)                              \n",
              "  variety            winery             \n",
              "1 White Blend        Nicosia            \n",
              "2 Portuguese Red     Quinta dos Avidagos\n",
              "3 Pinot Gris         Rainstorm          \n",
              "4 Riesling           St. Julian         \n",
              "5 Pinot Noir         Sweet Cheeks       \n",
              "6 Tempranillo-Merlot Tandem             "
            ],
            "text/latex": "A data.frame: 6 × 14\n\\begin{tabular}{r|llllllllllllll}\n  & X & country & description & designation & points & price & province & region\\_1 & region\\_2 & taster\\_name & taster\\_twitter\\_handle & title & variety & winery\\\\\n  & <int> & <chr> & <chr> & <chr> & <int> & <dbl> & <chr> & <chr> & <chr> & <chr> & <chr> & <chr> & <chr> & <chr>\\\\\n\\hline\n\t1 & 0 & Italy    & Aromas include tropical fruit, broom, brimstone and dried herb. The palate isn't overly expressive, offering unripened apple, citrus and dried sage alongside brisk acidity.                                                                                          & Vulkà Bianco                       & 87 & NA & Sicily \\& Sardinia & Etna                &                   & Kerin O’Keefe      & @kerinokeefe & Nicosia 2013 Vulkà Bianco  (Etna)                                                   & White Blend        & Nicosia            \\\\\n\t2 & 1 & Portugal & This is ripe and fruity, a wine that is smooth while still structured. Firm tannins are filled out with juicy red berry fruits and freshened with acidity. It's  already drinkable, although it will certainly be better from 2016.                                   & Avidagos                           & 87 & 15 & Douro             &                     &                   & Roger Voss         & @vossroger   & Quinta dos Avidagos 2011 Avidagos Red (Douro)                                       & Portuguese Red     & Quinta dos Avidagos\\\\\n\t3 & 2 & US       & Tart and snappy, the flavors of lime flesh and rind dominate. Some green pineapple pokes through, with crisp acidity underscoring the flavors. The wine was all stainless-steel fermented.                                                                            &                                    & 87 & 14 & Oregon            & Willamette Valley   & Willamette Valley & Paul Gregutt       & @paulgwine   & Rainstorm 2013 Pinot Gris (Willamette Valley)                                       & Pinot Gris         & Rainstorm          \\\\\n\t4 & 3 & US       & Pineapple rind, lemon pith and orange blossom start off the aromas. The palate is a bit more opulent, with notes of honey-drizzled guava and mango giving way to a slightly astringent, semidry finish.                                                               & Reserve Late Harvest               & 87 & 13 & Michigan          & Lake Michigan Shore &                   & Alexander Peartree &              & St. Julian 2013 Reserve Late Harvest Riesling (Lake Michigan Shore)                 & Riesling           & St. Julian         \\\\\n\t5 & 4 & US       & Much like the regular bottling from 2012, this comes across as rather rough and tannic, with rustic, earthy, herbal characteristics. Nonetheless, if you think of it as a pleasantly unfussy country wine, it's a good companion to a hearty winter stew.             & Vintner's Reserve Wild Child Block & 87 & 65 & Oregon            & Willamette Valley   & Willamette Valley & Paul Gregutt       & @paulgwine   & Sweet Cheeks 2012 Vintner's Reserve Wild Child Block Pinot Noir (Willamette Valley) & Pinot Noir         & Sweet Cheeks       \\\\\n\t6 & 5 & Spain    & Blackberry and raspberry aromas show a typical Navarran whiff of green herbs and, in this case, horseradish. In the mouth, this is fairly full bodied, with tomatoey acidity. Spicy, herbal flavors complement dark plum fruit, while the finish is fresh but grabby. & Ars In Vitro                       & 87 & 15 & Northern Spain    & Navarra             &                   & Michael Schachner  & @wineschach  & Tandem 2011 Ars In Vitro Tempranillo-Merlot (Navarra)                               & Tempranillo-Merlot & Tandem             \\\\\n\\end{tabular}\n",
            "text/markdown": "\nA data.frame: 6 × 14\n\n| <!--/--> | X &lt;int&gt; | country &lt;chr&gt; | description &lt;chr&gt; | designation &lt;chr&gt; | points &lt;int&gt; | price &lt;dbl&gt; | province &lt;chr&gt; | region_1 &lt;chr&gt; | region_2 &lt;chr&gt; | taster_name &lt;chr&gt; | taster_twitter_handle &lt;chr&gt; | title &lt;chr&gt; | variety &lt;chr&gt; | winery &lt;chr&gt; |\n|---|---|---|---|---|---|---|---|---|---|---|---|---|---|---|\n| 1 | 0 | Italy    | Aromas include tropical fruit, broom, brimstone and dried herb. The palate isn't overly expressive, offering unripened apple, citrus and dried sage alongside brisk acidity.                                                                                          | Vulkà Bianco                       | 87 | NA | Sicily &amp; Sardinia | Etna                | <!----> | Kerin O’Keefe      | @kerinokeefe | Nicosia 2013 Vulkà Bianco  (Etna)                                                   | White Blend        | Nicosia             |\n| 2 | 1 | Portugal | This is ripe and fruity, a wine that is smooth while still structured. Firm tannins are filled out with juicy red berry fruits and freshened with acidity. It's  already drinkable, although it will certainly be better from 2016.                                   | Avidagos                           | 87 | 15 | Douro             | <!----> | <!----> | Roger Voss         | @vossroger   | Quinta dos Avidagos 2011 Avidagos Red (Douro)                                       | Portuguese Red     | Quinta dos Avidagos |\n| 3 | 2 | US       | Tart and snappy, the flavors of lime flesh and rind dominate. Some green pineapple pokes through, with crisp acidity underscoring the flavors. The wine was all stainless-steel fermented.                                                                            | <!----> | 87 | 14 | Oregon            | Willamette Valley   | Willamette Valley | Paul Gregutt       | @paulgwine   | Rainstorm 2013 Pinot Gris (Willamette Valley)                                       | Pinot Gris         | Rainstorm           |\n| 4 | 3 | US       | Pineapple rind, lemon pith and orange blossom start off the aromas. The palate is a bit more opulent, with notes of honey-drizzled guava and mango giving way to a slightly astringent, semidry finish.                                                               | Reserve Late Harvest               | 87 | 13 | Michigan          | Lake Michigan Shore | <!----> | Alexander Peartree | <!----> | St. Julian 2013 Reserve Late Harvest Riesling (Lake Michigan Shore)                 | Riesling           | St. Julian          |\n| 5 | 4 | US       | Much like the regular bottling from 2012, this comes across as rather rough and tannic, with rustic, earthy, herbal characteristics. Nonetheless, if you think of it as a pleasantly unfussy country wine, it's a good companion to a hearty winter stew.             | Vintner's Reserve Wild Child Block | 87 | 65 | Oregon            | Willamette Valley   | Willamette Valley | Paul Gregutt       | @paulgwine   | Sweet Cheeks 2012 Vintner's Reserve Wild Child Block Pinot Noir (Willamette Valley) | Pinot Noir         | Sweet Cheeks        |\n| 6 | 5 | Spain    | Blackberry and raspberry aromas show a typical Navarran whiff of green herbs and, in this case, horseradish. In the mouth, this is fairly full bodied, with tomatoey acidity. Spicy, herbal flavors complement dark plum fruit, while the finish is fresh but grabby. | Ars In Vitro                       | 87 | 15 | Northern Spain    | Navarra             | <!----> | Michael Schachner  | @wineschach  | Tandem 2011 Ars In Vitro Tempranillo-Merlot (Navarra)                               | Tempranillo-Merlot | Tandem              |\n\n",
            "text/html": [
              "<table class=\"dataframe\">\n",
              "<caption>A data.frame: 6 × 14</caption>\n",
              "<thead>\n",
              "\t<tr><th></th><th scope=col>X</th><th scope=col>country</th><th scope=col>description</th><th scope=col>designation</th><th scope=col>points</th><th scope=col>price</th><th scope=col>province</th><th scope=col>region_1</th><th scope=col>region_2</th><th scope=col>taster_name</th><th scope=col>taster_twitter_handle</th><th scope=col>title</th><th scope=col>variety</th><th scope=col>winery</th></tr>\n",
              "\t<tr><th></th><th scope=col>&lt;int&gt;</th><th scope=col>&lt;chr&gt;</th><th scope=col>&lt;chr&gt;</th><th scope=col>&lt;chr&gt;</th><th scope=col>&lt;int&gt;</th><th scope=col>&lt;dbl&gt;</th><th scope=col>&lt;chr&gt;</th><th scope=col>&lt;chr&gt;</th><th scope=col>&lt;chr&gt;</th><th scope=col>&lt;chr&gt;</th><th scope=col>&lt;chr&gt;</th><th scope=col>&lt;chr&gt;</th><th scope=col>&lt;chr&gt;</th><th scope=col>&lt;chr&gt;</th></tr>\n",
              "</thead>\n",
              "<tbody>\n",
              "\t<tr><th scope=row>1</th><td>0</td><td><span style=white-space:pre-wrap>Italy   </span></td><td><span style=white-space:pre-wrap>Aromas include tropical fruit, broom, brimstone and dried herb. The palate isn't overly expressive, offering unripened apple, citrus and dried sage alongside brisk acidity.                                                                                         </span></td><td><span style=white-space:pre-wrap>Vulkà Bianco                      </span></td><td>87</td><td>NA</td><td>Sicily &amp; Sardinia</td><td><span style=white-space:pre-wrap>Etna               </span></td><td><span style=white-space:pre-wrap>                 </span></td><td><span style=white-space:pre-wrap>Kerin O’Keefe     </span></td><td>@kerinokeefe</td><td><span style=white-space:pre-wrap>Nicosia 2013 Vulkà Bianco  (Etna)                                                  </span></td><td><span style=white-space:pre-wrap>White Blend       </span></td><td><span style=white-space:pre-wrap>Nicosia            </span></td></tr>\n",
              "\t<tr><th scope=row>2</th><td>1</td><td>Portugal</td><td>This is ripe and fruity, a wine that is smooth while still structured. Firm tannins are filled out with juicy red berry fruits and freshened with acidity. It's  already drinkable, although it will certainly be better from 2016.                                  </td><td>Avidagos                          </td><td>87</td><td>15</td><td>Douro            </td><td>                   </td><td>                 </td><td>Roger Voss        </td><td>@vossroger  </td><td>Quinta dos Avidagos 2011 Avidagos Red (Douro)                                      </td><td>Portuguese Red    </td><td>Quinta dos Avidagos</td></tr>\n",
              "\t<tr><th scope=row>3</th><td>2</td><td>US      </td><td>Tart and snappy, the flavors of lime flesh and rind dominate. Some green pineapple pokes through, with crisp acidity underscoring the flavors. The wine was all stainless-steel fermented.                                                                           </td><td>                                  </td><td>87</td><td>14</td><td>Oregon           </td><td>Willamette Valley  </td><td>Willamette Valley</td><td>Paul Gregutt      </td><td>@paulgwine  </td><td>Rainstorm 2013 Pinot Gris (Willamette Valley)                                      </td><td>Pinot Gris        </td><td>Rainstorm          </td></tr>\n",
              "\t<tr><th scope=row>4</th><td>3</td><td>US      </td><td>Pineapple rind, lemon pith and orange blossom start off the aromas. The palate is a bit more opulent, with notes of honey-drizzled guava and mango giving way to a slightly astringent, semidry finish.                                                              </td><td>Reserve Late Harvest              </td><td>87</td><td>13</td><td>Michigan         </td><td>Lake Michigan Shore</td><td>                 </td><td>Alexander Peartree</td><td>            </td><td>St. Julian 2013 Reserve Late Harvest Riesling (Lake Michigan Shore)                </td><td>Riesling          </td><td>St. Julian         </td></tr>\n",
              "\t<tr><th scope=row>5</th><td>4</td><td>US      </td><td>Much like the regular bottling from 2012, this comes across as rather rough and tannic, with rustic, earthy, herbal characteristics. Nonetheless, if you think of it as a pleasantly unfussy country wine, it's a good companion to a hearty winter stew.            </td><td>Vintner's Reserve Wild Child Block</td><td>87</td><td>65</td><td>Oregon           </td><td>Willamette Valley  </td><td>Willamette Valley</td><td>Paul Gregutt      </td><td>@paulgwine  </td><td>Sweet Cheeks 2012 Vintner's Reserve Wild Child Block Pinot Noir (Willamette Valley)</td><td>Pinot Noir        </td><td>Sweet Cheeks       </td></tr>\n",
              "\t<tr><th scope=row>6</th><td>5</td><td>Spain   </td><td>Blackberry and raspberry aromas show a typical Navarran whiff of green herbs and, in this case, horseradish. In the mouth, this is fairly full bodied, with tomatoey acidity. Spicy, herbal flavors complement dark plum fruit, while the finish is fresh but grabby.</td><td>Ars In Vitro                      </td><td>87</td><td>15</td><td>Northern Spain   </td><td>Navarra            </td><td>                 </td><td>Michael Schachner </td><td>@wineschach </td><td>Tandem 2011 Ars In Vitro Tempranillo-Merlot (Navarra)                              </td><td>Tempranillo-Merlot</td><td>Tandem             </td></tr>\n",
              "</tbody>\n",
              "</table>\n"
            ]
          },
          "metadata": {
            "tags": []
          }
        }
      ]
    },
    {
      "cell_type": "code",
      "metadata": {
        "colab": {
          "base_uri": "https://localhost:8080/",
          "height": 34
        },
        "id": "RXbLwAvTxOZK",
        "outputId": "0108da1c-735e-4c24-d671-a5e87c25b954"
      },
      "source": [
        "nrow(wineData)"
      ],
      "execution_count": 5,
      "outputs": [
        {
          "output_type": "display_data",
          "data": {
            "text/plain": [
              "[1] 129971"
            ],
            "text/latex": "129971",
            "text/markdown": "129971",
            "text/html": [
              "129971"
            ]
          },
          "metadata": {
            "tags": []
          }
        }
      ]
    },
    {
      "cell_type": "markdown",
      "metadata": {
        "id": "D7el9_LSYvu1"
      },
      "source": [
        "### **Eliminazione duplicati**"
      ]
    },
    {
      "cell_type": "code",
      "metadata": {
        "id": "mzvgyZwQxWKy"
      },
      "source": [
        "wineData <- wineData[!duplicated(wineData$description), ]"
      ],
      "execution_count": 6,
      "outputs": []
    },
    {
      "cell_type": "code",
      "metadata": {
        "colab": {
          "base_uri": "https://localhost:8080/",
          "height": 34
        },
        "id": "HeAWtVU0zz2c",
        "outputId": "16b27d6e-8434-4be0-bdcd-95a1a77e1aec"
      },
      "source": [
        "nrow(wineData)"
      ],
      "execution_count": 7,
      "outputs": [
        {
          "output_type": "display_data",
          "data": {
            "text/plain": [
              "[1] 119955"
            ],
            "text/latex": "119955",
            "text/markdown": "119955",
            "text/html": [
              "119955"
            ]
          },
          "metadata": {
            "tags": []
          }
        }
      ]
    },
    {
      "cell_type": "markdown",
      "metadata": {
        "id": "p6FaP_IKcKzd"
      },
      "source": [
        "### **Trasformazione Shiraz in Syrah**"
      ]
    },
    {
      "cell_type": "code",
      "metadata": {
        "colab": {
          "base_uri": "https://localhost:8080/",
          "height": 281
        },
        "id": "But5DfJnk2MP",
        "outputId": "dec04c27-5fb0-48c8-f7ef-d1420ae5a2f9"
      },
      "source": [
        "variety = wineData$variety\n",
        "variety[variety==\"Shiraz\"]= \"Syrah\"\n",
        "wines = wineData$winery\n",
        "reviews = wineData$description\n",
        "head(sort(table(variety), decreasing = T),20)"
      ],
      "execution_count": 8,
      "outputs": [
        {
          "output_type": "display_data",
          "data": {
            "text/plain": [
              "variety\n",
              "              Pinot Noir               Chardonnay       Cabernet Sauvignon \n",
              "                   12277                    10867                     8837 \n",
              "               Red Blend Bordeaux-style Red Blend                 Riesling \n",
              "                    8239                     6469                     4773 \n",
              "                   Syrah          Sauvignon Blanc                     Rosé \n",
              "                    4616                     4574                     3220 \n",
              "                  Merlot                 Nebbiolo                Zinfandel \n",
              "                    2895                     2602                     2530 \n",
              "              Sangiovese                   Malbec           Portuguese Red \n",
              "                    2460                     2446                     2282 \n",
              "             White Blend          Sparkling Blend              Tempranillo \n",
              "                    2179                     1971                     1671 \n",
              "   Rhône-style Red Blend               Pinot Gris \n",
              "                    1343                     1324 "
            ]
          },
          "metadata": {
            "tags": []
          }
        }
      ]
    },
    {
      "cell_type": "markdown",
      "metadata": {
        "id": "uinvma8AATgD"
      },
      "source": [
        "### **Selezione dei vitigni che si vogliono analizzare**"
      ]
    },
    {
      "cell_type": "code",
      "metadata": {
        "id": "XM_zS2XGkwGh"
      },
      "source": [
        "selection = variety==\"Pinot Noir\" | \n",
        "            variety==\"Chardonnay\" | \n",
        "            variety==\"Cabernet Sauvignon\" | \n",
        "            variety==\"Riesling\" | \n",
        "            variety==\"Sauvignon Blanc\" | \n",
        "            variety==\"Syrah\" | \n",
        "            variety==\"Merlot\" | \n",
        "            variety==\"Nebbiolo\" \n",
        "variety = variety[selection]\n",
        "reviews = reviews[selection]"
      ],
      "execution_count": 9,
      "outputs": []
    },
    {
      "cell_type": "code",
      "metadata": {
        "colab": {
          "base_uri": "https://localhost:8080/",
          "height": 34
        },
        "id": "WTpDb9pwn0Mm",
        "outputId": "e19f5f3f-a40e-45b4-c60c-ef3c80a8e993"
      },
      "source": [
        "length(reviews)"
      ],
      "execution_count": 10,
      "outputs": [
        {
          "output_type": "display_data",
          "data": {
            "text/plain": [
              "[1] 51441"
            ],
            "text/latex": "51441",
            "text/markdown": "51441",
            "text/html": [
              "51441"
            ]
          },
          "metadata": {
            "tags": []
          }
        }
      ]
    },
    {
      "cell_type": "code",
      "metadata": {
        "colab": {
          "base_uri": "https://localhost:8080/"
        },
        "id": "bmlyC11FmaeC",
        "outputId": "5817b38e-71a7-4b7f-87a5-5c6d400e6ccc"
      },
      "source": [
        "corpus <- Corpus(VectorSource(reviews))\n",
        "inspect(corpus[1:5])"
      ],
      "execution_count": 11,
      "outputs": [
        {
          "output_type": "stream",
          "text": [
            "<<SimpleCorpus>>\n",
            "Metadata:  corpus specific: 1, document level (indexed): 0\n",
            "Content:  documents: 5\n",
            "\n",
            "[1] Pineapple rind, lemon pith and orange blossom start off the aromas. The palate is a bit more opulent, with notes of honey-drizzled guava and mango giving way to a slightly astringent, semidry finish.                                                                                                             \n",
            "[2] Much like the regular bottling from 2012, this comes across as rather rough and tannic, with rustic, earthy, herbal characteristics. Nonetheless, if you think of it as a pleasantly unfussy country wine, it's a good companion to a hearty winter stew.                                                           \n",
            "[3] Soft, supple plum envelopes an oaky structure in this Cabernet, supported by 15% Merlot. Coffee and chocolate complete the picture, finishing strong at the end, resulting in a value-priced wine of attractive flavor and immediate accessibility.                                                                 \n",
            "[4] Slightly reduced, this wine offers a chalky, tannic backbone to an otherwise juicy explosion of rich black cherry, the whole accented throughout by firm oak and cigar box.                                                                                                                                         \n",
            "[5] Building on 150 years and six generations of winemaking tradition, the winery trends toward a leaner style, with the classic California buttercream aroma cut by tart green apple. In this good everyday sipping wine, flavors that range from pear to barely ripe pineapple prove approachable but not distinctive.\n"
          ],
          "name": "stdout"
        }
      ]
    },
    {
      "cell_type": "markdown",
      "metadata": {
        "id": "0xxR1F83AngS"
      },
      "source": [
        "### **Trasformazione in lowercase**"
      ]
    },
    {
      "cell_type": "code",
      "metadata": {
        "colab": {
          "base_uri": "https://localhost:8080/"
        },
        "id": "IXXSRtuMuDqL",
        "outputId": "6f9e3c65-7647-40b1-9f9b-a6f12623adce"
      },
      "source": [
        "corpus <- tm_map(corpus, tolower)\n",
        "inspect(corpus[1:5])"
      ],
      "execution_count": 12,
      "outputs": [
        {
          "output_type": "stream",
          "text": [
            "Warning message in tm_map.SimpleCorpus(corpus, tolower):\n",
            "“transformation drops documents”\n"
          ],
          "name": "stderr"
        },
        {
          "output_type": "stream",
          "text": [
            "<<SimpleCorpus>>\n",
            "Metadata:  corpus specific: 1, document level (indexed): 0\n",
            "Content:  documents: 5\n",
            "\n",
            "[1] pineapple rind, lemon pith and orange blossom start off the aromas. the palate is a bit more opulent, with notes of honey-drizzled guava and mango giving way to a slightly astringent, semidry finish.                                                                                                             \n",
            "[2] much like the regular bottling from 2012, this comes across as rather rough and tannic, with rustic, earthy, herbal characteristics. nonetheless, if you think of it as a pleasantly unfussy country wine, it's a good companion to a hearty winter stew.                                                           \n",
            "[3] soft, supple plum envelopes an oaky structure in this cabernet, supported by 15% merlot. coffee and chocolate complete the picture, finishing strong at the end, resulting in a value-priced wine of attractive flavor and immediate accessibility.                                                                 \n",
            "[4] slightly reduced, this wine offers a chalky, tannic backbone to an otherwise juicy explosion of rich black cherry, the whole accented throughout by firm oak and cigar box.                                                                                                                                         \n",
            "[5] building on 150 years and six generations of winemaking tradition, the winery trends toward a leaner style, with the classic california buttercream aroma cut by tart green apple. in this good everyday sipping wine, flavors that range from pear to barely ripe pineapple prove approachable but not distinctive.\n"
          ],
          "name": "stdout"
        }
      ]
    },
    {
      "cell_type": "markdown",
      "metadata": {
        "id": "GILcuzgOZcbC"
      },
      "source": [
        "### **Eliminazione stopword**\n"
      ]
    },
    {
      "cell_type": "code",
      "metadata": {
        "colab": {
          "base_uri": "https://localhost:8080/"
        },
        "id": "LXODbKgjErCa",
        "outputId": "16b71246-baf8-4bcd-b93e-3bf5b6308078"
      },
      "source": [
        "stopwordlist <- stopwords::stopwords(\"en\", source= \"stopwords-iso\")#Snowball, marimo, nltk, stopwords-iso, smart\n",
        "corpus <- tm_map(corpus, removeWords, stopwordlist)\n",
        "inspect(corpus[1:5])"
      ],
      "execution_count": 13,
      "outputs": [
        {
          "output_type": "stream",
          "text": [
            "Warning message in tm_map.SimpleCorpus(corpus, removeWords, stopwordlist):\n",
            "“transformation drops documents”\n"
          ],
          "name": "stderr"
        },
        {
          "output_type": "stream",
          "text": [
            "<<SimpleCorpus>>\n",
            "Metadata:  corpus specific: 1, document level (indexed): 0\n",
            "Content:  documents: 5\n",
            "\n",
            "[1] pineapple rind, lemon pith  orange blossom start   aromas.  palate   bit  opulent,  notes  honey-drizzled guava  mango      astringent, semidry finish.                                                                                                 \n",
            "[2]    regular bottling  2012,      rough  tannic,  rustic, earthy, herbal characteristics. ,        pleasantly unfussy country wine,    companion   hearty winter stew.                                                                                    \n",
            "[3] soft, supple plum envelopes  oaky structure   cabernet, supported  15% merlot. coffee  chocolate complete  picture, finishing strong   ,    -priced wine  attractive flavor   accessibility.                                                            \n",
            "[4]  reduced,  wine offers  chalky, tannic backbone    juicy explosion  rich black cherry,   accented   firm oak  cigar box.                                                                                                                                \n",
            "[5] building  150    generations  winemaking tradition,  winery trends   leaner style,   classic california buttercream aroma cut  tart green apple.    everyday sipping wine, flavors  range  pear  barely ripe pineapple prove approachable   distinctive.\n"
          ],
          "name": "stdout"
        }
      ]
    },
    {
      "cell_type": "markdown",
      "metadata": {
        "id": "Jv11fX8Wcvm8"
      },
      "source": [
        "### **Eliminazione punteggiatura**"
      ]
    },
    {
      "cell_type": "code",
      "metadata": {
        "colab": {
          "base_uri": "https://localhost:8080/"
        },
        "id": "luDhN0t-_sP3",
        "outputId": "b02b0f2c-2c05-4797-bbbd-9fc740ed50c7"
      },
      "source": [
        "corpus <- tm_map(corpus, removePunctuation)\n",
        "inspect(corpus[1:5])"
      ],
      "execution_count": 14,
      "outputs": [
        {
          "output_type": "stream",
          "text": [
            "Warning message in tm_map.SimpleCorpus(corpus, removePunctuation):\n",
            "“transformation drops documents”\n"
          ],
          "name": "stderr"
        },
        {
          "output_type": "stream",
          "text": [
            "<<SimpleCorpus>>\n",
            "Metadata:  corpus specific: 1, document level (indexed): 0\n",
            "Content:  documents: 5\n",
            "\n",
            "[1] pineapple rind lemon pith  orange blossom start   aromas  palate   bit  opulent  notes  honeydrizzled guava  mango      astringent semidry finish                                                                                                  \n",
            "[2]    regular bottling  2012      rough  tannic  rustic earthy herbal characteristics         pleasantly unfussy country wine    companion   hearty winter stew                                                                                       \n",
            "[3] soft supple plum envelopes  oaky structure   cabernet supported  15 merlot coffee  chocolate complete  picture finishing strong       priced wine  attractive flavor   accessibility                                                               \n",
            "[4]  reduced  wine offers  chalky tannic backbone    juicy explosion  rich black cherry   accented   firm oak  cigar box                                                                                                                               \n",
            "[5] building  150    generations  winemaking tradition  winery trends   leaner style   classic california buttercream aroma cut  tart green apple    everyday sipping wine flavors  range  pear  barely ripe pineapple prove approachable   distinctive\n"
          ],
          "name": "stdout"
        }
      ]
    },
    {
      "cell_type": "markdown",
      "metadata": {
        "id": "AJZSFvh876O2"
      },
      "source": [
        "### **Split TrainingSet**"
      ]
    },
    {
      "cell_type": "code",
      "metadata": {
        "colab": {
          "base_uri": "https://localhost:8080/",
          "height": 105
        },
        "id": "AC0hkSYsBS2B",
        "outputId": "3fcccbd2-18be-4600-cbda-87eea75b2186"
      },
      "source": [
        "tdmc <- TermDocumentMatrix(corpus)\n",
        "tdmc"
      ],
      "execution_count": 15,
      "outputs": [
        {
          "output_type": "display_data",
          "data": {
            "text/plain": [
              "<<TermDocumentMatrix (terms: 25866, documents: 51441)>>\n",
              "Non-/sparse entries: 1097510/1329475396\n",
              "Sparsity           : 100%\n",
              "Maximal term length: 29\n",
              "Weighting          : term frequency (tf)"
            ]
          },
          "metadata": {
            "tags": []
          }
        }
      ]
    },
    {
      "cell_type": "code",
      "metadata": {
        "colab": {
          "base_uri": "https://localhost:8080/",
          "height": 105
        },
        "id": "Gf7yK4HduInp",
        "outputId": "4f9b0593-231e-41b8-b904-b4eaf6d6807a"
      },
      "source": [
        "tdmc <- TermDocumentMatrix(corpus)\n",
        "smp_size <- floor(0.67 * ncol(tdmc))\n",
        "\n",
        "## set the seed to make your partition reproducible\n",
        "set.seed(123)\n",
        "train_index <- sample(seq_len(ncol(tdmc)), size = smp_size)\n",
        "\n",
        "train_tdmc <- tdmc[, train_index]\n",
        "test_tdmc <- tdmc[,-train_index]\n",
        "train_tdmc"
      ],
      "execution_count": 16,
      "outputs": [
        {
          "output_type": "display_data",
          "data": {
            "text/plain": [
              "<<TermDocumentMatrix (terms: 25866, documents: 34465)>>\n",
              "Non-/sparse entries: 734914/890736776\n",
              "Sparsity           : 100%\n",
              "Maximal term length: 29\n",
              "Weighting          : term frequency (tf)"
            ]
          },
          "metadata": {
            "tags": []
          }
        }
      ]
    },
    {
      "cell_type": "markdown",
      "metadata": {
        "id": "UiHEEVNJphTd"
      },
      "source": [
        "### **Eliminazione termini troppo sparsi**"
      ]
    },
    {
      "cell_type": "code",
      "metadata": {
        "colab": {
          "base_uri": "https://localhost:8080/",
          "height": 105
        },
        "id": "1b7__N_NMfIK",
        "outputId": "46336edc-01c4-481a-c9b8-6ba838519b23"
      },
      "source": [
        "train_tdmTemp <- removeSparseTerms(train_tdmc, 0.995)\n",
        "train_tdmTemp"
      ],
      "execution_count": 17,
      "outputs": [
        {
          "output_type": "display_data",
          "data": {
            "text/plain": [
              "<<TermDocumentMatrix (terms: 672, documents: 34465)>>\n",
              "Non-/sparse entries: 544676/22615804\n",
              "Sparsity           : 98%\n",
              "Maximal term length: 15\n",
              "Weighting          : term frequency (tf)"
            ]
          },
          "metadata": {
            "tags": []
          }
        }
      ]
    },
    {
      "cell_type": "code",
      "metadata": {
        "colab": {
          "base_uri": "https://localhost:8080/",
          "height": 105
        },
        "id": "hh3NOId1xSBJ",
        "outputId": "297bc752-7452-4f05-bf82-d0e91f8275c7"
      },
      "source": [
        "test_tdmTemp <- test_tdmc[rownames(train_tdmTemp),]\n",
        "test_tdmTemp"
      ],
      "execution_count": 18,
      "outputs": [
        {
          "output_type": "display_data",
          "data": {
            "text/plain": [
              "<<TermDocumentMatrix (terms: 672, documents: 16976)>>\n",
              "Non-/sparse entries: 268326/11139546\n",
              "Sparsity           : 98%\n",
              "Maximal term length: 15\n",
              "Weighting          : term frequency (tf)"
            ]
          },
          "metadata": {
            "tags": []
          }
        }
      ]
    },
    {
      "cell_type": "markdown",
      "metadata": {
        "id": "-SamuuK5rDFb"
      },
      "source": [
        "### **Applicazione del Term Weighting**"
      ]
    },
    {
      "cell_type": "code",
      "metadata": {
        "id": "9oyl60ZVPg3b",
        "colab": {
          "base_uri": "https://localhost:8080/",
          "height": 262
        },
        "outputId": "206cf21c-ed91-4875-eaf6-49a8f1bac0f0"
      },
      "source": [
        "train_tdm <-as.matrix(train_tdmTemp)\n",
        "train_tdmPesata <-lw_logtf(train_tdm) * ( 1 - entropy( train_tdm) )\n",
        "head(train_tdmPesata)"
      ],
      "execution_count": 19,
      "outputs": [
        {
          "output_type": "display_data",
          "data": {
            "text/plain": [
              "           2986 29925 29710     37529      2757      45404      46435 38938\n",
              "aromas     0    0     0.0944491 0.00000000 0.0944491 0.00000000 0     0    \n",
              "astringent 0    0     0.0000000 0.00000000 0.0000000 0.00000000 0     0    \n",
              "bit        0    0     0.0000000 0.19615284 0.0000000 0.00000000 0     0    \n",
              "blossom    0    0     0.0000000 0.00000000 0.0000000 0.00000000 0     0    \n",
              "finish     0    0     0.0000000 0.08714448 0.0000000 0.08714448 0     0    \n",
              "guava      0    0     0.0000000 0.00000000 0.0000000 0.00000000 0     0    \n",
              "           9642 31313 ⋯ 16935      27444     16573     42678 6282 212\n",
              "aromas     0    0     ⋯ 0.00000000 0.0944491 0.0944491 0     0    0  \n",
              "astringent 0    0     ⋯ 0.00000000 0.0000000 0.0000000 0     0    0  \n",
              "bit        0    0     ⋯ 0.00000000 0.0000000 0.0000000 0     0    0  \n",
              "blossom    0    0     ⋯ 0.00000000 0.0000000 0.0000000 0     0    0  \n",
              "finish     0    0     ⋯ 0.08714448 0.0000000 0.0000000 0     0    0  \n",
              "guava      0    0     ⋯ 0.00000000 0.0000000 0.0000000 0     0    0  \n",
              "           46565      37584 16562 37860\n",
              "aromas     0.00000000 0     0     0    \n",
              "astringent 0.00000000 0     0     0    \n",
              "bit        0.00000000 0     0     0    \n",
              "blossom    0.00000000 0     0     0    \n",
              "finish     0.08714448 0     0     0    \n",
              "guava      0.00000000 0     0     0    "
            ],
            "text/latex": "A matrix: 6 × 34465 of type dbl\n\\begin{tabular}{r|lllllllllllllllllllll}\n  & 2986 & 29925 & 29710 & 37529 & 2757 & 45404 & 46435 & 38938 & 9642 & 31313 & ⋯ & 16935 & 27444 & 16573 & 42678 & 6282 & 212 & 46565 & 37584 & 16562 & 37860\\\\\n\\hline\n\taromas & 0 & 0 & 0.0944491 & 0.00000000 & 0.0944491 & 0.00000000 & 0 & 0 & 0 & 0 & ⋯ & 0.00000000 & 0.0944491 & 0.0944491 & 0 & 0 & 0 & 0.00000000 & 0 & 0 & 0\\\\\n\tastringent & 0 & 0 & 0.0000000 & 0.00000000 & 0.0000000 & 0.00000000 & 0 & 0 & 0 & 0 & ⋯ & 0.00000000 & 0.0000000 & 0.0000000 & 0 & 0 & 0 & 0.00000000 & 0 & 0 & 0\\\\\n\tbit & 0 & 0 & 0.0000000 & 0.19615284 & 0.0000000 & 0.00000000 & 0 & 0 & 0 & 0 & ⋯ & 0.00000000 & 0.0000000 & 0.0000000 & 0 & 0 & 0 & 0.00000000 & 0 & 0 & 0\\\\\n\tblossom & 0 & 0 & 0.0000000 & 0.00000000 & 0.0000000 & 0.00000000 & 0 & 0 & 0 & 0 & ⋯ & 0.00000000 & 0.0000000 & 0.0000000 & 0 & 0 & 0 & 0.00000000 & 0 & 0 & 0\\\\\n\tfinish & 0 & 0 & 0.0000000 & 0.08714448 & 0.0000000 & 0.08714448 & 0 & 0 & 0 & 0 & ⋯ & 0.08714448 & 0.0000000 & 0.0000000 & 0 & 0 & 0 & 0.08714448 & 0 & 0 & 0\\\\\n\tguava & 0 & 0 & 0.0000000 & 0.00000000 & 0.0000000 & 0.00000000 & 0 & 0 & 0 & 0 & ⋯ & 0.00000000 & 0.0000000 & 0.0000000 & 0 & 0 & 0 & 0.00000000 & 0 & 0 & 0\\\\\n\\end{tabular}\n",
            "text/markdown": "\nA matrix: 6 × 34465 of type dbl\n\n| <!--/--> | 2986 | 29925 | 29710 | 37529 | 2757 | 45404 | 46435 | 38938 | 9642 | 31313 | ⋯ | 16935 | 27444 | 16573 | 42678 | 6282 | 212 | 46565 | 37584 | 16562 | 37860 |\n|---|---|---|---|---|---|---|---|---|---|---|---|---|---|---|---|---|---|---|---|---|---|\n| aromas | 0 | 0 | 0.0944491 | 0.00000000 | 0.0944491 | 0.00000000 | 0 | 0 | 0 | 0 | ⋯ | 0.00000000 | 0.0944491 | 0.0944491 | 0 | 0 | 0 | 0.00000000 | 0 | 0 | 0 |\n| astringent | 0 | 0 | 0.0000000 | 0.00000000 | 0.0000000 | 0.00000000 | 0 | 0 | 0 | 0 | ⋯ | 0.00000000 | 0.0000000 | 0.0000000 | 0 | 0 | 0 | 0.00000000 | 0 | 0 | 0 |\n| bit | 0 | 0 | 0.0000000 | 0.19615284 | 0.0000000 | 0.00000000 | 0 | 0 | 0 | 0 | ⋯ | 0.00000000 | 0.0000000 | 0.0000000 | 0 | 0 | 0 | 0.00000000 | 0 | 0 | 0 |\n| blossom | 0 | 0 | 0.0000000 | 0.00000000 | 0.0000000 | 0.00000000 | 0 | 0 | 0 | 0 | ⋯ | 0.00000000 | 0.0000000 | 0.0000000 | 0 | 0 | 0 | 0.00000000 | 0 | 0 | 0 |\n| finish | 0 | 0 | 0.0000000 | 0.08714448 | 0.0000000 | 0.08714448 | 0 | 0 | 0 | 0 | ⋯ | 0.08714448 | 0.0000000 | 0.0000000 | 0 | 0 | 0 | 0.08714448 | 0 | 0 | 0 |\n| guava | 0 | 0 | 0.0000000 | 0.00000000 | 0.0000000 | 0.00000000 | 0 | 0 | 0 | 0 | ⋯ | 0.00000000 | 0.0000000 | 0.0000000 | 0 | 0 | 0 | 0.00000000 | 0 | 0 | 0 |\n\n",
            "text/html": [
              "<table class=\"dataframe\">\n",
              "<caption>A matrix: 6 × 34465 of type dbl</caption>\n",
              "<thead>\n",
              "\t<tr><th></th><th scope=col>2986</th><th scope=col>29925</th><th scope=col>29710</th><th scope=col>37529</th><th scope=col>2757</th><th scope=col>45404</th><th scope=col>46435</th><th scope=col>38938</th><th scope=col>9642</th><th scope=col>31313</th><th scope=col>⋯</th><th scope=col>16935</th><th scope=col>27444</th><th scope=col>16573</th><th scope=col>42678</th><th scope=col>6282</th><th scope=col>212</th><th scope=col>46565</th><th scope=col>37584</th><th scope=col>16562</th><th scope=col>37860</th></tr>\n",
              "</thead>\n",
              "<tbody>\n",
              "\t<tr><th scope=row>aromas</th><td>0</td><td>0</td><td>0.0944491</td><td>0.00000000</td><td>0.0944491</td><td>0.00000000</td><td>0</td><td>0</td><td>0</td><td>0</td><td>⋯</td><td>0.00000000</td><td>0.0944491</td><td>0.0944491</td><td>0</td><td>0</td><td>0</td><td>0.00000000</td><td>0</td><td>0</td><td>0</td></tr>\n",
              "\t<tr><th scope=row>astringent</th><td>0</td><td>0</td><td>0.0000000</td><td>0.00000000</td><td>0.0000000</td><td>0.00000000</td><td>0</td><td>0</td><td>0</td><td>0</td><td>⋯</td><td>0.00000000</td><td>0.0000000</td><td>0.0000000</td><td>0</td><td>0</td><td>0</td><td>0.00000000</td><td>0</td><td>0</td><td>0</td></tr>\n",
              "\t<tr><th scope=row>bit</th><td>0</td><td>0</td><td>0.0000000</td><td>0.19615284</td><td>0.0000000</td><td>0.00000000</td><td>0</td><td>0</td><td>0</td><td>0</td><td>⋯</td><td>0.00000000</td><td>0.0000000</td><td>0.0000000</td><td>0</td><td>0</td><td>0</td><td>0.00000000</td><td>0</td><td>0</td><td>0</td></tr>\n",
              "\t<tr><th scope=row>blossom</th><td>0</td><td>0</td><td>0.0000000</td><td>0.00000000</td><td>0.0000000</td><td>0.00000000</td><td>0</td><td>0</td><td>0</td><td>0</td><td>⋯</td><td>0.00000000</td><td>0.0000000</td><td>0.0000000</td><td>0</td><td>0</td><td>0</td><td>0.00000000</td><td>0</td><td>0</td><td>0</td></tr>\n",
              "\t<tr><th scope=row>finish</th><td>0</td><td>0</td><td>0.0000000</td><td>0.08714448</td><td>0.0000000</td><td>0.08714448</td><td>0</td><td>0</td><td>0</td><td>0</td><td>⋯</td><td>0.08714448</td><td>0.0000000</td><td>0.0000000</td><td>0</td><td>0</td><td>0</td><td>0.08714448</td><td>0</td><td>0</td><td>0</td></tr>\n",
              "\t<tr><th scope=row>guava</th><td>0</td><td>0</td><td>0.0000000</td><td>0.00000000</td><td>0.0000000</td><td>0.00000000</td><td>0</td><td>0</td><td>0</td><td>0</td><td>⋯</td><td>0.00000000</td><td>0.0000000</td><td>0.0000000</td><td>0</td><td>0</td><td>0</td><td>0.00000000</td><td>0</td><td>0</td><td>0</td></tr>\n",
              "</tbody>\n",
              "</table>\n"
            ]
          },
          "metadata": {
            "tags": []
          }
        }
      ]
    },
    {
      "cell_type": "code",
      "metadata": {
        "colab": {
          "base_uri": "https://localhost:8080/",
          "height": 262
        },
        "id": "htBQCQX40zYP",
        "outputId": "241f9356-1c1d-431e-e1db-a0c64d7590df"
      },
      "source": [
        "test_tdm <-as.matrix(test_tdmTemp)\n",
        "test_tdmPesata <-lw_logtf(test_tdm) * ( 1 - entropy( train_tdm) )\n",
        "head(test_tdmPesata)"
      ],
      "execution_count": 20,
      "outputs": [
        {
          "output_type": "display_data",
          "data": {
            "text/plain": [
              "           1          4 9         13 15         20         23 27 29         34\n",
              "aromas     0.09444910 0 0.0944491 0  0.00000000 0.09444910 0  0  0.09444910 0 \n",
              "astringent 0.29922444 0 0.0000000 0  0.00000000 0.00000000 0  0  0.00000000 0 \n",
              "bit        0.19615284 0 0.0000000 0  0.00000000 0.00000000 0  0  0.00000000 0 \n",
              "blossom    0.29564659 0 0.0000000 0  0.00000000 0.00000000 0  0  0.00000000 0 \n",
              "finish     0.08714448 0 0.0000000 0  0.08714448 0.08714448 0  0  0.08714448 0 \n",
              "guava      0.34672742 0 0.0000000 0  0.00000000 0.00000000 0  0  0.00000000 0 \n",
              "           ⋯ 51418      51419 51420 51423      51428 51429 51433     51435\n",
              "aromas     ⋯ 0.00000000 0     0     0.00000000 0     0     0.0944491 0    \n",
              "astringent ⋯ 0.00000000 0     0     0.00000000 0     0     0.0000000 0    \n",
              "bit        ⋯ 0.00000000 0     0     0.00000000 0     0     0.0000000 0    \n",
              "blossom    ⋯ 0.00000000 0     0     0.00000000 0     0     0.0000000 0    \n",
              "finish     ⋯ 0.08714448 0     0     0.08714448 0     0     0.0000000 0    \n",
              "guava      ⋯ 0.00000000 0     0     0.00000000 0     0     0.0000000 0    \n",
              "           51436 51438\n",
              "aromas     0     0    \n",
              "astringent 0     0    \n",
              "bit        0     0    \n",
              "blossom    0     0    \n",
              "finish     0     0    \n",
              "guava      0     0    "
            ],
            "text/latex": "A matrix: 6 × 16976 of type dbl\n\\begin{tabular}{r|lllllllllllllllllllll}\n  & 1 & 4 & 9 & 13 & 15 & 20 & 23 & 27 & 29 & 34 & ⋯ & 51418 & 51419 & 51420 & 51423 & 51428 & 51429 & 51433 & 51435 & 51436 & 51438\\\\\n\\hline\n\taromas & 0.09444910 & 0 & 0.0944491 & 0 & 0.00000000 & 0.09444910 & 0 & 0 & 0.09444910 & 0 & ⋯ & 0.00000000 & 0 & 0 & 0.00000000 & 0 & 0 & 0.0944491 & 0 & 0 & 0\\\\\n\tastringent & 0.29922444 & 0 & 0.0000000 & 0 & 0.00000000 & 0.00000000 & 0 & 0 & 0.00000000 & 0 & ⋯ & 0.00000000 & 0 & 0 & 0.00000000 & 0 & 0 & 0.0000000 & 0 & 0 & 0\\\\\n\tbit & 0.19615284 & 0 & 0.0000000 & 0 & 0.00000000 & 0.00000000 & 0 & 0 & 0.00000000 & 0 & ⋯ & 0.00000000 & 0 & 0 & 0.00000000 & 0 & 0 & 0.0000000 & 0 & 0 & 0\\\\\n\tblossom & 0.29564659 & 0 & 0.0000000 & 0 & 0.00000000 & 0.00000000 & 0 & 0 & 0.00000000 & 0 & ⋯ & 0.00000000 & 0 & 0 & 0.00000000 & 0 & 0 & 0.0000000 & 0 & 0 & 0\\\\\n\tfinish & 0.08714448 & 0 & 0.0000000 & 0 & 0.08714448 & 0.08714448 & 0 & 0 & 0.08714448 & 0 & ⋯ & 0.08714448 & 0 & 0 & 0.08714448 & 0 & 0 & 0.0000000 & 0 & 0 & 0\\\\\n\tguava & 0.34672742 & 0 & 0.0000000 & 0 & 0.00000000 & 0.00000000 & 0 & 0 & 0.00000000 & 0 & ⋯ & 0.00000000 & 0 & 0 & 0.00000000 & 0 & 0 & 0.0000000 & 0 & 0 & 0\\\\\n\\end{tabular}\n",
            "text/markdown": "\nA matrix: 6 × 16976 of type dbl\n\n| <!--/--> | 1 | 4 | 9 | 13 | 15 | 20 | 23 | 27 | 29 | 34 | ⋯ | 51418 | 51419 | 51420 | 51423 | 51428 | 51429 | 51433 | 51435 | 51436 | 51438 |\n|---|---|---|---|---|---|---|---|---|---|---|---|---|---|---|---|---|---|---|---|---|---|\n| aromas | 0.09444910 | 0 | 0.0944491 | 0 | 0.00000000 | 0.09444910 | 0 | 0 | 0.09444910 | 0 | ⋯ | 0.00000000 | 0 | 0 | 0.00000000 | 0 | 0 | 0.0944491 | 0 | 0 | 0 |\n| astringent | 0.29922444 | 0 | 0.0000000 | 0 | 0.00000000 | 0.00000000 | 0 | 0 | 0.00000000 | 0 | ⋯ | 0.00000000 | 0 | 0 | 0.00000000 | 0 | 0 | 0.0000000 | 0 | 0 | 0 |\n| bit | 0.19615284 | 0 | 0.0000000 | 0 | 0.00000000 | 0.00000000 | 0 | 0 | 0.00000000 | 0 | ⋯ | 0.00000000 | 0 | 0 | 0.00000000 | 0 | 0 | 0.0000000 | 0 | 0 | 0 |\n| blossom | 0.29564659 | 0 | 0.0000000 | 0 | 0.00000000 | 0.00000000 | 0 | 0 | 0.00000000 | 0 | ⋯ | 0.00000000 | 0 | 0 | 0.00000000 | 0 | 0 | 0.0000000 | 0 | 0 | 0 |\n| finish | 0.08714448 | 0 | 0.0000000 | 0 | 0.08714448 | 0.08714448 | 0 | 0 | 0.08714448 | 0 | ⋯ | 0.08714448 | 0 | 0 | 0.08714448 | 0 | 0 | 0.0000000 | 0 | 0 | 0 |\n| guava | 0.34672742 | 0 | 0.0000000 | 0 | 0.00000000 | 0.00000000 | 0 | 0 | 0.00000000 | 0 | ⋯ | 0.00000000 | 0 | 0 | 0.00000000 | 0 | 0 | 0.0000000 | 0 | 0 | 0 |\n\n",
            "text/html": [
              "<table class=\"dataframe\">\n",
              "<caption>A matrix: 6 × 16976 of type dbl</caption>\n",
              "<thead>\n",
              "\t<tr><th></th><th scope=col>1</th><th scope=col>4</th><th scope=col>9</th><th scope=col>13</th><th scope=col>15</th><th scope=col>20</th><th scope=col>23</th><th scope=col>27</th><th scope=col>29</th><th scope=col>34</th><th scope=col>⋯</th><th scope=col>51418</th><th scope=col>51419</th><th scope=col>51420</th><th scope=col>51423</th><th scope=col>51428</th><th scope=col>51429</th><th scope=col>51433</th><th scope=col>51435</th><th scope=col>51436</th><th scope=col>51438</th></tr>\n",
              "</thead>\n",
              "<tbody>\n",
              "\t<tr><th scope=row>aromas</th><td>0.09444910</td><td>0</td><td>0.0944491</td><td>0</td><td>0.00000000</td><td>0.09444910</td><td>0</td><td>0</td><td>0.09444910</td><td>0</td><td>⋯</td><td>0.00000000</td><td>0</td><td>0</td><td>0.00000000</td><td>0</td><td>0</td><td>0.0944491</td><td>0</td><td>0</td><td>0</td></tr>\n",
              "\t<tr><th scope=row>astringent</th><td>0.29922444</td><td>0</td><td>0.0000000</td><td>0</td><td>0.00000000</td><td>0.00000000</td><td>0</td><td>0</td><td>0.00000000</td><td>0</td><td>⋯</td><td>0.00000000</td><td>0</td><td>0</td><td>0.00000000</td><td>0</td><td>0</td><td>0.0000000</td><td>0</td><td>0</td><td>0</td></tr>\n",
              "\t<tr><th scope=row>bit</th><td>0.19615284</td><td>0</td><td>0.0000000</td><td>0</td><td>0.00000000</td><td>0.00000000</td><td>0</td><td>0</td><td>0.00000000</td><td>0</td><td>⋯</td><td>0.00000000</td><td>0</td><td>0</td><td>0.00000000</td><td>0</td><td>0</td><td>0.0000000</td><td>0</td><td>0</td><td>0</td></tr>\n",
              "\t<tr><th scope=row>blossom</th><td>0.29564659</td><td>0</td><td>0.0000000</td><td>0</td><td>0.00000000</td><td>0.00000000</td><td>0</td><td>0</td><td>0.00000000</td><td>0</td><td>⋯</td><td>0.00000000</td><td>0</td><td>0</td><td>0.00000000</td><td>0</td><td>0</td><td>0.0000000</td><td>0</td><td>0</td><td>0</td></tr>\n",
              "\t<tr><th scope=row>finish</th><td>0.08714448</td><td>0</td><td>0.0000000</td><td>0</td><td>0.08714448</td><td>0.08714448</td><td>0</td><td>0</td><td>0.08714448</td><td>0</td><td>⋯</td><td>0.08714448</td><td>0</td><td>0</td><td>0.08714448</td><td>0</td><td>0</td><td>0.0000000</td><td>0</td><td>0</td><td>0</td></tr>\n",
              "\t<tr><th scope=row>guava</th><td>0.34672742</td><td>0</td><td>0.0000000</td><td>0</td><td>0.00000000</td><td>0.00000000</td><td>0</td><td>0</td><td>0.00000000</td><td>0</td><td>⋯</td><td>0.00000000</td><td>0</td><td>0</td><td>0.00000000</td><td>0</td><td>0</td><td>0.0000000</td><td>0</td><td>0</td><td>0</td></tr>\n",
              "</tbody>\n",
              "</table>\n"
            ]
          },
          "metadata": {
            "tags": []
          }
        }
      ]
    },
    {
      "cell_type": "markdown",
      "metadata": {
        "id": "7hk8t5P--X1R"
      },
      "source": [
        "### **Eliminazione reviews con nessun termine**"
      ]
    },
    {
      "cell_type": "code",
      "metadata": {
        "id": "UBArFr5OvHES"
      },
      "source": [
        "train_tdmFinal <- train_tdmPesata[,apply(train_tdmPesata, 2, function(x) !all(x==rep(0, nrow(train_tdmPesata))))]\n",
        "test_tdmFinal <- test_tdmPesata[,apply(test_tdmPesata, 2, function(x) !all(x==rep(0, nrow(test_tdmPesata))))]"
      ],
      "execution_count": 21,
      "outputs": []
    },
    {
      "cell_type": "code",
      "metadata": {
        "id": "Xphy7b_T5QfL"
      },
      "source": [
        "train_variety <- variety[sapply(colnames(train_tdmFinal),strtoi)]\n",
        "test_variety <- variety[sapply(colnames(test_tdmFinal),strtoi)]\n",
        "train_reviews <- reviews[sapply(colnames(train_tdmFinal),strtoi)]\n",
        "test_reviews <- reviews[sapply(colnames(test_tdmFinal),strtoi)]"
      ],
      "execution_count": 22,
      "outputs": []
    },
    {
      "cell_type": "markdown",
      "metadata": {
        "id": "g5SbTZR4d5yn"
      },
      "source": [
        "## **Classificatori su TF-IDF**"
      ]
    },
    {
      "cell_type": "markdown",
      "metadata": {
        "id": "Cay6i0WH-LA7"
      },
      "source": [
        "### **Rocchio**"
      ]
    },
    {
      "cell_type": "code",
      "metadata": {
        "colab": {
          "base_uri": "https://localhost:8080/"
        },
        "id": "UioBzoxjelcc",
        "outputId": "c2e45dbb-88d1-4449-ad27-3c4f5d343d12"
      },
      "source": [
        "centroids <- t (centroids(t(train_tdmFinal), train_variety, lambda.var = 0, lambda.freqs = 0)$means)"
      ],
      "execution_count": 23,
      "outputs": [
        {
          "output_type": "stream",
          "text": [
            "Number of variables: 672 \n",
            "Number of observations: 34462 \n",
            "Number of classes: 8 \n",
            "\n",
            "Specified shrinkage intensity lambda.freq (frequencies): 0 \n",
            "Estimating variances (pooled across classes)\n",
            "Specified shrinkage intensity lambda.var (variance vector): 0 \n",
            "\n"
          ],
          "name": "stdout"
        }
      ]
    },
    {
      "cell_type": "code",
      "metadata": {
        "id": "ys0hBymGgL_j"
      },
      "source": [
        "varietyResult <- apply(test_tdmFinal,2,function(x) rownames(centroids)[which.max(cosine(cbind(t(centroids),x))[10,1:8])])"
      ],
      "execution_count": 24,
      "outputs": []
    },
    {
      "cell_type": "code",
      "metadata": {
        "colab": {
          "base_uri": "https://localhost:8080/"
        },
        "id": "wlxKkHrUv6AZ",
        "outputId": "c15e1366-894b-4054-bb79-aa56ff0b44ee"
      },
      "source": [
        "print(paste(\"Accuracy:\", sum(varietyResult == test_variety)/length(test_variety)))"
      ],
      "execution_count": 25,
      "outputs": [
        {
          "output_type": "stream",
          "text": [
            "[1] \"Accuracy: 0.765419734904271\"\n"
          ],
          "name": "stdout"
        }
      ]
    },
    {
      "cell_type": "code",
      "metadata": {
        "colab": {
          "base_uri": "https://localhost:8080/"
        },
        "id": "e2NCG1wXw4b_",
        "outputId": "c3b68794-6929-4d24-dc49-0cd428d4b8dc"
      },
      "source": [
        "for (x in unique(test_variety)){\n",
        "  precision <- sum(test_variety[varietyResult==x]==x)/sum(varietyResult==x)\n",
        "  recall <- sum(varietyResult[test_variety==x]==x)/sum(test_variety==x)\n",
        "  f1 <- precision*recall*2/(precision+recall)\n",
        "  print(x)\n",
        "  print(paste(\"Precision: \",precision))\n",
        "  print(paste(\"Recall: \",recall))\n",
        "  print(paste(\"F1-Measure: \",f1))\n",
        "  }"
      ],
      "execution_count": 26,
      "outputs": [
        {
          "output_type": "stream",
          "text": [
            "[1] \"Riesling\"\n",
            "[1] \"Precision:  0.776047904191617\"\n",
            "[1] \"Recall:  0.837750484809308\"\n",
            "[1] \"F1-Measure:  0.805719614547715\"\n",
            "[1] \"Cabernet Sauvignon\"\n",
            "[1] \"Precision:  0.787631271878646\"\n",
            "[1] \"Recall:  0.683428957138036\"\n",
            "[1] \"F1-Measure:  0.731839537405132\"\n",
            "[1] \"Pinot Noir\"\n",
            "[1] \"Precision:  0.858701298701299\"\n",
            "[1] \"Recall:  0.811487481590574\"\n",
            "[1] \"F1-Measure:  0.834427057041898\"\n",
            "[1] \"Merlot\"\n",
            "[1] \"Precision:  0.488593155893536\"\n",
            "[1] \"Recall:  0.549732620320856\"\n",
            "[1] \"F1-Measure:  0.517362858580775\"\n",
            "[1] \"Chardonnay\"\n",
            "[1] \"Precision:  0.847521865889213\"\n",
            "[1] \"Recall:  0.825617722238001\"\n",
            "[1] \"F1-Measure:  0.836426413465688\"\n",
            "[1] \"Syrah\"\n",
            "[1] \"Precision:  0.628066172276098\"\n",
            "[1] \"Recall:  0.691582914572864\"\n",
            "[1] \"F1-Measure:  0.658295964125561\"\n",
            "[1] \"Sauvignon Blanc\"\n",
            "[1] \"Precision:  0.689138576779026\"\n",
            "[1] \"Recall:  0.724885095206829\"\n",
            "[1] \"F1-Measure:  0.70656\"\n",
            "[1] \"Nebbiolo\"\n",
            "[1] \"Precision:  0.706781279847182\"\n",
            "[1] \"Recall:  0.902439024390244\"\n",
            "[1] \"F1-Measure:  0.79271558650241\"\n"
          ],
          "name": "stdout"
        }
      ]
    },
    {
      "cell_type": "markdown",
      "metadata": {
        "id": "InTErCdpfcdC"
      },
      "source": [
        "### **K-NN**"
      ]
    },
    {
      "cell_type": "code",
      "metadata": {
        "id": "KdUrdZ86J3td"
      },
      "source": [
        "cl <- makeCluster(detectCores())"
      ],
      "execution_count": 23,
      "outputs": []
    },
    {
      "cell_type": "code",
      "metadata": {
        "id": "m5x1yYxLP7EY"
      },
      "source": [
        "find_KNN <- function(trainX,trainY,X,K) names(sort(table(trainY[sapply(colnames(trainX), `%in%`, names(head(sort(cosine(X, trainX), decreasing = T),K)))]),decreasing=TRUE)[1])"
      ],
      "execution_count": 24,
      "outputs": []
    },
    {
      "cell_type": "code",
      "metadata": {
        "id": "A-yAZRH9i2rD"
      },
      "source": [
        "KNN <- function(trainX,trainY,testX,testY,K){\n",
        "  sapply(1:10, function(x) names(sort(table(trainY[sapply(colnames(trainX), `%in%`, names(head(sort(cosine(testX[,x], trainX), decreasing = T),K)))]),decreasing=TRUE)[1])==testY[x])\n",
        "  }"
      ],
      "execution_count": 25,
      "outputs": []
    },
    {
      "cell_type": "code",
      "metadata": {
        "id": "5nUc1N0yN-jy"
      },
      "source": [
        "clusterExport (cl, varlist = c(\"test_tdmFinal\", \"train_tdmFinal\", \"train_variety\", \"find_KNN\",\"cosine\"))"
      ],
      "execution_count": 26,
      "outputs": []
    },
    {
      "cell_type": "code",
      "metadata": {
        "id": "r717rqtTfwMg"
      },
      "source": [
        "KNNResult30 <- parSapply(cl, 1:length(test_variety), function(x) find_KNN(train_tdmFinal,train_variety,test_tdmFinal[,x], 30))"
      ],
      "execution_count": 27,
      "outputs": []
    },
    {
      "cell_type": "code",
      "metadata": {
        "colab": {
          "base_uri": "https://localhost:8080/"
        },
        "id": "rKG1P2aylGln",
        "outputId": "e023f11a-6098-4261-887d-399af1467cb1"
      },
      "source": [
        "print(paste(\"Accuracy:\",sum(KNNResult30==test_variety)/length(test_variety)))"
      ],
      "execution_count": 29,
      "outputs": [
        {
          "output_type": "stream",
          "text": [
            "[1] \"Accuracy: 0.753755522827688\"\n"
          ],
          "name": "stdout"
        }
      ]
    },
    {
      "cell_type": "code",
      "metadata": {
        "colab": {
          "base_uri": "https://localhost:8080/"
        },
        "id": "k1gkLfJQWewd",
        "outputId": "e44d6bf8-be18-4ee7-ae6c-1c6b6aed4997"
      },
      "source": [
        "for (x in unique(test_variety)){\n",
        "  precision <- sum(test_variety[KNNResult30==x]==x)/sum(KNNResult30==x)\n",
        "  recall <- sum(KNNResult30[test_variety==x]==x)/sum(test_variety==x)\n",
        "  f1 <- precision*recall*2/(precision+recall)\n",
        "  print(x)\n",
        "  print(paste(\"Precision: \",precision))\n",
        "  print(paste(\"Recall: \",recall))\n",
        "  print(paste(\"F1-Measure: \",f1))\n",
        "  }"
      ],
      "execution_count": 30,
      "outputs": [
        {
          "output_type": "stream",
          "text": [
            "[1] \"Riesling\"\n",
            "[1] \"Precision:  0.842030021443888\"\n",
            "[1] \"Recall:  0.76147382029735\"\n",
            "[1] \"F1-Measure:  0.799728445349627\"\n",
            "[1] \"Cabernet Sauvignon\"\n",
            "[1] \"Precision:  0.651200431615862\"\n",
            "[1] \"Recall:  0.814714816064799\"\n",
            "[1] \"F1-Measure:  0.72383808095952\"\n",
            "[1] \"Pinot Noir\"\n",
            "[1] \"Precision:  0.762093227792436\"\n",
            "[1] \"Recall:  0.850760922925871\"\n",
            "[1] \"F1-Measure:  0.80398979355138\"\n",
            "[1] \"Merlot\"\n",
            "[1] \"Precision:  0.850393700787402\"\n",
            "[1] \"Recall:  0.231016042780749\"\n",
            "[1] \"F1-Measure:  0.363330529857023\"\n",
            "[1] \"Chardonnay\"\n",
            "[1] \"Precision:  0.737000928505107\"\n",
            "[1] \"Recall:  0.901732462368645\"\n",
            "[1] \"F1-Measure:  0.811086984289181\"\n",
            "[1] \"Syrah\"\n",
            "[1] \"Precision:  0.826388888888889\"\n",
            "[1] \"Recall:  0.448492462311558\"\n",
            "[1] \"F1-Measure:  0.5814332247557\"\n",
            "[1] \"Sauvignon Blanc\"\n",
            "[1] \"Precision:  0.833178005591799\"\n",
            "[1] \"Recall:  0.586999343401182\"\n",
            "[1] \"F1-Measure:  0.688751926040062\"\n",
            "[1] \"Nebbiolo\"\n",
            "[1] \"Precision:  0.897810218978102\"\n",
            "[1] \"Recall:  0.9\"\n",
            "[1] \"F1-Measure:  0.898903775883069\"\n"
          ],
          "name": "stdout"
        }
      ]
    },
    {
      "cell_type": "markdown",
      "metadata": {
        "id": "ySBCKQL4ufzU"
      },
      "source": [
        "### **Multinomial Naive Bayes**"
      ]
    },
    {
      "cell_type": "code",
      "metadata": {
        "id": "2L1NVGBI6B9z"
      },
      "source": [
        "mnb <- multinomial_naive_bayes(t(train_tdmFinal), train_variety, laplace=0.01)"
      ],
      "execution_count": 138,
      "outputs": []
    },
    {
      "cell_type": "code",
      "metadata": {
        "colab": {
          "base_uri": "https://localhost:8080/"
        },
        "id": "iotpe5EX9agL",
        "outputId": "5225384a-c353-407f-e494-2d2c5893b2de"
      },
      "source": [
        "summary(mnb)"
      ],
      "execution_count": 139,
      "outputs": [
        {
          "output_type": "stream",
          "text": [
            "\n",
            "============================ Multinomial Naive Bayes ============================ \n",
            " \n",
            "- Call: multinomial_naive_bayes(x = t(train_tdmFinal), y = train_variety,      laplace = 0.01) \n",
            "- Laplace: 0.01 \n",
            "- Classes: 8 \n",
            "- Samples: 34462 \n",
            "- Features: 672 \n",
            "- Prior probabilities: \n",
            "    - Cabernet Sauvignon: 0.1704\n",
            "    - Chardonnay: 0.2131\n",
            "    - Merlot: 0.0568\n",
            "    - Nebbiolo: 0.0517\n",
            "    - Pinot Noir: 0.238\n",
            "    - Riesling: 0.0936\n",
            "    - Sauvignon Blanc: 0.0885\n",
            "    - Syrah: 0.0877\n",
            "\n",
            "--------------------------------------------------------------------------------- \n"
          ],
          "name": "stdout"
        }
      ]
    },
    {
      "cell_type": "code",
      "metadata": {
        "id": "DV43PalU9_gL"
      },
      "source": [
        "bayesResult<- mnb %class% t(test_tdmFinal)"
      ],
      "execution_count": 145,
      "outputs": []
    },
    {
      "cell_type": "code",
      "metadata": {
        "colab": {
          "base_uri": "https://localhost:8080/"
        },
        "id": "x9TWrcEOCOuS",
        "outputId": "ee6de215-b141-4554-d2bd-07c035a2cd74"
      },
      "source": [
        "print(paste(\"Accuracy:\",sum(bayesResult==test_variety)/length(test_variety)))"
      ],
      "execution_count": 147,
      "outputs": [
        {
          "output_type": "stream",
          "text": [
            "[1] \"Accuracy: 0.759293078055965\"\n"
          ],
          "name": "stdout"
        }
      ]
    },
    {
      "cell_type": "code",
      "metadata": {
        "colab": {
          "base_uri": "https://localhost:8080/"
        },
        "id": "YDy6cYa0COuY",
        "outputId": "4805f219-a087-4c44-8d77-ca0cd0d3e2b5"
      },
      "source": [
        "for (x in unique(test_variety)){\n",
        "  precision <- sum(test_variety[bayesResult==x]==x)/sum(bayesResult==x)\n",
        "  recall <- sum(bayesResult[test_variety==x]==x)/sum(test_variety==x)\n",
        "  f1 <- precision*recall*2/(precision+recall)\n",
        "  print(x)\n",
        "  print(paste(\"Precision: \",precision))\n",
        "  print(paste(\"Recall: \",recall))\n",
        "  print(paste(\"F1-Measure: \",f1))\n",
        "  }"
      ],
      "execution_count": 148,
      "outputs": [
        {
          "output_type": "stream",
          "text": [
            "[1] \"Riesling\"\n",
            "[1] \"Precision:  0.89928628072958\"\n",
            "[1] \"Recall:  0.733031674208145\"\n",
            "[1] \"F1-Measure:  0.807692307692308\"\n",
            "[1] \"Cabernet Sauvignon\"\n",
            "[1] \"Precision:  0.653366583541147\"\n",
            "[1] \"Recall:  0.795815052311846\"\n",
            "[1] \"F1-Measure:  0.717589774802191\"\n",
            "[1] \"Pinot Noir\"\n",
            "[1] \"Precision:  0.726893148605048\"\n",
            "[1] \"Recall:  0.940108001963672\"\n",
            "[1] \"F1-Measure:  0.819865139676763\"\n",
            "[1] \"Merlot\"\n",
            "[1] \"Precision:  0.979591836734694\"\n",
            "[1] \"Recall:  0.0513368983957219\"\n",
            "[1] \"F1-Measure:  0.0975609756097561\"\n",
            "[1] \"Chardonnay\"\n",
            "[1] \"Precision:  0.759331348752004\"\n",
            "[1] \"Recall:  0.941777904004544\"\n",
            "[1] \"F1-Measure:  0.840770791075051\"\n",
            "[1] \"Syrah\"\n",
            "[1] \"Precision:  0.862547288776797\"\n",
            "[1] \"Recall:  0.42964824120603\"\n",
            "[1] \"F1-Measure:  0.573584905660377\"\n",
            "[1] \"Sauvignon Blanc\"\n",
            "[1] \"Precision:  0.893203883495146\"\n",
            "[1] \"Recall:  0.543663821405121\"\n",
            "[1] \"F1-Measure:  0.675918367346939\"\n",
            "[1] \"Nebbiolo\"\n",
            "[1] \"Precision:  0.987142857142857\"\n",
            "[1] \"Recall:  0.842682926829268\"\n",
            "[1] \"F1-Measure:  0.909210526315789\"\n"
          ],
          "name": "stdout"
        }
      ]
    },
    {
      "cell_type": "markdown",
      "metadata": {
        "id": "dps1XBsGFO9N"
      },
      "source": [
        "### **Bernoulli Naive Bayes**"
      ]
    },
    {
      "cell_type": "code",
      "metadata": {
        "id": "AagBfiQvFO9O"
      },
      "source": [
        "bnb <- bernoulli_naive_bayes(as.matrix((t(train_tdmFinal)>0)+0), train_variety, laplace=0.0001)"
      ],
      "execution_count": 69,
      "outputs": []
    },
    {
      "cell_type": "code",
      "metadata": {
        "colab": {
          "base_uri": "https://localhost:8080/"
        },
        "id": "czGOVyLfFO9P",
        "outputId": "ae952537-9ce7-449a-d82a-c54ee366a603"
      },
      "source": [
        "summary(bnb)"
      ],
      "execution_count": 70,
      "outputs": [
        {
          "output_type": "stream",
          "text": [
            "\n",
            "============================= Bernoulli Naive Bayes ============================= \n",
            " \n",
            "- Call: bernoulli_naive_bayes(x = as.matrix((t(train_tdmFinal) > 0) +      0), y = train_variety, laplace = 1e-04) \n",
            "- Laplace: 1e-04 \n",
            "- Classes: 8 \n",
            "- Samples: 34462 \n",
            "- Features: 672 \n",
            "- Prior probabilities: \n",
            "    - Cabernet Sauvignon: 0.1704\n",
            "    - Chardonnay: 0.2131\n",
            "    - Merlot: 0.0568\n",
            "    - Nebbiolo: 0.0517\n",
            "    - Pinot Noir: 0.238\n",
            "    - Riesling: 0.0936\n",
            "    - Sauvignon Blanc: 0.0885\n",
            "    - Syrah: 0.0877\n",
            "\n",
            "--------------------------------------------------------------------------------- \n"
          ],
          "name": "stdout"
        }
      ]
    },
    {
      "cell_type": "code",
      "metadata": {
        "id": "B0QVIZCGFO9P"
      },
      "source": [
        "bayesResult<- bnb %class% t(test_tdmFinal)"
      ],
      "execution_count": 71,
      "outputs": []
    },
    {
      "cell_type": "code",
      "metadata": {
        "colab": {
          "base_uri": "https://localhost:8080/"
        },
        "id": "0kxW7YYMFO9Q",
        "outputId": "dd2d43b6-9aea-49c3-e56d-7fd1d809a1ab"
      },
      "source": [
        "print(paste(\"Accuracy:\",sum(bayesResult==test_variety)/length(test_variety)))"
      ],
      "execution_count": 72,
      "outputs": [
        {
          "output_type": "stream",
          "text": [
            "[1] \"Accuracy: 0.705449189985273\"\n"
          ],
          "name": "stdout"
        }
      ]
    },
    {
      "cell_type": "code",
      "metadata": {
        "colab": {
          "base_uri": "https://localhost:8080/"
        },
        "id": "NeJZHguuFO9Q",
        "outputId": "0b981f33-61a1-4f42-9008-3e1cbf03284c"
      },
      "source": [
        "for (x in unique(test_variety)){\n",
        "  precision <- sum(test_variety[bayesResult==x]==x)/sum(bayesResult==x)\n",
        "  recall <- sum(bayesResult[test_variety==x]==x)/sum(test_variety==x)\n",
        "  f1 <- precision*recall*2/(precision+recall)\n",
        "  print(x)\n",
        "  print(paste(\"Precision: \",precision))\n",
        "  print(paste(\"Recall: \",recall))\n",
        "  print(paste(\"F1-Measure: \",f1))\n",
        "  }"
      ],
      "execution_count": 73,
      "outputs": [
        {
          "output_type": "stream",
          "text": [
            "[1] \"Riesling\"\n",
            "[1] \"Precision:  0.96045197740113\"\n",
            "[1] \"Recall:  0.549450549450549\"\n",
            "[1] \"F1-Measure:  0.699013157894737\"\n",
            "[1] \"Cabernet Sauvignon\"\n",
            "[1] \"Precision:  0.746906636670416\"\n",
            "[1] \"Recall:  0.672291596355046\"\n",
            "[1] \"F1-Measure:  0.707637655417407\"\n",
            "[1] \"Pinot Noir\"\n",
            "[1] \"Precision:  0.652127470179811\"\n",
            "[1] \"Recall:  0.899116347569956\"\n",
            "[1] \"F1-Measure:  0.755959137343927\"\n",
            "[1] \"Merlot\"\n",
            "[1] \"Precision:  0.528995756718529\"\n",
            "[1] \"Recall:  0.4\"\n",
            "[1] \"F1-Measure:  0.455542021924482\"\n",
            "[1] \"Chardonnay\"\n",
            "[1] \"Precision:  0.675105485232067\"\n",
            "[1] \"Recall:  0.95427435387674\"\n",
            "[1] \"F1-Measure:  0.790774299835255\"\n",
            "[1] \"Syrah\"\n",
            "[1] \"Precision:  0.8672\"\n",
            "[1] \"Recall:  0.340452261306533\"\n",
            "[1] \"F1-Measure:  0.488949030221019\"\n",
            "[1] \"Sauvignon Blanc\"\n",
            "[1] \"Precision:  0.761979575805185\"\n",
            "[1] \"Recall:  0.636900853578464\"\n",
            "[1] \"F1-Measure:  0.693848354792561\"\n",
            "[1] \"Nebbiolo\"\n",
            "[1] \"Precision:  1\"\n",
            "[1] \"Recall:  0.273170731707317\"\n",
            "[1] \"F1-Measure:  0.42911877394636\"\n"
          ],
          "name": "stdout"
        }
      ]
    },
    {
      "cell_type": "markdown",
      "metadata": {
        "id": "4UUDGFe4yn8Q"
      },
      "source": [
        "## **Applicazione di LSA**"
      ]
    },
    {
      "cell_type": "markdown",
      "metadata": {
        "id": "7UKIIc7R2MKk"
      },
      "source": [
        "### **Creazione spazio LSA**"
      ]
    },
    {
      "cell_type": "code",
      "metadata": {
        "colab": {
          "base_uri": "https://localhost:8080/",
          "height": 34
        },
        "id": "uetyuPv7NAtF",
        "outputId": "843577dd-01f3-457a-d8fe-4f45bb506b3d"
      },
      "source": [
        "words <- rownames(train_tdmFinal)\n",
        "head(words)"
      ],
      "execution_count": 74,
      "outputs": [
        {
          "output_type": "display_data",
          "data": {
            "text/plain": [
              "[1] \"aromas\"     \"astringent\" \"bit\"        \"blossom\"    \"finish\"    \n",
              "[6] \"guava\"     "
            ],
            "text/latex": "\\begin{enumerate*}\n\\item 'aromas'\n\\item 'astringent'\n\\item 'bit'\n\\item 'blossom'\n\\item 'finish'\n\\item 'guava'\n\\end{enumerate*}\n",
            "text/markdown": "1. 'aromas'\n2. 'astringent'\n3. 'bit'\n4. 'blossom'\n5. 'finish'\n6. 'guava'\n\n\n",
            "text/html": [
              "<style>\n",
              ".list-inline {list-style: none; margin:0; padding: 0}\n",
              ".list-inline>li {display: inline-block}\n",
              ".list-inline>li:not(:last-child)::after {content: \"\\00b7\"; padding: 0 .5ex}\n",
              "</style>\n",
              "<ol class=list-inline><li>'aromas'</li><li>'astringent'</li><li>'bit'</li><li>'blossom'</li><li>'finish'</li><li>'guava'</li></ol>\n"
            ]
          },
          "metadata": {
            "tags": []
          }
        }
      ]
    },
    {
      "cell_type": "code",
      "metadata": {
        "id": "JpHKsPtlS708"
      },
      "source": [
        "lsar <- lsa(train_tdmFinal)"
      ],
      "execution_count": 75,
      "outputs": []
    },
    {
      "cell_type": "code",
      "metadata": {
        "colab": {
          "base_uri": "https://localhost:8080/",
          "height": 34
        },
        "id": "FON3eOOpS_cq",
        "outputId": "a5c62c03-79c6-4613-ba00-4bb3dce4b7de"
      },
      "source": [
        "length(lsar$sk)"
      ],
      "execution_count": 76,
      "outputs": [
        {
          "output_type": "display_data",
          "data": {
            "text/plain": [
              "[1] 265"
            ],
            "text/latex": "265",
            "text/markdown": "265",
            "text/html": [
              "265"
            ]
          },
          "metadata": {
            "tags": []
          }
        }
      ]
    },
    {
      "cell_type": "markdown",
      "metadata": {
        "id": "UGlt1N_326l5"
      },
      "source": [
        "### **Grafico degli autovalori determinati in LSA**"
      ]
    },
    {
      "cell_type": "code",
      "metadata": {
        "colab": {
          "base_uri": "https://localhost:8080/",
          "height": 437
        },
        "id": "LTTFa7-FUUya",
        "outputId": "b14b1b92-8a36-4210-d28c-c558a338764c"
      },
      "source": [
        "plot(1:length(lsar$sk), lsar$sk, type=\"b\")"
      ],
      "execution_count": 79,
      "outputs": [
        {
          "output_type": "display_data",
          "data": {
            "image/png": "[encoded data removed]",
            "text/plain": [
              "plot without title"
            ]
          },
          "metadata": {
            "tags": [],
            "image/png": {
              "width": 420,
              "height": 420
            }
          }
        }
      ]
    },
    {
      "cell_type": "code",
      "metadata": {
        "id": "_B4WGI7UCsJ4"
      },
      "source": [
        ""
      ],
      "execution_count": null,
      "outputs": []
    }
  ]
}